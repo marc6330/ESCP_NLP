{
 "cells": [
  {
   "cell_type": "markdown",
   "source": [
    "Importing necessary modules"
   ],
   "metadata": {
    "collapsed": false,
    "pycharm": {
     "name": "#%% md\n"
    }
   }
  },
  {
   "cell_type": "code",
   "execution_count": 35,
   "outputs": [],
   "source": [
    "import pandas as pd\n"
   ],
   "metadata": {
    "collapsed": false,
    "pycharm": {
     "name": "#%%\n"
    }
   }
  },
  {
   "cell_type": "code",
   "execution_count": 36,
   "metadata": {
    "collapsed": true
   },
   "outputs": [],
   "source": [
    "df = pd.read_csv('C:/Users/Marc/Dropbox/06_ESCP/01_Uni/04_Term 2/10_NLP with Python/spam.csv')"
   ]
  },
  {
   "cell_type": "markdown",
   "source": [
    "inspecting Dataset"
   ],
   "metadata": {
    "collapsed": false,
    "pycharm": {
     "name": "#%% md\n"
    }
   }
  },
  {
   "cell_type": "code",
   "execution_count": 37,
   "outputs": [
    {
     "data": {
      "text/plain": "     v1                                                 v2 Unnamed: 2  \\\n0   ham  Go until jurong point, crazy.. Available only ...        NaN   \n1   ham                      Ok lar... Joking wif u oni...        NaN   \n2  spam  Free entry in 2 a wkly comp to win FA Cup fina...        NaN   \n3   ham  U dun say so early hor... U c already then say...        NaN   \n4   ham  Nah I don't think he goes to usf, he lives aro...        NaN   \n\n  Unnamed: 3 Unnamed: 4  \n0        NaN        NaN  \n1        NaN        NaN  \n2        NaN        NaN  \n3        NaN        NaN  \n4        NaN        NaN  ",
      "text/html": "<div>\n<style scoped>\n    .dataframe tbody tr th:only-of-type {\n        vertical-align: middle;\n    }\n\n    .dataframe tbody tr th {\n        vertical-align: top;\n    }\n\n    .dataframe thead th {\n        text-align: right;\n    }\n</style>\n<table border=\"1\" class=\"dataframe\">\n  <thead>\n    <tr style=\"text-align: right;\">\n      <th></th>\n      <th>v1</th>\n      <th>v2</th>\n      <th>Unnamed: 2</th>\n      <th>Unnamed: 3</th>\n      <th>Unnamed: 4</th>\n    </tr>\n  </thead>\n  <tbody>\n    <tr>\n      <th>0</th>\n      <td>ham</td>\n      <td>Go until jurong point, crazy.. Available only ...</td>\n      <td>NaN</td>\n      <td>NaN</td>\n      <td>NaN</td>\n    </tr>\n    <tr>\n      <th>1</th>\n      <td>ham</td>\n      <td>Ok lar... Joking wif u oni...</td>\n      <td>NaN</td>\n      <td>NaN</td>\n      <td>NaN</td>\n    </tr>\n    <tr>\n      <th>2</th>\n      <td>spam</td>\n      <td>Free entry in 2 a wkly comp to win FA Cup fina...</td>\n      <td>NaN</td>\n      <td>NaN</td>\n      <td>NaN</td>\n    </tr>\n    <tr>\n      <th>3</th>\n      <td>ham</td>\n      <td>U dun say so early hor... U c already then say...</td>\n      <td>NaN</td>\n      <td>NaN</td>\n      <td>NaN</td>\n    </tr>\n    <tr>\n      <th>4</th>\n      <td>ham</td>\n      <td>Nah I don't think he goes to usf, he lives aro...</td>\n      <td>NaN</td>\n      <td>NaN</td>\n      <td>NaN</td>\n    </tr>\n  </tbody>\n</table>\n</div>"
     },
     "execution_count": 37,
     "metadata": {},
     "output_type": "execute_result"
    }
   ],
   "source": [
    "df.head()"
   ],
   "metadata": {
    "collapsed": false,
    "pycharm": {
     "name": "#%%\n"
    }
   }
  },
  {
   "cell_type": "code",
   "execution_count": 38,
   "outputs": [],
   "source": [
    "# Renaming columns to ham / spam\n",
    "df.rename(columns = {'v1': 'class', 'v2': 'sms'}, inplace = True)"
   ],
   "metadata": {
    "collapsed": false,
    "pycharm": {
     "name": "#%%\n"
    }
   }
  },
  {
   "cell_type": "code",
   "execution_count": 39,
   "outputs": [],
   "source": [
    "# Replace ham with 0, and spam with 1\n",
    "df['class'] = df['class'].map({'ham': 0, 'spam':1})"
   ],
   "metadata": {
    "collapsed": false,
    "pycharm": {
     "name": "#%%\n"
    }
   }
  },
  {
   "cell_type": "code",
   "execution_count": 40,
   "outputs": [
    {
     "name": "stdout",
     "output_type": "stream",
     "text": [
      "<class 'pandas.core.frame.DataFrame'>\n",
      "RangeIndex: 5572 entries, 0 to 5571\n",
      "Data columns (total 5 columns):\n",
      " #   Column      Non-Null Count  Dtype \n",
      "---  ------      --------------  ----- \n",
      " 0   class       5572 non-null   int64 \n",
      " 1   sms         5572 non-null   object\n",
      " 2   Unnamed: 2  50 non-null     object\n",
      " 3   Unnamed: 3  12 non-null     object\n",
      " 4   Unnamed: 4  6 non-null      object\n",
      "dtypes: int64(1), object(4)\n",
      "memory usage: 217.8+ KB\n"
     ]
    }
   ],
   "source": [
    "df.info()"
   ],
   "metadata": {
    "collapsed": false,
    "pycharm": {
     "name": "#%%\n"
    }
   }
  },
  {
   "cell_type": "markdown",
   "source": [
    "Columns unnamed have 1% non NaN at most, therefore henceforth neglected"
   ],
   "metadata": {
    "collapsed": false,
    "pycharm": {
     "name": "#%% md\n"
    }
   }
  },
  {
   "cell_type": "code",
   "execution_count": 41,
   "outputs": [],
   "source": [
    "df = df[['class', 'sms']]"
   ],
   "metadata": {
    "collapsed": false,
    "pycharm": {
     "name": "#%%\n"
    }
   }
  },
  {
   "cell_type": "markdown",
   "source": [
    "Split Dataset into train and testset"
   ],
   "metadata": {
    "collapsed": false,
    "pycharm": {
     "name": "#%% md\n"
    }
   }
  },
  {
   "cell_type": "code",
   "execution_count": 42,
   "outputs": [],
   "source": [
    "from sklearn.model_selection import train_test_split"
   ],
   "metadata": {
    "collapsed": false,
    "pycharm": {
     "name": "#%%\n"
    }
   }
  },
  {
   "cell_type": "code",
   "execution_count": 43,
   "outputs": [],
   "source": [
    "x_train, x_test, y_train, y_test = train_test_split(df['sms'], df['class'], random_state=42, test_size = 0.2)"
   ],
   "metadata": {
    "collapsed": false,
    "pycharm": {
     "name": "#%%\n"
    }
   }
  },
  {
   "cell_type": "markdown",
   "source": [
    "# CountVectorizer\n",
    "https://www.youtube.com/watch?v=lBO1L8pgR9s&t=284s&ab_channel=UnfoldDataScience\n",
    "1. It looks at a first text and creates a word vector of all used words in the first text (in our case all the train sms)\n",
    "2. Counts the amount of times each different word in each sms of the test set is the word vector\n",
    "3. Predicts a category based on these counts"
   ],
   "metadata": {
    "collapsed": false,
    "pycharm": {
     "name": "#%% md\n"
    }
   }
  },
  {
   "cell_type": "code",
   "execution_count": 44,
   "outputs": [],
   "source": [
    "from sklearn.feature_extraction.text import CountVectorizer"
   ],
   "metadata": {
    "collapsed": false,
    "pycharm": {
     "name": "#%%\n"
    }
   }
  },
  {
   "cell_type": "code",
   "execution_count": 45,
   "outputs": [
    {
     "name": "stdout",
     "output_type": "stream",
     "text": [
      "{'no': 4755, 'in': 3624, 'the': 6763, 'same': 5851, 'boat': 1415, 'still': 6434, 'here': 3404, 'at': 1106, 'my': 4628, 'moms': 4530, 'check': 1754, 'me': 4371, 'out': 4969, 'on': 4893, 'yo': 7648, 'half': 3297, 'naked': 4643, 'bank': 1218, 'of': 4851, 'granite': 3226, 'issues': 3735, 'strong': 6473, 'buy': 1580, 'explosive': 2732, 'pick': 5159, 'for': 2944, 'our': 4967, 'members': 4404, 'up': 7128, 'over': 4984, '300': 419, 'nasdaq': 4657, 'symbol': 6618, 'cdgt': 1697, 'that': 6760, 'is': 3726, '00': 0, 'per': 5107, 'they': 6786, 'giving': 3146, 'second': 5928, 'chance': 1722, 'to': 6883, 'rahul': 5506, 'dengra': 2240, 'played': 5202, 'smash': 6197, 'bros': 1522, 'lt': 4216, 'gt': 3260, 'religiously': 5641, 'private': 5380, 'your': 7659, '2003': 345, 'account': 784, 'statement': 6408, '07973788240': 45, 'shows': 6088, '800': 630, 'un': 7075, 'redeemed': 5610, 'points': 5251, 'call': 1606, '08715203649': 122, 'identifier': 3580, 'code': 1880, '40533': 476, 'expires': 2727, '31': 430, '10': 255, '04': 15, 'says': 5885, 'you': 7653, 'never': 4714, 'answer': 976, 'texts': 6747, 'confirm': 1961, 'deny': 2246, '88066': 695, 'from': 3027, 'lost': 4180, '3pound': 463, 'help': 3390, 'okey': 4879, 'dokey': 2397, 'll': 4128, 'be': 1271, 'bit': 1367, 'just': 3853, 'sorting': 6283, 'some': 6245, 'stuff': 6488, 'why': 7449, 'come': 1907, 'between': 1334, 'people': 5105, 'wah': 7294, 'lucky': 4223, 'man': 4299, 'then': 6775, 'can': 1629, 'save': 5878, 'money': 4533, 'hee': 3379, 'much': 4596, 'better': 1331, 'now': 4805, 'thanks': 6754, 'lol': 4152, 'madam': 4267, 'regret': 5629, 'disturbance': 2354, 'might': 4437, 'receive': 5586, 'reference': 5614, 'dlf': 2364, 'premarica': 5340, 'kindly': 3919, 'informed': 3659, 'rgds': 5736, 'rakhesh': 5518, 'kerala': 3894, 'coming': 1913, 'home': 3461, 'dinner': 2322, 'ok': 4875, 'all': 911, 'decide': 2195, 'faster': 2788, 'cos': 2017, 'sis': 6137, 'going': 3171, 'liao': 4062, 'hi': 3414, 'mate': 4346, 'its': 3743, 'rv': 5820, 'did': 2298, 'hav': 3348, 'nice': 4729, 'hol': 3451, 'message': 4420, 'say': 5882, 'hello': 3387, 'coz': 2044, 'haven': 3351, 'sent': 5974, 'ages': 868, 'started': 6401, 'driving': 2458, 'so': 6231, 'stay': 6412, 'off': 4853, 'roads': 5760, 'rvx': 5821, 'amazing': 933, 'if': 3587, 'rearrange': 5572, 'these': 6782, 'letters': 4059, 'it': 3736, 'gives': 3145, 'meaning': 4375, 'dormitory': 2416, 'dirty': 2332, 'room': 5777, 'astronomer': 1103, 'moon': 4545, 'starer': 6395, 'eyes': 2743, 'see': 5940, 'election': 2563, 'results': 5717, 'lies': 4070, 'lets': 4057, 'recount': 5604, 'mother': 4557, 'law': 4010, 'woman': 7515, 'hitler': 3433, 'eleven': 2567, 'plus': 5223, 'two': 7040, 'twelve': 7033, 'one': 4899, 'good': 3182, 'morning': 4550, 'plz': 5225, 'sir': 6135, 'actually': 807, 'guys': 3279, 'meet': 4389, 'sunoco': 6556, 'howard': 3510, 'should': 6074, 'right': 5744, 'way': 7356, 'new': 4717, 'theory': 6778, 'argument': 1044, 'wins': 7478, 'situation': 6145, 'but': 1575, 'loses': 4177, 'person': 5122, 'dont': 2408, 'argue': 1043, 'with': 7490, 'ur': 7146, 'friends': 3012, 'kick': 3905, 'them': 6771, 'amp': 946, 'always': 930, 'correct': 2013, 'oh': 4871, 'yeah': 7624, 'and': 956, 'diet': 2305, 'flew': 2899, 'window': 7469, 'watching': 7346, 'cartoon': 1672, 'listening': 4116, 'music': 4618, 'eve': 2662, 'had': 3287, 'go': 3158, 'temple': 6715, 'church': 1815, 'what': 7421, 'about': 760, 'india': 3647, 'win': 7467, 'or': 4935, 'level': 4060, 'series': 5980, 'means': 4377, 'this': 6802, 'record': 5600, 'armand': 1050, 'get': 3118, 'ass': 1090, 'epsilon': 2628, 'tell': 6705, 'her': 3403, 'said': 5838, 'eat': 2517, 'shit': 6047, 'phone': 5145, 'phoned': 5148, 'disconnected': 2342, 'please': 5210, 'customer': 2120, 'service': 5984, 'representative': 5682, 'freephone': 2997, '0808': 58, '145': 298, '4742': 501, '9am': 735, '11pm': 277, 'as': 1072, 'have': 3350, 'won': 7518, 'guaranteed': 3262, '1000': 257, 'cash': 1674, '5000': 531, 'prize': 5383, 'hey': 3411, 'sweet': 6602, 'was': 7335, 'wondering': 7522, 'when': 7428, 'moment': 4528, 'want': 7324, 'send': 5965, 'file': 2843, 'someone': 6249, 'yahoo': 7612, 'because': 1281, 'their': 6768, 'connection': 1972, 'sucks': 6522, 'remember': 5647, 'set': 5987, 'page': 5010, 'download': 2428, 'format': 2962, 'disc': 2339, 'could': 2026, 'how': 3509, 'do': 2368, 'know': 3937, 'other': 4959, 'big': 1348, 'files': 2844, 'directly': 2328, 'internet': 3693, 'any': 986, 'would': 7552, 'great': 3236, 'prey': 5365, 'teasing': 6693, 'kiss': 3924, 'purity': 5458, 'friendship': 3014, 'not': 4791, 'smiling': 6204, 'after': 853, 'reading': 5559, 'forwarded': 2970, 'by': 1590, 'seeing': 5942, 'name': 4646, 'gud': 3264, 'evng': 2686, 'heard': 3370, 'u4': 7058, 'while': 7437, 'am': 932, 'night': 4737, 'knickers': 3934, 'make': 4291, 'beg': 1300, 'like': 4081, 'last': 3993, 'time': 6852, '01223585236': 6, 'xx': 7599, 'luv': 4231, 'nikiyu4': 4742, 'net': 4704, 'will': 7464, 'place': 5187, 'welp': 7401, 'apparently': 1009, 'he': 3359, 'retired': 5721, 'haha': 3289, 'leh': 4043, 'later': 3999, 'got': 3200, 'tuition': 7023, 'looking': 4166, 'empty': 2585, 'slots': 6185, 'lessons': 4055, 'aiyar': 889, 'hard': 3331, 'type': 7054, 'free': 2989, 'scold': 5898, 'close': 1847, 'wat': 7341, 'late': 3996, 'early': 2506, 'mah': 4278, 'we': 7361, 'juz': 3857, 'lor': 4174, 'aiya': 887, 'dunno': 2488, 'yup': 7678, 'paragon': 5039, 'havent': 3352, 'decided': 2196, 'whether': 7435, 'cut': 2123, 'yet': 7639, 'tv': 7031, 'job': 3809, '2004': 346, '07742676969': 30, '786': 618, 'unredeemed': 7119, 'bonus': 1425, 'claim': 1823, '08719180248': 152, '45239': 498, 'run': 5814, 'ttyl': 7018, 'love': 4194, 'goes': 3166, 'day': 2173, 'wish': 7483, 'well': 7400, 'fine': 2861, 'babe': 1183, 'hope': 3479, 'find': 2859, 'prospects': 5426, 'miss': 4472, 'boytoy': 1474, 'zoe': 7687, 'hit': 3432, 'im': 3602, 'fucking': 3038, 'shitin': 6049, 'myself': 4632, 'il': 3597, 'defo': 2219, 'try': 7007, 'hardest': 3334, 'cum': 2109, '2morow': 393, 'millions': 4444, 'lekdog': 4045, 'text': 6737, 'cup': 2111, 'stop': 6446, 'work': 7532, 'bus': 1568, 'congratulations': 1969, 'ore': 4944, 'mo': 4502, 'owo': 4999, 're': 5549, 'wa': 7290, 'enjoy': 2601, 'many': 4313, 'happy': 3330, 'moments': 4529, 'fro': 3025, 'wherever': 7433, 'suffering': 6527, 'fever': 2825, 'dysentry': 2499, 'able': 758, 'office': 4861, 'today': 6889, 'pa': 5003, 'pain': 5014, 'de': 2180, 'seventeen': 5994, 'pounds': 5304, 'seven': 5993, 'hundred': 3536, 'ml': 4492, 'complain': 1930, 'num': 4816, 'only': 4905, 'bettr': 1333, 'bsnl': 1537, 'offc': 4854, 'nd': 4675, 'apply': 1014, 'kate': 3879, 'jackson': 3761, 'rec': 5582, 'center': 1707, 'before': 1298, '7ish': 623, 'congratulation': 1968, 'whatsup': 7424, 'there': 6780, 'sleep': 6168, '12': 278, 'japanese': 3777, 'proverb': 5428, 'too': 6920, 'none': 4772, 'must': 4621, 'indian': 3648, 'version': 7217, 'let': 4056, 'him': 3424, 'leave': 4032, 'finally': 2856, 'doing': 2394, 'strike': 6469, 'against': 861, 'search': 5923, 'happiness': 3329, 'main': 4287, 'sources': 6295, 'unhappiness': 7099, 'accept': 772, 'life': 4071, 'comes': 1909, 'every': 2670, 'live': 4121, 'faith': 2761, 'makes': 4292, 'things': 6792, 'possible': 5289, 'beautiful': 1277, 'may': 4364, 'three': 6819, 'christmas': 1811, 'merry': 4417, 'ya': 7611, 'class': 1829, 'holla': 3457, 'space': 6301, 'invaders': 3700, 'orig': 4951, 'arcade': 1035, 'game': 3072, 'console': 1980, 'press': 5354, 'games': 3073, 'std': 6417, 'wap': 7329, 'charge': 1733, 'o2': 4834, 'co': 1871, 'uk': 7066, 'terms': 6723, 'settings': 5989, 'purchase': 5455, 'house': 3506, 'water': 7348, 'dock': 2372, 'rolled': 5772, 'newscaster': 4723, 'who': 7442, 'dabbles': 2137, 'jazz': 3785, 'flute': 2917, 'behind': 1306, 'wheel': 7426, 'baby': 1186, 'pictures': 5166, 'facebook': 2748, 'thx': 6837, 'few': 2826, 'months': 4543, 'mrng': 4576, 'dear': 2186, 'yar': 7617, 'wanted': 7326, 'yest': 7637, 'already': 921, 'where': 7431, 'zhong': 7686, 'se': 5921, 'qing': 5476, 'ask': 1080, 'b4': 1174, 'act': 796, 'real': 5561, 'slowly': 6189, 'god': 3164, 'need': 4688, 'clean': 1835, 'heart': 3371, 'blood': 1401, 'ten': 6716, 'special': 6313, 'miracle': 4464, 'tomorrow': 6907, 'pls': 5218, 'yes': 7636, 'princess': 5373, 'catch': 1683, 'hands': 3309, 'wait': 7299, 'wesleys': 7412, 'town': 6951, 'bet': 1328, 'she': 6027, 'does': 2380, 'hella': 3386, 'drugs': 2465, 'problem': 5388, 'renewal': 5662, 'away': 1163, 'his': 3430, 'details': 2274, 'part': 5049, 'don': 2404, 'initiate': 3664, 'understand': 7090, 'has': 3341, 'color': 1897, 'dreams': 2445, 'stars': 6398, 'musical': 4619, 'sms': 6212, 'give': 3144, 'warm': 7330, 'peaceful': 5094, 'are': 1037, 'stand': 6389, 'doesn': 2382, 'ache': 789, 'without': 7493, 'wonder': 7520, 'crave': 2059, 'urgent': 7150, 'important': 3614, 'information': 3658, 'user': 7167, 'log': 4146, 'onto': 4908, 'http': 3523, 'www': 7585, 'urawinner': 7147, 'com': 1901, 'fantastic': 2781, 'surprise': 6581, 'awaiting': 1159, 'oz': 5002, 'guy': 3278, 'being': 1308, 'kinda': 3918, 'flaky': 2892, 'friend': 3011, 'interested': 3691, 'picking': 5161, 'worth': 7547, 'tonight': 6916, 'waiting': 7302, 'machan': 4261, 'once': 4897, 'honeybee': 3468, 'sweetest': 6603, 'world': 7539, 'laughed': 4004, 'havnt': 3356, 'met': 4426, 'msg': 4579, 'moral': 4546, 'even': 2664, 'crack': 2051, 'jokes': 3819, 'gm': 3153, 'gn': 3155, 'ge': 3100, 'gas': 3086, 'station': 6410, 'ammae': 941, 'takes': 6643, 'lot': 4181, 'turns': 7029, 'sit': 6140, 'hold': 3452, 'steering': 6423, 'hmm': 3443, 'shall': 6012, 'bring': 1509, 'bottle': 1448, 'wine': 7472, 'keep': 3886, 'us': 7159, 'amused': 951, 'joking': 3821, 'red': 5609, 'white': 7440, 'sorry': 6279, 'missed': 4474, 'slept': 6175, 'lesson': 4054, 'thanx': 6757, 'gd': 3099, 'nite': 4748, 'polyphonic': 5263, 'tone': 6909, 'mob': 4504, 'week': 7383, 'txt': 7041, 'pt2': 5440, '87575': 692, '1st': 332, 'txtin': 7046, '150p': 305, '16': 316, 'reply': 5677, 'hl': 3438, '4info': 516, 'nothing': 4795, 'really': 5569, 'making': 4294, 'sure': 6574, 'everybody': 2672, 'speed': 6322, 'holding': 3454, 'tightly': 6845, 'mean': 4374, 'mom': 4527, 'fit': 2881, 'whole': 7443, 'family': 2773, 'crazy': 2061, 'terrible': 6725, 'cool': 2004, 'ta': 6627, 'tired': 6860, 'cause': 1688, 'been': 1292, 'doin': 2392, 'loads': 4135, 'planning': 5197, 'wk': 7499, 'social': 6233, 'services': 5985, 'inspection': 3678, 'nursery': 4819, 'take': 6640, 'care': 1652, 'spk': 6342, 'sn': 6218, 'light': 4078, 'turned': 7027, 'green': 3240, 'meant': 4378, 'another': 973, 'around': 1056, 'que': 5480, 'pases': 5059, 'buen': 1547, 'tiempo': 6843, 'something': 6255, 'telugu': 6711, 'movie': 4569, 'abt': 766, 'mm': 4493, 'enough': 2608, 'winner': 7475, 'valued': 7192, 'network': 4710, 'selected': 5952, 'receivea': 5587, '900': 718, 'reward': 5734, '09061701461': 192, 'kl341': 3929, 'valid': 7188, 'hours': 3505, 'raining': 5510, 'non': 4770, 'wan': 7319, 'elsewhere': 2571, 'otherwise': 4961, 'na': 4636, 'words': 7531, 'dismay': 2348, 'times': 6853, 'oooh': 4912, 'bed': 1287, 'ridden': 5742, 'ey': 2740, 'thinking': 6796, 'oclock': 4847, 'mine': 4451, 'bash': 1238, 'flat': 2895, 'plan': 5192, 'gsoh': 3259, 'spam': 6305, 'ladies': 3966, 'male': 4296, 'gigolo': 3134, 'join': 3814, 'fastest': 2789, 'growing': 3253, 'mens': 4410, 'club': 1856, 'oncall': 4896, 'mjzgroup': 4490, '08714342399': 117, '2stop': 407, '50rcvd': 539, 'gram': 3219, 'usually': 7175, 'runs': 5816, 'eighth': 2553, 'smarter': 6196, 'though': 6812, 'gets': 3121, 'almost': 917, 'crab': 2050, 'running': 5815, 'sea': 5922, 'shore': 6064, 'waves': 7355, 'came': 1625, 'cleared': 1838, 'footprints': 2942, 'asked': 1082, 'frnd': 3018, 'clearing': 1840, 'replied': 5675, 'fox': 2976, 'following': 2930, 'thats': 6762, 'frndsship': 3022, 'dwn': 2497, 'nyt': 4832, 'jus': 3852, 'lido': 4068, '930': 723, 'gnarls': 3156, 'barkleys': 1229, 'ringtone': 5751, 'totally': 6943, 'saying': 5884, 'official': 4863, 'england': 2599, 'poly': 5259, 'colour': 1898, 'flag': 2890, 'yer': 7635, 'mobile': 4506, 'tonights': 6917, '84199': 670, 'optout': 4934, 'eng': 2594, 'box39822': 1462, 'w111wx': 7281, '50': 529, 'also': 924, 'thk': 6803, 'fast': 2787, 'xy': 7609, 'suggest': 6534, 'dun': 2486, 'rain': 5509, 'fran': 2980, 'completely': 1935, 'broke': 1519, 'an': 953, 'knackered': 3930, 'bout': 1451, '2mrw': 398, 'janx': 3775, 'dads': 2141, 'fone': 2933, 'credit': 2067, 'welcome': 7398, 'improved': 3622, 'sex': 5996, 'dogging': 2388, 'unsubscribe': 7123, 'msgs': 4584, '18': 320, 'no1': 4756, 'nokia': 4765, '8077': 643, 'txting': 7047, 'mates': 4347, 'getzed': 3125, 'pobox': 5230, '36504': 443, 'w45wq': 7288, 'norm150p': 4783, 'swimming': 6608, 'pool': 5267, 'jacuzzi': 3762, 'course': 2037, 'guess': 3267, 'getting': 3124, 'whos': 7446, 'loosu': 4173, 'hospital': 3493, 'careless': 1659, 'roommate': 5779, 'wants': 7328, 'dubsack': 2476, 'bringing': 1510, 'extra': 2739, 'den': 2238, 'shld': 6053, 'went': 7405, 'gee': 3101, 'nvm': 4825, 'la': 3956, 'kaiez': 3862, 'mind': 4448, 'goin': 3169, 'oso': 4957, 'scared': 5889, 'hiphop': 3428, 'open': 4916, 'cant': 1640, 'very': 7219, 'woo': 7525, 'hoo': 3472, 'party': 5057, 'dude': 2479, 'allo': 914, 'braved': 1483, 'buses': 1570, 'taken': 6642, 'trains': 6961, 'triumphed': 6993, 'ham': 3302, 'jolly': 3822, 'rest': 5709, 'investigate': 3702, 'anywhere': 998, '0906346330': 207, 'abta': 767, 'complimentary': 1939, 'spanish': 6306, 'holiday': 3456, '000': 1, 'await': 1158, 'collection': 1894, 'sae': 5832, 'cs': 2086, 'box': 1453, '47': 500, 'po19': 5229, '2ez': 384, '150ppm': 309, 'awarded': 1162, '2000': 344, 'caller': 1614, '03': 14, 'final': 2854, 'contact': 1983, 'landline': 3977, '09064019788': 215, 'box42wr29c': 1465, 'khelate': 3903, 'kintu': 3922, 'opponenter': 4926, 'dhorte': 2288, 'lage': 3969, 'rule': 5808, 'receiving': 5589, 'quality': 5478, 'wife': 7456, 'knew': 3933, 'murder': 4613, 'exactly': 2697, 'having': 3355, 'lunch': 4227, 'alone': 918, 'bored': 1437, 'true': 7000, 'lov': 4192, 'wil': 7461, 'nevr': 4716, 'unrecognized': 7118, 'somone': 6263, 'often': 4869, 'mistakes': 4482, 'valuing': 7194, 'definitly': 2218, 'undrstnd': 7093, 'start': 6400, 'missing': 4476, 'thought': 6813, 'were': 7408, 'king': 3920, 'hill': 3421, 'thing': 6791, 'gotta': 3205, 'urself': 7158, 'shopping': 6062, 'frens': 3001, 'present': 5349, 'studying': 6486, 'next': 4726, 'weekend': 7385, 'budget': 1546, 'gary': 3085, 'freak': 2986, 'genius': 3109, 'brother': 1524, 'number': 4817, 'skype': 6163, 'laid': 3970, 'locations': 4141, 'direct': 2327, 'largest': 3991, 'bt': 1539, 'gravel': 3232, '69888': 586, 'nt': 4809, 'ec2a': 2522, '31p': 433, 'wishing': 7486, 'mas': 4336, 'year': 7625, 'advance': 833, 'fujitsu': 3042, 'lifebook': 4072, 'poem': 5249, 'near': 4678, 'hear': 3369, 'fear': 2804, 'cheer': 1762, 'more': 4547, 'tear': 6690, 'ni8': 4727, 'kind': 3917, 'shitload': 6051, 'girl': 3138, 'difficult': 2310, 'girls': 3141, 'companion': 1923, 'lover': 4199, 'chef': 1769, 'listener': 4115, 'organizer': 4949, 'boyfriend': 1472, 'sympathetic': 6619, 'athletic': 1108, 'courageous': 2036, 'determined': 2276, 'dependable': 2249, 'intelligent': 3687, 'psychologist': 5439, 'pest': 5131, 'exterminator': 2738, 'psychiatrist': 5437, 'healer': 3368, 'stylist': 6498, 'driver': 2456, 'aaniye': 746, 'pudunga': 5446, 'venaam': 7212, 'arun': 1071, 'transfr': 6968, 'amt': 950, 'prabha': 5316, 'soryda': 6286, 'realy': 5570, 'frm': 3017, 'sory': 6285, 'checking': 1758, 'iq': 3716, 'spl': 6343, 'whr': 7448, 'ru': 5800, 'quite': 5490, 'left': 4037, 'swing': 6610, 'looks': 4167, 'found': 2972, 'than': 6750, 'smoke': 6206, 'bread': 1486, 'milk': 4442, 'back': 1191, 'askd': 1081, 'question': 5484, 'todays': 6890, 'voda': 7261, 'numbers': 4818, 'ending': 2589, '7548': 610, '350': 440, 'award': 1161, 'match': 4343, '08712300220': 100, 'quoting': 5497, '4041': 474, 'standard': 6390, 'rates': 5533, 'app': 1008, 'hrishi': 3519, 'banneduk': 1220, '89555': 708, 'cost': 2019, 'textoperator': 6745, 'g696ga': 3063, 'xxx': 7602, 'pray': 5329, 'inshah': 3676, 'allah': 912, 'peach': 5095, 'cake': 1598, 'tasts': 6664, 'lush': 4229, 'guessin': 3269, 'ain': 881, 'gonna': 3180, 'anyways': 997, 'gym': 3282, 'whatever': 7422, 'smiles': 6202, 'probably': 5387, 'anna': 965, 'nagar': 4640, 'afternoon': 855, 'ive': 3749, 'lotta': 4185, 'corvettes': 2016, 'lately': 3997, 'suffers': 6528, 'violence': 7244, 'bad': 1194, 'silence': 6113, 'dave': 2171, 'notice': 4796, 'collect': 1891, 'tenerife': 6718, '09061743806': 197, 'tcs': 6682, 'box326': 1458, 'cw25wx': 2131, 'tampa': 6657, 'ffffuuuuuuu': 2829, 'both': 1445, 'inside': 3677, 'outside': 4979, 'bedroom': 1289, 'pple': 5312, '700': 602, 'nights': 4738, 'excellent': 2700, 'location': 4140, 'wif': 7455, 'breakfast': 1490, 'hamper': 3303, 'address': 816, 'happens': 3326, '2waxsto': 411, 'ill': 3599, 'medical': 4385, 'insurance': 3686, 'deliver': 2230, 'basic': 1239, 'currently': 2114, 'til': 6849, 'friday': 3007, 'major': 4290, 'guide': 3271, 'wake': 7303, 'rite': 5757, 'taking': 6645, 'sq825': 6371, 'reaching': 5553, 'ard': 1036, 'smth': 6217, 'dat': 2164, 'arrival': 1061, 'soon': 6272, 'farm': 2784, 'speaking': 6312, 'stressfull': 6467, 'laugh': 4003, 'add': 810, 'years': 7626, 'surely': 6575, 'adds': 817, 'swt': 6615, 'lmao': 4131, 'wont': 7524, 'needing': 4691, 'hair': 3293, 'anymore': 988, 'uncles': 7081, 'atlanta': 1110, 'semester': 5961, 'ultimately': 7069, 'tor': 6933, 'motive': 4559, 'tui': 7022, 'achieve': 790, 'korli': 3946, 'imin': 3607, 'dontmatter': 2410, 'urgoin': 7153, 'outl8r': 4976, 'each': 2501, 'own': 4996, 'value': 7191, 'brings': 1511, 'evening': 2665, 'december': 2193, '11mths': 276, 'entitled': 2617, 'update': 7133, 'latest': 4000, 'camera': 1626, '08002986906': 56, 'emailed': 2575, 'yifeng': 7644, 'oredi': 4945, 'fr': 2978, 'objection': 4837, 'bf': 1339, 'miserable': 4468, 'congrats': 1967, '3g': 454, 'videophones': 7230, 'yours': 7663, '09061744553': 200, 'videochat': 7229, 'wid': 7453, 'play': 5201, 'java': 3780, 'dload': 2365, 'polyh': 5261, 'noline': 4769, 'rentl': 5667, 'bx420': 1588, 'ip4': 3712, '5we': 558, '150pm': 307, 'born': 1440, 'idiot': 3582, 'biz': 1373, 'min': 4445, 'polo': 5258, 'ltd': 4217, 'suite': 6537, '373': 445, 'london': 4156, 'w1j': 7284, '6hl': 591, 'busy': 1574, 'wen': 7402, 'lovable': 4193, 'bcums': 1268, 'angry': 962, 'dnt': 2367, 'seriously': 5982, 'most': 4555, 'childish': 1785, 'showing': 6085, 'deep': 2208, 'affection': 844, 'kettoda': 3896, 'manda': 4305, 'da': 2135, 'list': 4111, 'joanna': 3808, 'feeling': 2813, 'anti': 985, 'christmassy': 1812, 'head': 3360, 'mins': 4459, 'upgrade': 7135, 'pay': 5081, 'sim': 6118, 'card': 1648, 'loyalty': 4211, '0845': 66, '021': 13, '3680': 444, 'offer': 4857, 'ends': 2590, '28thfeb': 379, 'useless': 7166, 'calling': 1619, 'sexy': 5999, 'buns': 1560, 'word': 7530, 'ym': 7646, 'think': 6793, 'divorce': 2359, 'barbie': 1224, 'ken': 3891, 'appreciate': 1018, 'luck': 4221, 'draw': 2441, '28th': 378, 'feb': 2806, '06': 20, 'removal': 5658, '87239': 691, '08708034412': 92, 'south': 6296, 'preferably': 5338, 'kegger': 3889, 'flowing': 2914, 'nevering': 4715, 'anyone': 989, 'spare': 6307, 'top': 6927, 'hot': 3498, 'fantasies': 2780, '08707509020': 90, '20p': 353, 'ntt': 4811, 'po': 5228, '1327': 293, 'croydon': 2080, 'cr9': 2049, '5wb': 557, '0870': 71, 'national': 4664, 'rate': 5532, 'happened': 3323, 'date': 2166, 'secret': 5930, 'admirer': 822, 'reveal': 5728, 'thinks': 6797, '09065174042': 218, 'opt': 4931, 'recd': 5583, 'cust': 2117, '07821230901': 40, 'happen': 3321, 'truth': 7006, 'tht': 6831, 'unknown': 7112, 'seen': 5947, 'recognise': 5598, 'face': 2747, 'ac': 768, 'jsco': 3836, 'energy': 2593, 'high': 3419, '2channel': 381, '2day': 382, 'leadership': 4022, 'skills': 6156, 'psychic': 5438, 'ans': 974, 'end': 2587, 'somebody': 6247, 'named': 4649, 'theres': 6781, 'tmrw': 6879, '09061790121': 202, 'land': 3976, 'line': 4095, '3030': 424, '12hrs': 289, 'safe': 5834, 'payasam': 5082, 'rinu': 5753, 'aiyah': 888, 'lar': 3987, 'nydc': 4831, 'wheellock': 7427, 'nok': 4764, '87021': 683, 'campus': 1628, 'library': 4065, 'showers': 6084, 'possessiveness': 5287, 'poured': 5305, 'loved': 4195, 'ones': 4900, 'bcoz': 1266, 'golden': 3175, 'gift': 3130, 'truly': 7003, 'surly': 6579, 'review': 5732, 'lord': 4175, 'rings': 5750, 'return': 5723, 'store': 6453, 'lotr': 4182, 'june': 3848, 'soundtrack': 6292, 'cds': 1698, 'stdtxtrate': 6418, 'txts': 7049, 'comprehensive': 1941, 'mail': 4283, 'paying': 5085, 'current': 2113, 'leading': 4023, 'bid': 1346, '151': 312, 'pause': 5078, 'auction': 1127, '08718726270': 141, 'waking': 7304, 'until': 7126, 'sup': 6559, 've': 7207, 'carlos': 1664, 'contacted': 1984, 'dating': 2169, '09064017305': 212, 'pobox75ldns7': 5240, 'kvb': 3952, 'acc': 770, 'calls': 1621, 'messages': 4421, 'parents': 5042, 'gettin': 3123, 'news': 4722, 'picked': 5160, 'downstem': 2433, 'subscriber': 6509, '100': 256, 'voucher': 7273, 'entered': 2611, 'receipt': 5584, 'elvis': 2572, 'presleys': 5352, 'birthday': 1365, '80062': 632, 'took': 6921, 'tablets': 6630, 'reaction': 5555, 'sister': 6138, 'placed': 5188, 'birla': 1363, 'soft': 6235, 'weird': 7393, 'bein': 1307, 'woah': 7512, 'realising': 5564, 'reasonable': 5574, 'relatives': 5635, 'costs': 2022, 'risks': 5756, 'benefits': 1322, 'anything': 994, 'else': 2570, 'use': 7163, 'foreign': 2948, 'stamps': 6388, 'country': 2031, 'lecture': 4036, 'bird': 1361, 'purchases': 5456, 'okie': 4880, 'hiya': 3437, 'spoken': 6352, 'since': 6125, 'newquay': 4721, 'postcard': 5292, 'look': 4163, 'gone': 3179, '1im': 328, 'talkin': 6651, 'read': 5556, 'exams': 2699, 'sense': 5971, 'btw': 1540, 'batch': 1245, 'wats': 7351, 'talks': 6653, 'email': 2574, 'shd': 6026, 'fun': 3048, 'bar': 1223, 'sound': 6289, 'okay': 4876, 'chasing': 1742, 'dream': 2444, 'stil': 6433, 'fucked': 3036, 'tobed': 6886, '430': 484, '630': 571, 'wasn': 7337, 'available': 1146, 'washob': 7336, 'nobbing': 4757, 'nickey': 4732, 'platt': 5200, 'instead': 3683, 'ello': 2569, 'spend': 6329, 'lifetime': 4074, 'meaningless': 4376, 'spent': 6331, 'itself': 3744, 'checked': 1756, 'saw': 5881, 'spaces': 6303, 'embassy': 2579, 'doc': 2371, 'gave': 3091, 'meds': 4387, 'everything': 2679, 'sleeping': 6170, 'spys': 6370, 'online': 4903, 'replying': 5678, 'mails': 4286, 'loan': 4136, 'purpose': 5460, '500': 530, '75': 608, 'homeowners': 3462, 'tenants': 6717, 'previously': 5364, 'refused': 5623, '0800': 47, '1956669': 325, 'minute': 4461, 'anthony': 984, 'school': 5895, 'fees': 2815, 'rent': 5664, 'hoping': 3486, 'due': 2482, 'reserves': 5695, 'balance': 1207, 'till': 6850, 'mid': 4433, 'march': 4319, 'supervisor': 6563, 'students': 6482, 'aft': 852, 'goodmorning': 3187, 'decimal': 2198, 'clearly': 1841, 'bahamas': 1200, 'callfreefone': 1617, '08081560665': 60, 'speak': 6311, 'operator': 4923, 'either': 2556, 'cruise': 2082, '07786200117': 34, 'justbeen': 3854, 'overa': 4985, 'brains': 1480, 'mush': 4616, 'thnk': 6805, 'wrong': 7570, 'anyway': 996, 'evenings': 2666, 'pm': 5226, 'vikky': 7237, 'otside': 4964, 'nw': 4827, 'update_now': 7134, 'xmas': 7595, 'motorola': 4561, 'sonyericsson': 6270, 'bluetooth': 1408, 'double': 2420, 'orange': 4938, 'mobileupd8': 4510, '08000839402': 50, 'call2optout': 1608, 'f4q': 2744, 'onwords': 4910, 'mtnl': 4593, 'mumbai': 4605, 'cann': 1637, 'listen': 4113, 'bruce': 1532, 'fowler': 2975, 'car': 1647, 'park': 5045, 'long': 4159, 'story': 6457, 'playing': 5206, 'gautham': 3089, 'food': 2935, 'macedonia': 4259, 'goals': 3162, 'team': 6688, '87077': 686, 'eg': 2545, 'wales': 7305, 'scotland': 5905, '4txt': 523, '20': 342, 'poboxox36504w45wq': 5242, 'exam': 2698, 'improve': 3621, 'partnership': 5055, 'lead': 4021, 'headache': 3361, 'hour': 3503, 'sick': 6100, 'weight': 7391, 'falls': 2769, 'through': 6823, 'stupid': 6493, 'share': 6020, 'bslvyl': 1535, 'raji': 5514, 'favour': 2801, 'convey': 1997, 'wishes': 7484, 'nimya': 4744, 'prob': 5386, 'lovely': 4197, 'sing': 6127, 'usual': 7174, 'iam': 3559, 'nope': 4777, 'ps': 5434, 'grown': 3254, 'incident': 3629, 'awake': 1160, 'snow': 6227, 'coping': 2006, 'distance': 2351, 'intrepid': 3698, 'duo': 2489, 'gobi': 3163, 'arts': 1068, 'college': 1896, 'credits': 2069, 'topped': 6930, 'bubbletext': 1542, 'pin': 5175, 'tgxxrz': 6748, 'put': 5466, 'wnt': 7511, 'bmw': 1413, 'urgently': 7151, 'vry': 7276, 'hv': 3552, 'shortage': 6066, 'lacs': 3964, 'source': 6294, 'arng': 1053, 'dis': 2333, 'added': 812, 'fullonsms': 3046, 'visit': 7253, 'easy': 2516, 'ah': 872, 'sen': 5964, 'lacking': 3963, 'particular': 5051, 'dramastorm': 2438, 'worried': 7541, 'business': 1572, 'earlier': 2504, 'meeting': 4391, '21870000': 355, 'mailbox': 4284, 'messaging': 4422, 'alert': 902, '40': 471, 'matches': 4345, '09056242159': 172, 'retrieve': 5722, 'cc100p': 1694, 'data': 2165, 'analysis': 955, 'starts': 6403, 'monday': 4532, 'thesis': 6783, 'finished': 2866, 'entry': 2620, 'gr8prizes': 3214, 'wkly': 7503, 'comp': 1921, '8800': 693, 'psp': 5436, '250': 367, '80878': 644, '08715705022': 129, 'vibrate': 7224, 'acting': 799, 'smoking': 6210, 'wylie': 7586, 'smokes': 6208, 'justify': 3855, 'ruining': 5807, 'video': 7228, 'phone750': 5146, 'anytime': 995, '150': 303, 'five': 2883, '08000776320': 49, 'delivery': 2233, 'sounds': 6291, '11': 268, 'fuck': 3035, 'juswoke': 3856, 'boatin': 1416, 'docks': 2373, '25': 366, 'old': 4887, 'spinout': 6337, 'giv': 3143, 'gossip': 3199, 'l8r': 3954, 'knock': 3935, 'whose': 7447, '80082': 634, 'enter': 2610, 'weekly': 7387, 'yr': 7669, 'choice': 1802, 'tkls': 6870, 'age16': 863, 'stoptxtstop': 6452, 'tessy': 6731, 'favor': 2799, 'forget': 2952, 'shijas': 6037, 'dice': 2294, 'art': 1066, 'thru': 6829, 'idea': 3576, 'persons': 5127, 'totes': 6944, 'wanna': 7322, 'lil': 4087, 'noon': 4774, 'attention': 1123, 'full': 3045, 'opportunity': 4927, 'drive': 2455, 'huh': 3532, 'slow': 6187, 'tot': 6941, 'reach': 5550, 'ago': 870, 'days': 2174, 'short': 6065, 'failed': 2756, 'sad': 5831, 'orchard': 4941, 'blame': 1380, 'experience': 2723, 'essential': 2650, 'gods': 3165, 'blessings': 1390, 'april': 1027, 'daddy': 2140, 'scream': 5911, 'pleasure': 5213, 'slap': 6166, 'dick': 2295, 'reg': 5624, 'ciao': 1816, '2nd': 399, 'tried': 6988, '1450': 299, '09053750005': 171, '310303': 432, '08718725756': 140, '140ppm': 297, 'told': 6899, 'someonone': 6250, 'trying': 7009, 'via': 7222, '09064015307': 210, 'box334sk38ch': 1460, 'lazy': 4014, 'forgot': 2956, 'lect': 4035, 'pouch': 5301, 'kids': 3911, 'colleagues': 1890, 'dearly': 2189, 'drop': 2460, 'tank': 6658, 'sunshine': 6557, 'hols': 3459, 'med': 4384, 'stamped': 6387, 'self': 5954, 'envelope': 2624, 'drinks': 2453, '113': 270, 'bray': 1484, 'wicklow': 7452, 'eire': 2555, 'quiz': 5493, 'saturday': 5875, 'unsub': 7122, 'whats': 7423, 'indeed': 3643, 'bye': 1592, 'harish': 3337, 'transfred': 6969, 'acnt': 793, 'flights': 2902, 'europe': 2660, '10th': 267, 'sept': 5978, '09050000555': 162, 'ba128nnfwfly150ppm': 1180, 'hide': 3416, 'anythiing': 992, 'keeping': 3887, 'stranger': 6463, 'choose': 1804, 'stands': 6392, 'forever': 2949, 'nitz': 4752, '08719839835': 155, 'future': 3059, 'mgs': 4429, 'billed': 1353, 'daily': 2143, 'cancel': 1633, '89123': 706, 'hanks': 3317, 'lotsly': 4184, 'sipix': 6133, 'digital': 2313, '09061221061': 190, 'within': 7492, '28days': 377, 'box177': 1456, 'm221bp': 4245, '2yr': 416, 'warranty': 7334, '99': 732, 'wlcome': 7506, 'eaten': 2518, 'lion': 4104, 'awesome': 1164, 'click': 1843, 'delete': 2226, 'wipro': 7479, 'gentle': 3111, 'yay': 7622, 'esplanade': 2648, 'hmmm': 3444, 'texted': 6742, 'showered': 6083, 'er': 2629, 'ything': 7672, 'football': 2940, 'basketball': 1242, 'outdoors': 4973, '6months': 595, 'sony': 6269, 'phones': 5149, 'n9dx': 4635, 'roger': 5769, 'wahala': 7295, 'accidentally': 777, 'brought': 1526, 'em': 2573, 'aight': 880, 'again': 860, 'comin': 1912, 'tmr': 6878, 'maybe': 4366, 'yck': 7623, 'lip': 4108, 'synced': 6621, 'shangela': 6015, 'needs': 4693, 'vomit': 7267, 'completed': 1934, 'dint': 2324, 'switch': 6612, 'cell': 1705, 'isnt': 3733, 'alrite': 923, 'hunny': 3541, 'wot': 7549, '2nite': 402, 'didnt': 2300, 'down': 2427, 'pub': 5443, 'chillin': 1792, 'jen': 3793, 'booking': 1429, 'tour': 6949, 'package': 5006, 'darren': 2161, 'feel': 2811, 'awkward': 1165, 'shower': 6082, 'brum': 1533, 'putting': 5469, '6times': 599, 'weed': 7382, 'dealer': 2183, 'freedom': 2991, 'lunsford': 4228, 'soz': 6298, 'imat': 3604, 'mums': 4608, '2moro': 392, 'restocked': 5712, 'badrith': 1197, 'chennai': 1770, 'competition': 1928, 'boring': 1439, 'uniform': 7103, 'macho': 4263, 'bb': 1256, 'bold': 1419, 'dollars': 2400, 'tuesday': 7021, 'freemsg': 2996, 'buffy': 1550, 'satisfy': 5873, 'men': 4409, 'randy': 5527, 'pix': 5183, 'qlynnbv': 5477, 'help08700621170150p': 3391, 'priest': 5369, 'joined': 3815, 'league': 4026, 'touch': 6945, 'deal': 2182, 'personal': 5124, 'gain': 3066, 'rights': 5746, 'demand': 2237, 'husband': 3549, 'grumpy': 3257, 'lying': 4240, 'oops': 4915, 'done': 2406, 'studyn': 6487, 'talk': 6648, 'called': 1613, 'arrested': 1060, 'ha': 3284, 'watch': 7342, 'haf': 3288, 'bomb': 1423, 'elaine': 2560, 'confirmed': 1963, 'talking': 6652, 'damn': 2144, 'poor': 5269, 'zac': 7680, 'knows': 3940, 'questions': 5486, 'aathi': 748, 'request': 5684, 'rs': 5795, 'transfered': 6966, 'derek': 2258, 'thank': 6753, 'wonderful': 7521, 'definitely': 2217, 'buying': 1583, 'significance': 6108, 'weekends': 7386, '09061701939': 194, 's89': 5825, 'opposed': 4928, 'drunken': 2469, 'unless': 7113, 'book': 1427, 'joke': 3817, 'thet': 6784, 'skinny': 6157, 'casting': 1679, 'hasn': 3343, 'pattern': 5075, 'recently': 5591, 'crap': 2055, 'prakesh': 5324, 'into': 3697, 'sed': 5939, 'mood': 4544, 'minuts': 4463, 'latr': 4002, 'speedchat': 6323, '80155': 637, 'swap': 6596, 'chatter': 1747, 'chat80155': 1745, 'pobox36504w45wq': 5237, 'rcd': 5543, 'langport': 3982, 'site': 6141, 'simulate': 6124, 'test': 6732, 'tough': 6947, 'readiness': 5558, 'likely': 4083, 'mittelschmertz': 4486, 'google': 3194, 'paracetamol': 5036, 'worry': 7543, 'lei': 4044, 'sch': 5893, 'hr': 3518, 'oni': 4901, 'confuses': 1966, 'doesnt': 2383, 'sort': 6280, 'invited': 3705, 'tho': 6808, 'wear': 7365, 'sport': 6359, 'shoes': 6057, 'spending': 6330, 'ready': 5560, 'spoiled': 6349, 'escape': 2643, 'theatre': 6767, 'kavalan': 3881, 'minutes': 4462, 'consensus': 1975, 'kicks': 3908, 'typical': 7056, 'doctors': 2376, 'reminds': 5656, '2go': 388, 'little': 4120, 'lounge': 4190, 'liked': 4082, 'photos': 5152, 'pity': 5182, 'suggestions': 6536, 'easiest': 2511, 'barcelona': 1225, 'scrumptious': 5917, 'entertaining': 2613, 'hugh': 3530, 'laurie': 4007, 'stick': 6431, 'especially': 2647, 'apart': 999, 'yesterday': 7638, 'silent': 6114, 'tensed': 6719, 'noe': 4759, 'wana': 7321, 'pei': 5100, 'round': 5786, 'ish': 3728, 'apologetic': 1004, 'fallen': 2767, 'actin': 798, 'spoilt': 6350, 'child': 1784, 'caught': 1687, 'badly': 1196, 'cheers': 1764, '1hr': 327, 'delay': 2224, 'month': 4540, 'upto': 7144, 'activate': 802, '9061100010': 719, 'wire3': 7480, '1st4terms': 333, 'pobox84': 5241, 'm26': 4247, '3uz': 467, 'mobcudb': 4505, 'gimme': 3135, 'caveboy': 1691, 'garage': 3079, 'keys': 3899, 'aren': 1039, 'bookshelf': 1432, 'swhrt': 6607, 'dey': 2284, 'mad': 4266, 'diff': 2307, 'shop': 6060, 'cheese': 1766, 'rip': 5754, 'uterus': 7176, 'rimac': 5748, 'access': 773, 'somewhere': 6260, 'beneath': 1320, 'pale': 5018, 'goodnite': 3189, 'meh': 4395, 'ericsson': 2632, 'cannot': 1639, 'login': 4147, '5226': 541, 'hava': 3349, '1131': 271, 'posh': 5281, 'birds': 1362, 'chaps': 1730, 'trial': 6987, 'prods': 5396, 'champneys': 1721, 'dob': 2369, 'asap': 1074, 'remove': 5659, 'teeth': 6698, 'painful': 5015, 'maintaining': 4289, 'remb': 5646, 'sat': 5868, 'infernal': 3654, 'affairs': 843, 'mayb': 4365, 'worrying': 7544, 'appt': 1025, 'shame': 6013, 'quizzes': 5495, 'popcorn': 5272, 'dad': 2139, 'boo': 1426, 'prepared': 5345, 'finalise': 2855, 'travel': 6974, 'during': 2492, 'finish': 2864, 'works': 7538, '09066350750': 222, 'ibiza': 3563, '434': 485, 'sk3': 6151, '8wp': 717, 'ppm': 5313, 'slurp': 6191, 'dead': 2181, 'midnight': 4435, 'earliest': 2505, 'chat': 1744, 'ax': 1168, 'figure': 2840, 'trust': 7004, 'math': 4348, 'promise': 5409, '447801259231': 491, '09058094597': 180, 'yelling': 7629, 'scrappy': 5909, 'lonely': 4158, 'disturbing': 2355, 'listed': 4112, 'ninish': 4745, 'icky': 3571, 'american': 936, 'freek': 2994, 'callin': 1618, 'eh': 2550, 'unfortunately': 7097, 'airport': 885, 'th': 6749, 'natalja': 4663, 'inviting': 3706, '440': 487, 'nat27081980': 4660, '62468': 569, 'hex': 3410, 'explain': 2729, 'lifted': 4077, 'hopes': 3484, 'approaches': 1020, 'hurts': 3548, 'gr8': 3212, 'wrkin': 7565, 'somewhat': 6259, 'event': 2667, 'laden': 3965, 'fill': 2845, 'throat': 6822, 'wrecked': 7558, 'six': 6148, 'tease': 6692, 'simply': 6122, 'grins': 3246, 'posted': 5294, 'loving': 4204, 'smile': 6201, 'devouring': 2283, 'supply': 6566, '87066': 684, 'ts': 7010, 'ldew': 4017, 'subs16': 6505, '1win150ppmx3': 337, 'mu': 4594, 'table': 6628, 'lambda': 3972, '3650': 442, '09066382422': 236, 'ave': 1150, '3mins': 460, 'vary': 7200, 'mobiles': 4507, '300603': 421, 'post': 5291, 'bcm4284': 1264, 'ldn': 4018, 'wc1n3xx': 7360, 'tonite': 6918, 'street': 6464, 'varunnathu': 7199, 'edukkukayee': 2536, 'raksha': 5519, 'ollu': 4889, 'asleep': 1087, 'leads': 4024, 'passionate': 5064, 'across': 795, 'computer': 1944, 'tok': 6896, 'peace': 5093, 'jesus': 3799, 'blessed': 1388, 'ahead': 874, 'point': 5250, 'hangin': 3315, 'mr': 4575, 'makin': 4293, 'radio': 5502, 'show': 6080, 'colours': 1900, 'euro': 2657, '3lions': 457, 'info': 3656, 'east': 2513, 'coast': 1872, 'thread': 6817, 'wishlist': 7487, 'section': 5935, 'forums': 2968, 'ppl': 5311, 'nitro': 4749, 'requests': 5685, 'bottom': 1449, 'harri': 3339, 'vomiting': 7269, 'narcotics': 4656, 'picsfree1': 5164, 'vid': 7227, 'keyword': 3900, 'sun': 6550, 'anythin': 993, 'pilates': 5172, 'mrt': 4577, 'hor': 3487, '86688': 681, 'rcvd': 5546, 'hg': 3412, 'suite342': 6538, '2lands': 390, 'row': 5790, 'w1j6hl': 7285, '140': 296, '180': 321, 'least': 4030, 'which': 7436, 'price': 5366, 'bedrm': 1288, 'flight': 2901, 'bishan': 1366, 'lavender': 4009, 'finishes': 2867, 'kidding': 3910, 'papa': 5032, 'lookin': 4165, 'saucy': 5876, 'daytime': 2175, 'wiv': 7497, 'busty': 1573, 'married': 4330, '09099726429': 247, 'janinexx': 3773, 'minmobsmorelkpobox177hp51fl': 4455, 'teacher': 6685, 'longer': 4160, 'gower': 3210, 'morrow': 4553, 'random': 5524, 'lousy': 4191, 'enjoyed': 2602, 'fondly': 2932, 'thot': 6810, 'abiola': 756, 'tlk': 6872, 'reasons': 5575, 'solihull': 6242, 'hurry': 3545, 'deficient': 2215, 'afternon': 854, 'interviews': 3695, 'rayan': 5539, 'macleran': 4265, 'boss': 1442, 'fixed': 2886, 'cheaper': 1750, 'kept': 3893, 'telling': 6706, 'hoped': 3480, 'regretted': 5630, 'etc': 2653, 'bloody': 1402, 'babyjontet': 1188, 'expect': 2719, 'whenever': 7429, 'tomo': 6905, 'choices': 1803, 'toss': 6940, 'coin': 1883, 'becoz': 1285, 'settle': 5990, 'air': 883, 'gudni8': 3265, 'cream': 2064, 'shipped': 6043, 'transaction': 6963, 'thursday': 6835, 'alright': 922, 'hows': 3513, 'kano': 3874, 'treat': 6981, 'maga': 4273, 'gorgeous': 3196, 'those': 6809, 'cumming': 2110, 'sometimes': 6257, 'sonetimes': 6266, 'rough': 5785, 'ranjith': 5529, 'cal': 1600, 'drpd': 2463, 'deeraj': 2211, 'deepak': 2209, '5min': 552, 'gage': 3064, 'deck': 2201, 'cnupdates': 1870, 'newsletter': 4724, 'alerts': 903, 'outta': 4982, 'pongal': 5265, 'urgnt': 7152, 'wating': 7350, 'upping': 7140, 'order': 4942, 'grams': 3220, 'telly': 6709, 'brdget': 1485, 'jones': 3825, 'voicemail': 7265, '08719181513': 154, 'made': 4268, 'floppy': 2910, 'snappy': 6221, 'gay': 3092, 'photo': 5151, 'upload': 7137, '08718730666': 149, '10p': 265, '08712460324': 113, 'revision': 5733, 'boyf': 1471, 'interviw': 3696, 'exeter': 2711, '10k': 264, '09064018838': 213, 'cro1327': 2076, 'coulda': 2027, 'valentine': 7186, 'gent': 3110, '09064012160': 209, 'k52': 3858, 'uncle': 7080, 'creep': 2070, 'kallis': 3868, 'ground': 3250, 'amla': 939, 'durban': 2490, 'rofl': 5768, 'buzz': 1585, 'together': 6893, 'training': 6959, 'shola': 6058, 'medicine': 4386, 'academic': 769, 'department': 2248, 'secretary': 5931, 'transfer': 6965, 'sagamu': 5837, 'lautech': 4008, 'vital': 7257, 'completes': 1936, 'education': 2534, 'nigeria': 4735, 'less': 4052, 'expensive': 2722, 'citizen': 1819, 'zealand': 7682, 'answering': 979, 'guessing': 3270, 'flaked': 2891, 'jb': 3786, 'edison': 2530, 'rightly': 5745, 'fool': 2936, 'wise': 7482, 'speechless': 6321, 'viva': 7259, 'project': 5404, 'captain': 1645, 'pleased': 5211, 'advise': 837, 'recent': 5590, '1500': 304, '09066364589': 231, 'eerie': 2541, 'tones': 6910, '4u': 524, 'rply': 5794, 'title': 6866, '8007': 633, 'dracula': 2436, 'titles': 6867, 'ghost': 3128, 'addamsfa': 811, 'munsters': 4611, 'exorcist': 2717, 'twilight': 7037, 'vl': 7260, 'witin': 7494, 'others': 4960, 'sitting': 6144, 'staring': 6396, 'juicy': 3842, 'pizza': 5185, 'thinkin': 6795, 'yijue': 7645, 'regarding': 5625, '3230': 436, 'textbook': 6739, 'intro': 3699, 'algorithms': 908, 'edition': 2531, 'selling': 5958, 'kappa': 3875, 'mmmmm': 4496, 'sooooo': 6276, 'mmmm': 4495, 'vijay': 7235, 'jaya': 3782, 'slave': 6167, 'yourself': 7664, 'bright': 1505, 'valentines': 7187, 'url': 7155, 'fancy': 2778, 'shag': 6006, 'sextextuk': 5997, 'xxuk': 7601, 'suzy': 6589, '69876': 585, 'tncs': 6882, 'website': 7374, 'inclusive': 3634, 'goto': 3204, 'comuk': 1947, '08700469649': 73, 'box420': 1464, 'din': 2318, '09066612661': 237, 'luxury': 4235, 'canary': 1632, 'islands': 3731, '20m12aq': 352, 'maid': 4282, 'murderer': 4615, 'murdered': 4614, 'january': 3774, 'public': 5444, 'govt': 3209, 'instituitions': 3684, 'closed': 1849, 'including': 3633, 'supports': 6568, 'srt': 6377, 'ps3': 5435, 'usb': 7161, 'voice': 7264, 'form': 2959, 'clark': 1827, 'utter': 7177, 'waste': 7338, 'perform': 5111, 'write': 7562, 'paper': 5033, 'tonexs': 6913, 'subscription': 6511, 'renewed': 5663, 'charged': 1734, 'polys': 5264, 'clubzed': 1861, 'billing': 1354, '5p': 554, 'alfie': 905, 'children': 1787, 'song': 6267, 'm8s': 4252, 'charity': 1736, 'nokias': 4768, 'zed': 7684, '08701417012': 76, 'profit': 5400, 'performed': 5113, 'discount': 2343, 'vouchers': 7274, '85023': 673, 'savamob': 5877, 'member': 4403, 'offers': 4860, 'm263uz': 4248, 'subs': 6504, 'themob': 6774, 'selection': 5953, 'downloads': 2430, 'link': 4102, 'excuse': 2705, 'trouble': 6996, 'pours': 5306, 'sum1': 6543, 'loves': 4202, 'amount': 945, 'small': 6193, 'dial': 2290, 'browser': 1530, 'surf': 6576, 'id': 3574, 'password': 5066, 'bags': 1199, 'blanket': 1383, 'real1': 5562, 'pushbutton': 5463, 'dontcha': 2409, 'babygoodbye': 1187, 'golddigger': 3174, 'webeburnin': 7372, 'fyi': 3062, 'fat': 2790, 'flirt': 2905, 'uks': 7067, '25p': 370, '83021': 654, 'boston': 1443, 'woulda': 7553, 'changed': 1725, 'realized': 5567, 'nyc': 4830, 'computerless': 1945, 'oreo': 4946, 'truffles': 7002, 'discussed': 2346, 'chikku': 1783, 'thts': 6832, '08718726971': 144, 'cheesy': 1767, 'songs': 6268, 'frosty': 3031, 'snowman': 6229, 'romantic': 5774, 'immediately': 3610, 'pop': 5271, 'solve': 6243, 'case': 1673, 'police': 5256, 'questioned': 5485, 'everyone': 2675, 'cook': 2000, 'cooking': 2003, 'gardener': 3082, 'vegetables': 7209, 'neighbour': 4699, 'marriage': 4329, 'reason': 5573, 'brilliant': 1507, 'predict': 5333, '0776xxxxxxx': 32, 'xchat': 7592, 'attempt': 1118, 'msgrcvdhg': 4583, '18yrs': 323, 'ref': 5613, 'k718': 3860, 'arrive': 1062, '09065069120': 216, '9pm': 737, 'go2sri': 3160, 'lanka': 3984, '09061221066': 191, 'fromm': 3028, '28': 375, 'rental': 5665, '0721072': 27, '07090201529': 23, 'obviously': 4840, 'eggs': 2548, 'pert': 5129, 'potato': 5298, 'ate': 1107, 'honey': 3467, 'ar': 1032, 'cd': 1696, '125gift': 286, 'com1win150ppmx3age16': 1902, 'fa': 2745, 'tkts': 6871, '21st': 356, '2005': 347, '87121': 687, '08452810075over18': 70, 'drinking': 2452, 'company': 1924, '600': 560, '400': 472, 'deltomorrow': 2234, '08002888812': 54, 'walmart': 7316, 'idk': 3583, 'moved': 4567, 'butting': 1578, 'heads': 3364, 'vs': 7277, 'responsibility': 5707, 'barely': 1227, 'drinkin': 2451, 'dancin': 2148, 'eatin': 2519, 'cinema': 1818, 'arngd': 1054, 'walkin': 7310, 'unfortuntly': 7098, 'snake': 6219, 'bites': 1371, 'dancing': 2149, 'frnt': 3024, 'sayin': 5883, 'bite': 1370, 'prefer': 5337, 'tues': 7020, 'wed': 7375, 'fri': 3006, 'workin': 7535, 'raping': 5531, 'dudes': 2480, 'poker': 5252, 'fair': 2760, 'weaknesses': 7363, 'pushes': 5464, 'knee': 3931, 'exposes': 2734, 'belly': 1314, 'pulls': 5448, 'wicked': 7451, 'blake': 1379, 'occurs': 4845, 'looked': 4164, 'addie': 814, 'germany': 3117, 'pence': 5101, '0844': 63, '861': 679, '85': 671, 'prepayment': 5346, 'monkeys': 4537, 'certainly': 1713, 'wud': 7580, 'annoyin': 970, 'ganesh': 3075, 'dress': 2447, 'conacted': 1948, '09111030116': 250, 'pobox12n146tf15': 5233, 'mistake': 4481, 'shortcode': 6068, '83332': 659, '08081263000': 59, 'charges': 1735, 'refunded': 5622, 'dr': 2435, 'view': 7234, 'couple': 2034, 'gays': 3093, 'bell': 1311, 'ure': 7148, 'practical': 5318, 'kay': 3882, 'evaluation': 2661, 'konw': 3944, 'waht': 7298, 'rael': 5504, 'gving': 3281, 'yuo': 7677, 'exmpel': 2715, 'jsut': 3839, 'ese': 2644, 'tihs': 6847, 'evrey': 2690, 'splleing': 6348, 'wrnog': 7569, 'sitll': 6142, 'raed': 5503, 'wihtuot': 7459, 'ayn': 1172, 'mitsake': 4485, 'goodnight': 3188, 'woke': 7514, 'blur': 1411, 'letter': 4058, 'weather': 7368, 'funny': 3056, 'bluff': 1410, 'izzit': 3754, 'impossible': 3617, 'battery': 1252, 'died': 2303, 'action': 800, '80608': 642, 'movietrivia': 4571, 'custcare': 2118, '08712405022': 112, '1x150p': 340, 'fuckin': 3037, 'showr': 6086, 'desperate': 2267, 'yrs': 7670, 'detail': 2272, 'probs': 5392, 'hon': 3463, 'doinat': 2393, 'secure': 5937, 'lemme': 4046, 'chill': 1790, 'gei': 3104, 'happend': 3322, 'tron': 6995, 'dl': 2363, '3d': 452, 'fix': 2884, 'sunday': 6552, 'continued': 1992, 'support': 6567, 'in2': 3625, 'president': 5351, 'door': 2413, 'useful': 7165, 'kothi': 3948, 'print': 5374, 'marandratha': 4318, 'effect': 2542, 'irritation': 3724, 'ignore': 3591, 'bat': 1244, 'innings': 3669, 'db': 2177, 'trip': 6989, 'audition': 1129, 'wednesday': 7379, '542': 546, '0578': 19, 'vague': 7184, 'inform': 3657, 'accounting': 785, 'delayed': 2225, 'discuss': 2345, 'housing': 3508, 'agency': 865, 'renting': 5666, 'places': 5190, 'usc': 7162, 'mmmmmm': 4497, 'ahmad': 875, 'begin': 1303, 'closer': 1850, 'side': 6102, 'cabin': 1594, 'felt': 2819, 'apartment': 1000, 'kidz': 3912, 'screaming': 5913, 'sofa': 6234, 'plans': 5198, 'stone': 6442, 'cards': 1651, 'pump': 5449, 'petrol': 5134, 'propose': 5422, 'jon': 3824, 'pete': 5132, 'bin': 1359, 'spain': 6304, 'sum': 6542, 'dinero': 2319, 'bill': 1352, 'rents': 5668, '000pes': 2, '48': 503, 'tb': 6678, 'james': 3767, 'pass': 5060, '09061209465': 188, 'suprman': 6572, 'matrix3': 4354, 'starwars3': 6405, 'fuuuuck': 3060, 'sleepin': 6169, 'train': 6958, 'worc': 7529, 'foregate': 2947, 'shrub': 6091, 'tescos': 6730, '09071517866': 242, '150ppmpobox10183bhamb64xe': 310, 'storming': 6456, 'lift': 4076, 'phne': 5143, 'knw': 3941, 'wt': 7574, 'margaret': 4321, 'girlfrnd': 3139, 'grahmbell': 3218, 'invnted': 3707, 'telphone': 6710, '4get': 512, 'dry': 2470, 'trade': 6955, 'tog': 6892, 'connections': 1973, 'panasonic': 5022, 'bluetoothhdset': 1409, 'doublemins': 2421, 'doubletxt': 2423, 'contract': 1993, '2optout': 403, 'aah': 745, 'cuddle': 2103, 'lots': 4183, 'tea': 6683, 'soup': 6293, 'fumbling': 3047, 'reserve': 5693, 'ticket': 6840, 'thirunelvali': 6801, 'tirunelvali': 6862, 'tackle': 6631, 'teach': 6684, 'ship': 6042, 'cars': 1670, 'swashbuckling': 6597, 'si': 6097, 'como': 1920, 'listened2the': 4114, 'plaid': 5191, 'album': 899, 'air1': 884, 'hilarious': 3420, 'bought': 1450, 'braindance': 1478, 'ofstuff': 4868, 'aphex': 1001, 'abel': 752, 'dance': 2147, 'river': 5758, 'spjanuary': 6341, 'sale': 5843, '08709222922': 94, 'cheap': 1749, '8p': 714, 'peak': 5096, 'westshore': 7417, 'hyde': 3555, 'village': 7241, 'rem': 5643, 'silver': 6117, 'black': 1375, 'gonnamissu': 3181, 'buttheres': 1577, 'aboutas': 761, 'merememberin': 4416, 'asthere': 1098, 'ofsi': 4867, 'breakin': 1491, 'yaxx': 7621, 'forced': 2946, 'slice': 6176, 'hungry': 3539, 'mark': 4324, 'turn': 7026, 'select': 5951, 'astrology': 1102, 'quick': 5487, 'screwd': 5915, 'apps': 1024, 'hourish': 3504, 'kadeem': 3861, 'lou': 4188, 'neva': 4713, 'gailxx': 3065, '4eva': 509, 'subscribed': 6508, 'best': 1326, 'content': 1987, '83435': 664, 'helpline': 3396, '08706091795': 87, '07734396839': 29, 'ibh': 3561, 'nokia6600': 4766, 'txtauction': 7045, '81151': 646, '4t': 520, 'imma': 3608, 'jay': 3781, 'booked': 1428, 'lions': 4107, 'lionm': 4105, 'mono': 4538, 'lionp': 4106, 'ringtones': 5752, 'original': 4952, '3gbp': 455, 'aftr': 858, 'decades': 2192, 'beer': 1294, 'goverment': 3208, 'expects': 2721, 'drink': 2450, 'thgt': 6788, 'fren': 2999, 'laptop': 3986, 'stock': 6436, 'mon': 4531, 'muz': 4625, 'glad': 3147, 'treated': 6982, 'digi': 2312, 'cam': 1623, 'fab': 2746, 'coupla': 2033, 'wks': 7505, 'wisdom': 7481, 'hidden': 3415, 'jordan': 3827, 'voted': 7271, 'shirt': 6045, 'blue': 1407, 'jeans': 3790, 'returns': 5726, '09050000878': 163, 'pobox45w2tg150p': 5239, 'leaving': 4034, 'shoot': 6059, 'settled': 5991, 'wishin': 7485, 'hundreds': 3537, 'handsomes': 3312, 'beauties': 1276, 'aunties': 1135, 'hahaha': 3290, 'brain': 1477, '09058091854': 174, 'revealed': 5729, 'box385': 1461, 'm6': 4250, '6wu': 600, '09061213237': 189, '177': 319, 'm227xy': 4246, 'posting': 5295, 'working': 7536, 'city': 1820, 'technical': 6695, 'providing': 5431, 'assistance': 1093, 'apo': 1003, 'coffee': 1881, 'drove': 2462, 'die': 2302, 'toot': 6925, 'fringe': 3016, 'alex': 904, 'fifteen': 2836, 'far': 2783, 'concerned': 1952, 'jp': 3834, 'mofo': 4522, 'twenty': 7034, 'past': 5068, 'durham': 2491, 'reserved': 5694, 'seat': 5926, 'taste': 6663, 'relax': 5636, 'wkend': 7500, 'tickets': 6841, '10am': 263, '8pm': 715, 'thurs': 6834, 'bugis': 1551, 'afterwards': 857, 'authorise': 1140, 'payment': 5086, 'transport': 6970, 'problematic': 5389, 'bday': 1270, 'definite': 2216, 'nos': 4787, 'quitting': 5492, 'least5times': 4031, 'wudn': 7581, 'nah': 4641, 'didn': 2299, 'taunton': 6671, 'fact': 2749, 'raise': 5511, 'adult': 831, 'learn': 4028, 'danger': 2152, 'peeps': 5099, 'using': 7171, 'comment': 1916, 'ducking': 2478, 'chinchillas': 1795, 'jason': 3779, 'shorter': 6069, 'gaze': 3095, 'adding': 815, 'zeros': 7685, 'savings': 5880, 'bath': 1247, 'yun': 7675, 'wkg': 7502, 'nus': 4821, 'sc': 5887, 'specialise': 6316, 'wad': 7292, 'describe': 2259, '02': 8, '09066362220': 227, 'box97n7qp': 1468, 'fellow': 2818, '530': 544, 'wow': 7556, 'cuz': 2130, 'signin': 6110, 'poking': 5253, 'everyday': 2674, 'canada': 1630, 'abi': 754, 'expression': 2736, 'depression': 2255, 'understood': 7092, 'announcement': 969, 'premier': 5341, 'frnds': 3019, 'alwys': 931, 'wtf': 7576, 'break': 1488, 'valuable': 7190, 'situations': 6146, 'first': 2877, 'loosing': 4172, 'hellogorgeous': 3388, 'lst': 4215, 'nitw': 4751, 'texd': 6736, 'hopeu': 3485, 'ad': 808, '4ward': 526, 'jaz': 3784, 'hai': 3291, 'ana': 954, 'tomarrow': 6903, 'sathy': 5870, 'rto': 5799, 'option': 4933, 'beta': 1329, 'yan': 7616, 'jiu': 3807, 'headin': 3362, 'towards': 6950, 'busetop': 1571, 'axis': 1170, 'applausestore': 1012, 'monthlysubscription': 4542, '50p': 535, 'max6': 4362, 'csc': 2088, 'web': 7369, 'single': 6129, 'pretty': 5360, 'weak': 7362, 'phony': 5150, 'xxxx': 7603, '3100': 431, 'thanx4': 6758, 'cer': 1710, 'xafter': 7589, 'cst': 2090, 'ntwk': 4812, 'chg': 1777, 'dolls': 2401, 'patrick': 5074, 'swayze': 6599, 'adventuring': 835, 'yep': 7634, 'jontin': 3826, 'computers': 1946, 'sian': 6098, 'interview': 3694, 'mummy': 4607, 'father': 2792, 'under': 7088, 'coccooning': 1875, 'belive': 1310, 'linerental': 4098, 'tooth': 6926, 'or2optout': 4936, 'hv9d': 3553, 'ipod': 3715, 'pod': 5248, '80182': 639, '08452810073': 69, 'euro2004': 2658, 'kickoff': 3907, '83222': 658, 'mmmmmmm': 4498, 'snuggles': 6230, 'contented': 1988, 'sigh': 6103, 'whispers': 7439, 'ful': 3043, 'lyrics': 4243, 'career': 1655, 'tel': 6700, 'indyarocks': 3652, 'phonebook': 5147, 'tarot': 6662, '85555': 677, 'manage': 4300, 'lose': 4176, 'misundrstud': 4483, 'hate': 3344, 'onam': 4894, 'sirji': 6136, 'remembered': 5648, 'qatar': 5472, 'insha': 3675, 'ex': 2695, 'tata': 6666, 'aig': 879, 'tissco': 6865, 'tayseer': 6677, 'aww': 1166, 'asking': 1084, 'posible': 5282, 'century': 1709, 'cm': 1863, 'frwd': 3032, 'different': 2309, 'sweets': 6606, 'grand': 3222, 'nature': 4668, 'adventure': 834, 'galileo': 3069, 'omg': 4891, 'wedding': 7377, 'chapel': 1729, 'frontierville': 3030, 'melody': 4401, 'joining': 3816, 'formally': 2961, 'praying': 5330, 'sells': 5959, '4d': 508, 'closes': 1851, 'skateboarding': 6153, 'despite': 2268, 'thrown': 6827, 'winds': 7471, 'bandages': 1214, 'arms': 1052, 'season': 5925, '2wks': 412, 'villa': 7240, 'pathaya': 5072, 'enketa': 2605, 'maraikara': 4317, 'engin': 2598, 'chuckin': 1814, 'trainners': 6960, 'carryin': 1669, 'bac': 1190, 'adore': 825, 'matter': 4355, 'nichols': 4730, 'callon': 1620, 'assume': 1096, 'kitty': 3928, 'shaved': 6024, 'natural': 4667, 'roles': 5771, 'community': 1919, 'outreach': 4978, 'rock': 5764, 'mel': 4398, '09050000460': 161, 'j89': 3756, 'box245c2150pm': 1457, 'lodge': 4144, 'parked': 5046, 'forgiven': 2955, 'used': 7164, 'agents': 867, 'experiment': 2725, 'clear': 1837, 'sarcastic': 5863, 'fps': 2977, 'fried': 3010, 'spares': 6308, 'roommates': 5780, 'looovvve': 4170, 'unable': 7076, '07099833605': 25, 'schedule': 5894, '9280114': 722, 'jd': 3787, 'accounts': 786, 'executive': 2709, 'ingredients': 3663, 'corect': 2009, 'speling': 6325, 'sarcasm': 5862, 'starting': 6402, 'system': 6623, 'fwiw': 3061, 'afford': 847, 'tells': 6708, 'hun': 3535, 'onbus': 4895, '4a': 507, 'meal': 4372, 'donyt': 2411, 'hes': 3409, 'latelyxxx': 3998, 'nauseous': 4671, 'pissed': 5180, 'pig': 5171, 'dieting': 2306, 'toughest': 6948, 'earth': 2509, 'di': 2289, 'talents': 6647, 'aiyo': 890, 'pai': 5012, 'seh': 5948, 'become': 1283, 'mum': 4604, 'meets': 4392, 'kotees': 3947, 'mesages': 4418, 'john': 3813, 'lennon': 4048, 'catching': 1685, 'woot': 7528, 'celebrate': 1702, 'stuffing': 6491, 'pickle': 5162, 'rebtel': 5581, 'firefox': 2873, 'sign': 6106, 'lower': 4208, 'display': 2350, 'italian': 3737, 'boy': 1469, 'responding': 5705, 'priya': 5382, 'doctor': 2375, 'bro': 1517, 'creative': 2066, 'owns': 4998, 'property': 5421, 'programs': 5402, 'opener': 4918, 'velachery': 7211, 'cardiff': 1649, 'cold': 1887, 'radiator': 5501, 'unbelievable': 7077, 'faglord': 2755, 'four': 2973, 'dobby': 2370, 'nan': 4652, 'yalrigu': 7613, 'heltini': 3398, 'iyo': 3752, 'shared': 6021, 'wit': 7489, 'body': 1417, 'uttered': 7178, 'trusting': 7005, 'nxt': 4828, '26th': 373, 'july': 3846, 'invite': 3704, 'unique': 7105, '1172': 274, 'ever': 2669, 'alcohol': 900, 'safely': 5835, 'block': 1393, 'breaker': 1489, 'deluxe': 2235, 'features': 2805, 'graphics': 3228, 'bbdeluxe': 1258, 'challenge': 1718, 'requirements': 5687, 'costa': 2020, 'del': 2223, 'sol': 6239, '09050090044': 169, 'toclaim': 6888, 'tc': 6680, 'pobox334': 5236, 'stockport': 6438, 'sk38xh': 6152, 'max10mins': 4361, 'jack': 3758, 'helpful': 3394, 'pretend': 5357, 'response': 5706, 'hypotheticalhuagauahahuagahyuhagga': 3558, '84128': 669, 'textcomp': 6741, '08712405020': 111, 'hooked': 3476, 'ride': 5743, 'crashing': 2058, 'pdate_now': 5092, 'tariffs': 6661, 'yhl': 7642, 'askin': 1083, 'salon': 5847, 'soul': 6288, 'fire': 2871, 'spark': 6309, 'flame': 2893, 'rawring': 5538, 'xoxo': 7596, 'tiring': 6861, 'uni': 7101, 'modules': 4521, 'concentrating': 1950, 'wonders': 7523, '7th': 626, '6th': 598, 'style': 6494, '5th': 556, '4th': 521, 'personality': 5125, '3rd': 465, 'answered': 977, '85233': 676, 'ny': 4829, '2p': 404, '08448350055': 64, 'planettalkinstant': 5195, 'hm': 3441, 'iouri': 3711, '6230': 568, '83383': 663, 'pobox114': 5232, '14tcr': 300, 'w1': 7280, 'millers': 4443, 'massive': 4339, 'rather': 5534, 'involved': 3710, 'somewhr': 6262, 'perfect': 5110, 'crushes': 2083, 'howz': 3514, 'relieved': 5640, 'westonzoyland': 7416, 'rencontre': 5661, 'mountains': 4563, 'luckily': 4222, 'starring': 6397, 'role': 5770, 'calicut': 1604, '08718726978': 145, 'soooo': 6275, 'problems': 5390, 'provider': 5430, 'tming': 6875, 'pics': 5163, 'bigger': 1349, 'draws': 2442, '09058094565': 178, 'univ': 7108, 'wendy': 7403, 'theyre': 6787, 'hospitals': 3494, 'fault': 2796, 'twice': 7035, 'mmm': 4494, 'yummy': 7674, 'jolt': 3823, 'treasure': 6980, '08715203694': 126, 'repeat': 5670, 'instructions': 3685, 'road': 5759, 'fortune': 2966, 'weeks': 7388, 'ffffffffff': 2828, 'sooner': 6273, 'oga': 4870, 'remind': 5652, 'loud': 4189, 'careful': 1657, 'entrepreneurs': 2618, 'submitting': 6502, 'habit': 3285, 'bari': 1228, 'hudgi': 3526, 'yorge': 7652, 'pataistha': 5069, 'ertini': 2638, 'rob': 5762, 'mack': 4264, 'gf': 3126, 'theater': 6766, 'pages': 5011, 'bsn': 1536, 'advising': 838, 'reboot': 5579, 'xavier': 7591, 'bag': 1198, 'caring': 1661, 'treadmill': 6979, 'craigslist': 2052, '83370': 662, 'trivia': 6994, 'funk': 3054, 'tones2u': 6911, 'squeeeeeze': 6373, 'hug': 3527, 'lik': 4080, 'frndshp': 3021, 'cute': 2124, 'luvd': 4232, 'chosen': 1807, '09066364311': 229, 'spree': 6367, 'gep': 3116, '08715205273': 127, 'bot': 1444, 'notes': 4793, 'power': 5308, 'yoga': 7649, 'hip': 3427, 'hop': 3478, 'kb': 3883, 'yogasana': 7650, 'california': 1605, 'manageable': 4301, '09058095107': 182, 's3xy': 5824, 'paining': 5016, 'pap': 5031, 'sugar': 6532, '32000': 435, 'legitimat': 4041, 'efreefone': 2544, 'en': 2586, 'nange': 4653, 'bakra': 1205, 'kalstiya': 3869, 'exe': 2708, 'darlin': 2158, 'jabo': 3757, 'sundayish': 6553, 'jenny': 3794, 'leanne': 4027, 'jamster': 3768, 'wallpaper': 7314, '88888': 702, '08701213186': 75, 'zogtorius': 7688, 'age': 862, 'deciding': 2197, 'clever': 1842, 'guesses': 3268, 'willing': 7465, 'leona': 4049, 'attach': 1115, 'chillaxin': 1791, 'ikea': 3595, 'str': 6458, 'evn': 2685, 'evr': 2689, 'monster': 4539, 'falling': 2768, 'force': 2945, 'fall': 2766, 'smeone': 6200, 'morn': 4549, '750': 609, 'camcorder': 1624, '08000930705': 51, 'specific': 6318, 'regards': 5626, 'jaklin': 3765, 'usf': 7169, 'fudge': 3040, 'oreos': 4947, 'stores': 6454, 'british': 1515, 'hotels': 3500, '02072069400': 10, 'bx': 1587, '526': 542, 'sw73ss': 6592, 'hint': 3426, 'forum': 2967, 'ron': 5776, 'shuhui': 6094, 'successful': 6517, 'actor': 805, 'unemployed': 7095, 'rcv': 5545, 'svc': 6590, 'hardcore': 3332, '69988': 589, 'verify': 7215, 'believe': 1309, 'rhythm': 5738, 'establish': 2651, 'syllabus': 6617, 'grandmas': 3225, 'hungover': 3538, 'thasa': 6759, 'messed': 4423, 'yeh': 7628, 'pic': 5158, 'decorating': 2204, 'registered': 5628, 'sinco': 6126, 'payee': 5084, 'icicibank': 3570, 'urn': 7157, 'beware': 1337, 'frauds': 2985, 'disclose': 2340, 'presnts': 5353, 'bcz': 1269, 'mis': 4466, 'jeevithathile': 3791, 'irulinae': 3725, 'neekunna': 4695, 'prakasamanu': 5323, 'sneham': 6223, 'prakasam': 5322, 'ennal': 2607, 'mns': 4499, 'resume': 5718, 'avatar': 1148, 'nigro': 4740, 'annie': 966, 'watever': 7349, 'relation': 5634, 'built': 1554, 'remains': 5645, 'atlast': 1111, 'iz': 3753, 'lonlines': 4161, 'lotz': 4187, 'memories': 4407, 'meanwhile': 4379, 'greet': 3241, 'plenty': 5215, 'reached': 5552, 'gentleman': 3112, 'dignity': 2315, 'respect': 5701, '0207': 9, '153': 313, '9996': 733, '14thmarch': 301, 'availa': 1145, 'walk': 7307, 'julianaland': 3845, 'oblivious': 4839, 'constantly': 1982, 'ear': 2503, 'upset': 7142, 'surprised': 6582, 'supposed': 6570, 'couldn': 2028, '8th': 716, 'atm': 1113, 'cartons': 1671, 'shelves': 6032, 'specify': 6319, 'domain': 2403, 'nusstu': 4822, 'awww': 1167, 'zaher': 7681, 'yavnt': 7620, 'jane': 3772, 'babes': 1184, 'wrk': 7564, 'foned': 2934, 'cover': 2041, 'chuck': 1813, 'cbe': 1692, 'whens': 7430, 'consent': 1976, 'forms': 2964, 'membership': 4405, 'jackpot': 3760, '81010': 645, 'dbuk': 2178, 'lccltd': 4015, '4403ldnw1a7rw18': 488, 'oic': 4873, 'group': 3251, 'bristol': 1514, 'st': 6379, 'les': 4051, 'rudi': 5804, 'snoring': 6226, 'drunk': 2467, 'bak': 1204, 'sends': 5968, 'ink': 3665, 'dan': 2145, 'reminded': 5653, 'haircut': 3294, 'breezy': 1500, 'temales': 6712, 'accessible': 774, '08709501522': 95, '139': 294, 'la3': 3958, '2wu': 414, 'respond': 5704, 'quickly': 5488, 'bathe': 1248, 'noice': 4761, 'senthil': 5976, 'hsbc': 3521, 'rules': 5809, 'happening': 3325, 'bend': 1319, 'thia': 6789, 'inlude': 3666, 'previews': 5362, 'several': 5995, '3qxj9': 464, '08702840625': 83, '220': 358, 'cm2': 1864, '9ae': 734, 'aids': 878, 'patent': 5070, 'freaky': 2988, 'cat': 1682, 'goigng': 3168, 'except': 2701, 'perfume': 5114, 'pocked': 5244, 'dates': 2168, 'walkabout': 7308, 'bitch': 1368, 'ring': 5749, 'bathing': 1249, 'dog': 2384, '08715203652': 123, '42810': 483, '29': 380, 'anybody': 987, 'tactful': 6633, 'greatest': 3237, 'courage': 2035, 'bear': 1273, 'defeat': 2213, 'losing': 4178, 'raviyog': 5537, 'peripherals': 5117, 'bhayandar': 1344, 'vote': 7270, 'guides': 3272, 'tall': 6654, 'lab': 3960, 'hopefully': 3482, 'tyler': 7053, 'semiobscure': 5963, 'kisses': 3925, 'rewarding': 5735, 'whom': 7444, 'waited': 7300, 'club4mobiles': 1858, '87070': 685, 'club4': 1857, 'box1146': 1454, 'mk45': 4491, '2wt': 413, 'area': 1038, 'restaurant': 5710, 'claims': 1825, 'dept': 2256, '13': 291, '08717507382': 132, 'anyplaces': 991, 'grandfather': 3223, 'expired': 2726, 'basically': 1240, 'sub': 6499, 'naughty': 4670, 'clothes': 1853, '5pm': 555, '95': 727, 'pax': 5080, 'deposit': 2252, 'tape': 6660, 'measure': 4380, 'comingdown': 1914, 'study': 6485, 'natwest': 4669, '09058094454': 175, 'meetin': 4390, 'dabooks': 2138, 'hrs': 3520, 'favourite': 2802, 'armenia': 1051, 'swann': 6595, 'mids': 4436, 'promises': 5411, 'gotten': 3206, 'weekdays': 7384, 'haiz': 3296, 'nails': 4642, 'drivin': 2457, 'bbq': 1259, '6ish': 593, 'hell': 3385, 'surname': 6580, 'clue': 1862, 'begins': 1304, 'clas': 1828, 'wrks': 7567, 'jot': 3830, 'overtime': 4989, 'nigpun': 4739, 'tm': 6874, 'smart': 6194, 'move': 4566, 'jurong': 3851, 'buffet': 1549, 'cine': 1817, 'amore': 944, 'ned': 4687, 'convince': 1999, 'witot': 7495, 'hurting': 3547, 'various': 7197, 'actual': 806, 'walsall': 7317, 'tue': 7019, 'terry': 6729, 'opinion': 4924, 'jada': 3763, 'kusruthi': 3951, 'character': 1732, 'matured': 4358, 'stylish': 6497, 'simple': 6120, 'model': 4518, 'youi': 7655, 'maximize': 4363, 'cc': 1693, '08718720201': 138, 'iraq': 3717, 'afghanistan': 848, 'stable': 6381, 'honest': 3464, 'traveling': 6975, 'tat': 6665, 'note': 4792, 'asks': 1085, 'disconnect': 2341, 'terrorist': 6728, 'itz': 3747, 'confirmd': 1962, 'verified': 7214, 'cnn': 1869, 'ibn': 3565, '12mths': 290, '400mins': 473, 'j5q': 3755, 'spoke': 6351, 'maneesha': 4309, 'satisfied': 5872, 'toll': 6901, 'mini': 4452, 'cheetos': 1768, 'flurries': 2916, 'melt': 4402, 'eek': 2540, 'frying': 3033, 'pan': 5020, 'perhaps': 5115, 'silly': 6116, 'isn': 3732, 'ilol': 3601, 'personally': 5126, 'wuldnt': 7583, 'bother': 1446, 'mite': 4484, 'ou': 4965, '40gb': 477, 'mp3': 4573, 'player': 5203, '83355': 661, 'ibhltd': 3562, 'ldnw15h': 4019, 'mtmsgrcvd18': 4592, 'retard': 5720, 'serious': 5981, 'proper': 5419, 'tongued': 6915, 'mnths': 4501, 'callback': 1609, 'records': 5603, 'prin': 5370, 'summers': 6547, 'singles': 6130, 'matched': 4344, 'summer': 6546, 'help08714742804': 3392, 'sometext': 6253, 'change': 1724, 'consider': 1978, 'walls': 7315, 'bunkers': 1559, 'sos': 6287, 'rang': 5528, '09050003091': 167, 'c52': 1593, 'kills': 3916, 'ree': 5612, 'stops': 6451, 'burgundy': 1563, 'captaining': 1646, 'stress': 6465, 'annoying': 971, 'birth': 1364, '8lb': 713, '7oz': 624, 'brilliantly': 1508, 'however': 3512, 'stays': 6416, 'ors': 4954, 'stool': 6445, '09050005321': 168, '123': 283, '09050002311': 166, 'b4280703': 1176, '08718727868': 146, 'arsenal': 1065, 'dartboard': 2162, 'condition': 1955, 'doubles': 2422, 'trebles': 6984, 'drunkard': 2468, 'referin': 5616, 'mei': 4396, 'waitin': 7301, 'rich': 5740, 'onwards': 4909, 'engalnd': 2597, 'mia': 4431, 'elliot': 2568, 'kissing': 3926, 'tmorrow': 6877, 'accomodate': 780, 'parkin': 5047, 'kent': 3892, 'vale': 7185, 'mw': 4626, 'filled': 2846, 'tuth': 7030, 'hdd': 3358, 'casing': 1678, 'mths': 4589, 'wherre': 7434, '84025': 667, 'web2mobile': 7370, 'txt250': 7042, 'box139': 1455, 'la32wu': 3959, 'txtx': 7052, 'wikipedia': 7460, 'lim': 4089, 'mirror': 4465, 'youre': 7660, 'turning': 7028, 'step': 6424, 'foward': 2974, 'ruin': 5806, 'inconsiderate': 3636, 'nag': 4639, 'recession': 5593, 'hence': 3400, 'gimmi': 3136, 'goss': 3198, 'hiding': 3418, 'ic': 3567, 'doors': 2414, 'sometime': 6256, 'omw': 4892, 'half8th': 3298, 'baaaaaaaabe': 1181, '08702490080': 82, '09066358152': 223, 'prompts': 5416, 'dropped': 2461, 'stairs': 6385, 'seems': 5946, 'phews': 5140, 'wan2': 7320, 'westlife': 7415, 'm8': 4251, 'unbreakable': 7078, 'untamed': 7125, 'unkempt': 7111, '83049': 656, 'settling': 5992, 'happenin': 3324, 'ola': 4884, 'enufcredeit': 2622, 'tocall': 6887, 'ileave': 3598, 'yor': 7651, 'lays': 4013, 'philosophy': 5142, 'board': 1414, 'issue': 3734, 'overheating': 4988, 'reslove': 5697, 'software': 6236, 'inst': 3679, 'pending': 5102, 'clock': 1845, 'vegas': 7208, '2stoptxt': 409, 'bunch': 1557, 'lotto': 4186, 'chase': 1741, 'stated': 6407, 'movies': 4570, 'grocers': 3247, 'ndship': 4676, 'needle': 4692, '4few': 510, 'seconds': 5929, 'conected': 1957, '9t': 738, 'depends': 2251, 'handset': 3310, 'networks': 4712, 'unlimited': 7114, 'living': 4126, 'laughing': 4005, 'winning': 7477, 'tooo': 6924, 'nte': 4810, 'eurodisinc': 2659, 'trav': 6973, 'aco': 794, 'entry41': 2621, 'morefrmmob': 4548, 'shracomorsglsuplt': 6089, 'ls1': 4212, '3aj': 451, 'wouldn': 7554, 'styles': 6495, 'starshine': 6399, 'sips': 6134, 'cappuccino': 1643, 'accommodation': 778, 'global': 3150, 'phb1': 5139, 'ph': 5137, '08700435505150p': 72, 'sheffield': 6029, 'tom': 6902, 'opinions': 4925, 'categories': 1686, 'ethnicity': 2654, 'census': 1706, 'transcribing': 6964, 'taxt': 6675, 'massage': 4337, 'tie': 6842, 'pos': 5279, 'argh': 1042, 'lool': 4168, 'pleasant': 5209, 'statements': 6409, 'xuhui': 7598, 'include': 3631, 'frog': 3026, 'axel': 1169, 'akon': 894, 'eyed': 2742, 'popped': 5273, 'loo': 4162, 'ed': 2527, 'shade': 6005, 'picture': 5165, 'hurt': 3546, 'violated': 7243, 'holy': 3460, 'christ': 1809, 'detailed': 2273, 'chocolate': 1801, 'fav': 2797, 'vill': 7239, 'parco': 5041, 'nb': 4673, '1030': 262, 'orc': 4940, 'exorcism': 2716, 'emily': 2582, 'rose': 5783, 'hugs': 3531, 'snogs': 6225, 'recpt': 5606, 'ordered': 4943, 'processed': 5395, 'workout': 7537, 'fats': 2794, '09058094455': 176, 'checkmate': 1759, 'chess': 1773, 'persian': 5120, 'phrase': 5155, 'shah': 6007, 'maat': 4257, 'cross': 2078, '08001950382': 53, '674': 577, 'chile': 1789, 'subletting': 6500, 'sell': 5957, 'wifi': 7458, 'blanked': 1382, '08717898035': 136, 'fighting': 2837, 'fightng': 2838, 'some1': 6246, 'dificult': 2311, 'lf56': 4061, 'manky': 4312, 'scouse': 5907, 'steve': 6429, 'travelling': 6977, 'inmind': 3667, 'recreation': 5607, '88877': 701, 'wearing': 7366, 'dresser': 2449, 'china': 1793, 'wet': 7418, 'porn': 5275, 'inc': 3626, 'vat': 7202, 'sura': 6573, 'ugh': 7061, 'asus': 1104, 'randomly': 5526, 'reformat': 5620, 'imagine': 3603, 'sink': 6131, 'paces': 5004, 'cage': 1597, 'cock': 1877, 'surrounded': 6584, 'reminding': 5655, 'cuck': 2101, 'erm': 2633, '45pm': 499, 'chk': 1800, 'belovd': 1316, 'ms': 4578, 'dict': 2296, 'horny': 3488, 'local': 4139, 'strt': 6474, 'netcollex': 4705, 'ltdhelpdesk': 4218, '02085076972': 12, 'inches': 3628, 'gudnite': 3266, 'practice': 5319, 'hottest': 3502, 'straight': 6460, 'wanting': 7327, 'torture': 6937, 'dom': 2402, '08718723815': 139, 'squeezed': 6374, 'bucks': 1543, 'necklace': 4686, 'token': 6897, 'liking': 4086, 'squatting': 6372, 'walking': 7311, 'cry': 2084, 'edge': 2528, 'underdtand': 7089, 'goldviking': 3176, '762': 612, 'aaooooright': 747, 'missin': 4475, 'jess': 3798, 'abstract': 765, 'alternative': 926, 'term': 6722, 'pre': 5332, 'cancelled': 1634, 'sacked': 5829, 'fucks': 3039, 'sake': 5839, 'carry': 1668, 'heavy': 3377, '98321561': 731, 'familiar': 2772, 'ayo': 1173, 'travelled': 6976, 'forgotten': 2957, 'harder': 3333, 'nbme': 4674, 'folks': 2926, 'limping': 4093, 'followed': 2928, 'aa': 744, 'exhaust': 2712, 'hanging': 3316, 'ummmmmaah': 7074, 'splash': 6344, '81303': 647, 'delivered': 2231, 'sufficient': 6529, 'slp': 6190, 'muah': 4595, 'apnt': 1002, 'reminder': 5654, 'postcode': 5293, 'history': 3431, 'comfort': 1911, 'sold': 6241, 'onion': 4902, 'shesil': 6034, 'west': 7413, 'palm': 5019, 'chinese': 1796, 'lipo': 4109, 'reckon': 5597, 'eightish': 2554, 'carpark': 1667, 'foot': 2939, 'penis': 5103, '200': 343, '09066361921': 225, 'riley': 5747, 'soo': 6271, 'muchxxlove': 4598, 'locaxx': 4142, 'tscs': 7012, 'idew': 3581, 'skillgame': 6155, '1winaweek': 338, '150ppermesssubscription': 308, 'claire': 1826, 'havin': 3354, 'borin': 1438, '09099725823': 246, 'minmoremobsemspobox45po139wa': 4456, '88600': 698, '1million': 330, 'ppt150x3': 5315, 'normal': 4784, 'box403': 1463, 'w1t1jy': 7287, 'adoring': 826, 'cl': 1822, 'masters': 4341, 'attend': 1120, 'rounds': 5788, '83039': 655, '62735': 570, '450': 495, 'accommodationvouchers': 779, 'conditions': 1956, 'mustprovide': 4624, '15541': 314, 'evo': 2687, 'flash': 2894, 'jealous': 3789, 'jan': 3770, 'whn': 7441, 'al': 895, 'ofice': 4866, 'cn': 1867, 'duffer': 2483, '15pm': 315, '09095350301': 245, 'erotic': 2635, 'ecstacy': 2525, '60p': 563, 'nat': 4659, 'reverse': 5731, 'cheating': 1752, 'mathematics': 4349, 'pose': 5280, 'comb': 1904, 'dryer': 2471, 'playng': 5207, 'racing': 5500, 'nor': 4778, 'dependents': 2250, 'texting': 6744, 'boye': 1470, 'torrents': 6935, 'particularly': 5052, 'legal': 4040, 'slowing': 6188, 'chart': 1740, 'heroes': 3406, 'tips': 6859, 'xin': 7594, 'hostel': 3496, 'snatch': 6222, 'purse': 5461, 'height': 3381, 'throws': 6828, 'gal': 3068, 'brothers': 1525, 'vava': 7204, 'umma': 7071, 'taylor': 6676, 'assumed': 1097, 'worst': 7546, 'smoothly': 6211, 'bills': 1356, 'challenging': 1719, 'fb': 2803, 'jaykwon': 3783, 'thuglyfe': 6833, 'falconerf': 2765, 'arty': 1069, 'collages': 1888, 'tryin': 7008, 'ne': 4677, 'roast': 5761, 'moan': 4503, 'snap': 6220, 'quizclub': 5494, '80122300p': 636, 'sp': 6300, 'rwm': 5822, '08704050406': 84, 'melle': 4399, 'oru': 4955, 'minnaminunginte': 4457, 'nurungu': 4820, 'vettam': 7220, 'callertune': 1616, 'callers': 1615, 'copy': 2008, 'significant': 6109, 'moby': 4515, 'duchess': 2477, 'cornwall': 2010, '82277': 652, '008704050406': 3, 'along': 919, 'rajini': 5515, 'partner': 5054, '83600': 665, 'dollar': 2399, 'february': 2807, 'resolution': 5698, 'frank': 2981, 'proof': 5418, 'rupaul': 5817, 'tool': 6923, 'mode': 4517, 'recharge': 5594, 'blimey': 1391, 'exercise': 2710, 'downloaded': 2429, 'paid': 5013, 'doit': 2395, 'mymoby': 4630, 'parking': 5048, 'collapsed': 1889, 'university': 7109, 'punish': 5451, 'handle': 3308, 'victoria': 7226, 'island': 3730, 'traffic': 6957, 'diamonds': 2292, 'puttin': 5468, 'biola': 1360, 'fne': 2923, 'answers': 980, 'ques': 5483, 'suits': 6540, '2marrow': 391, 'soc': 6232, 'centre': 1708, '22': 357, 'removed': 5660, 'tahan': 6636, 'anot': 972, 'networking': 4711, 'associate': 1094, 'hooch': 3473, 'toaday': 6885, 'fell': 2817, 'splat': 6346, 'grazed': 3235, 'knees': 3932, 'stayed': 6413, 'hillsborough': 3423, 'loans': 4137, 'rats': 5536, 'themes': 6773, 'fingers': 2863, 'flavour': 2897, 'brand': 1481, 'shortly': 6070, 'install': 3680, 'browse': 1529, 'artists': 1067, 'iscoming': 3727, 'tnc': 6881, 'com1win150ppmx3age16subscription': 1903, 'recieve': 5596, '24hrs': 364, 'channel': 1728, 'teletext': 6704, 'pg': 5136, 'mall': 4297, 'yellow': 7630, 'frndship': 3020, 'misscall': 4473, 'frndz': 3023, '6missed': 594, 'marry': 4331, '07753741225': 31, '08715203677': 125, '42478': 482, '24': 363, 'command': 1915, 'ceri': 1712, 'rebel': 5578, 'dreamz': 2446, 'buddy': 1545, 'blokes': 1399, 'addicted': 813, 'msging': 4581, 'drama': 2437, 'struggling': 6476, 'strange': 6462, 'ego': 2549, 'necessity': 4684, 'reppurcussions': 5681, 'gravity': 3233, 'carefully': 1658, 'feels': 2814, 'leaves': 4033, '945': 725, 'geeee': 3102, 'cuddling': 2105, 'ashwini': 1077, 'hen': 3399, 'standing': 6391, 'gauge': 3088, 'patty': 5076, 'interest': 3690, 'figures': 2841, 'generally': 3108, 'brothas': 1523, 'meg': 4393, '4goten': 515, 'scammers': 5888, 'regular': 5631, 'vodafone': 7262, 'further': 3057, 'prem': 5339, 'apology': 1007, 'bffs': 1340, 'carly': 1665, 'wrc': 7557, 'rally': 5520, 'lucozade': 4224, 'le': 4020, '61200': 565, 'packs': 5008, 'itcould': 3738, 'lips': 4110, 'win150ppmx3age16': 7468, 'ericson': 2631, 'der': 2257, 'luks': 4226, 'modl': 4519, 'tap': 6659, 'spile': 6335, 'broad': 1518, 'canal': 1631, 'prone': 5417, 'fetch': 2823, 'atleast': 1112, 'shakespeare': 6011, 'va': 7182, 'items': 3739, '7cfca1a': 622, 'aha': 873, '08712402779': 107, '114': 272, '14': 295, 'tcr': 6681, '2morrow': 395, 'grasp': 3229, 'booty': 1434, 'alter': 925, 'keen': 3885, 'shouldn': 6075, 'ambrith': 935, 'madurai': 4271, 'dha': 2285, 'marrge': 4328, 'remembr': 5650, 'charles': 1737, 'excited': 2703, 'rebooting': 5580, 'coughing': 2025, 'abroad': 763, 'xxsp': 7600, 'visionsms': 7252, 'stopcost': 6448, '08712400603': 105, '5k': 551, '09064011000': 208, 'cr01327bt': 2048, 'fixedline': 2887, 'nobody': 4758, 'recognises': 5599, 'hugging': 3529, 'seem': 5944, 'downs': 2432, 'fletcher': 2898, '09058094507': 177, 'shut': 6095, 'boys': 1473, 'changing': 1727, 'diapers': 2293, 'owed': 4994, 'entertain': 2612, 'cancer': 1635, 'restock': 5711, 'thanksgiving': 6756, 'catches': 1684, 'get4an18th': 3119, 'fetching': 2824, 'arrow': 1064, 'neither': 4700, 'sterm': 6428, 'resolved': 5699, 'restrict': 5713, 'eating': 2520, 'likes': 4084, 'dictionary': 2297, 'screen': 5914, 'hand': 3305, 'gently': 3113, 'interesting': 3692, 'ma': 4254, 'ashley': 1076, 'hotel': 3499, 'invitation': 3703, 'apologise': 1005, 'cali': 1603, 'english': 2600, 'bloke': 1398, 'weddin': 7376, 'thanks2': 6755, 'vday': 7206, 'parachute': 5037, 'coins': 1885, 'netflix': 4706, 'jog': 3811, 'cutest': 2126, '08714712412': 120, '7pm': 625, 'chief': 1781, 'royal': 5792, 'sending': 5967, 'agent': 866, 'goodies': 3185, 'mat': 4342, 'beauty': 1278, 'hides': 3417, 'thousands': 6815, 'secrets': 5933, 'n8': 4634, 'film': 2849, 'wknd': 7504, 'darling': 2159, 'resuming': 5719, 'minimum': 4453, 'period': 5116, 'reapply': 5571, 'uworld': 7181, 'qbank': 5473, 'assessment': 1091, 'bathroom': 1250, 'wun': 7584, 'environment': 2625, 'terrific': 6726, 'subpoly': 6503, '81618': 648, '08718727870': 147, 'program': 5401, 'slacking': 6165, 'pound': 5302, '08712101358': 98, 'bears': 1274, 'nick': 4731, 'types': 7055, 'gals': 3070, 'attached': 1116, 'wining': 7474, '946': 726, '69200': 581, 'chrgd': 1808, '2exit': 383, '07808': 37, 'xxxxxx': 7605, '08719899217': 156, '41685': 479, '07': 21, 'quiet': 5489, 'beth': 1330, 'aunts': 1136, 'charlie': 1738, 'helen': 3383, 'famous': 2774, 'quote': 5496, 'develop': 2279, 'ability': 755, 'unconditionally': 7083, 'temper': 6714, 'confidence': 1959, 'wrking': 7566, 'ice': 3568, 'taxi': 6673, 'ing': 3662, 'gauti': 3090, 'sehwag': 5949, 'odi': 4850, 'ball': 1208, 'moving': 4572, 'spin': 6336, 'ecstasy': 2526, 'laready': 3989, 'covers': 2043, 'trends': 6986, 'pros': 5425, 'cons': 1974, 'brief': 1504, 'description': 2260, 'nuclear': 4813, 'fusion': 3058, 'iter': 3740, 'jet': 3800, 'perumbavoor': 5130, 'bare': 1226, 'orh': 4950, 'tons': 6919, 'paypal': 5089, 'voila': 7266, 'pockets': 5246, 'behave': 1305, 'moji': 4523, 'r836': 5498, '09065069154': 217, 'ooooooh': 4914, 'yoville': 7667, 'shoppin': 6061, 'audiitions': 1128, 'relocate': 5642, 'flyng': 2920, 'horo': 3489, 'star': 6394, 'aries': 1046, 'dealing': 2184, 'textpod': 6746, 'vpod': 7275, 'popping': 5274, 'ibuprofens': 3566, 'corporation': 2011, 'gap': 3077, 'ajith': 891, 'joy': 3832, '____': 741, 'ths': 6830, 'tis': 6864, 'ias': 3560, 'thangam': 6752, 'held': 3382, 'prasad': 5326, 'engagement': 2596, 'fixd': 2885, 'shocking': 6056, 'njan': 4753, 'vilikkam': 7238, 'ws': 7573, 'sudn': 6525, 'heading': 3363, 'mylife': 4629, 'pull': 5447, 'management': 4303, 'connect': 1970, 'x29': 7588, '09065989180': 221, 'text82228': 6738, 'logos': 4151, 'txt82228': 7044, 'blankets': 1384, '21': 354, 'jiayin': 3805, 'misplaced': 4471, 'mcat': 4369, '3510i': 441, '8000930705': 631, 'tallahassee': 6655, 'karaoke': 3876, 'accordingly': 783, 'hopeing': 3483, 'sisters': 6139, 'helens': 3384, 'princes': 5372, 'malaria': 4295, 'worse': 7545, 'gastroenteritis': 3087, 'replace': 5672, 'loss': 4179, 'temp': 6713, 'reduce': 5611, 'limiting': 4091, 'illness': 3600, 'chinatown': 1794, 'porridge': 5276, 'claypot': 1833, 'rice': 5739, 'yam': 7615, 'fishhead': 2879, 'beehoon': 1291, 'cafe': 1596, 'somethin': 6254, 'tau': 6669, 'sar': 5860, 'piah': 5157, 'miles': 4441, 'impatient': 3613, 'belligerent': 1313, 'eldest': 2562, 'unsold': 7121, 'players': 5204, 'base': 1236, 'diwali': 2360, 'accident': 776, 'a30': 743, 'divert': 2357, 'wadebridge': 7293, 'varaya': 7195, 'elaya': 2561, 'factory': 2750, 'nitros': 4750, 'building': 1553, 'coat': 1873, 'leg': 4039, 'musta': 4622, 'overdid': 4986, 'kanji': 3873, 'upgrdcentre': 7136, '9153': 721, 'superior': 6562, 'ours': 4968, 'waheed': 7296, 'fathima': 2793, 'conform': 1964, 'weirdest': 7394, 'auto': 1141, 'such': 6519, 'magical': 4276, 'sight': 6105, 'worlds': 7540, 'dressed': 2448, 'oooooh': 4913, 'elaborating': 2559, 'safety': 5836, 'aspects': 1089, 'sam': 5849, 'thirtyeight': 6800, 'easier': 2510, '0825': 61, 'threats': 6818, 'sales': 5844, 'shifad': 6036, 'raised': 5512, 'complaint': 1932, 'lit': 4118, 'journey': 3831, 'huge': 3528, 'marking': 4326, 'lick': 4066, 'hppnss': 3517, 'sorrow': 6278, 'forevr': 2950, 'goodfriend': 3184, 'belongs': 1315, 'fated': 2791, 'shoranur': 6063, 'fuelled': 3041, 'concern': 1951, 'prior': 5378, 'grief': 3244, 'chain': 1717, 'women': 7517, 'cramps': 2054, 'specially': 6317, '3000': 420, '08712402050': 106, 'lines': 4099, '10ppm': 266, 'ag': 859, 'promo': 5412, 'advice': 836, 'split': 6347, 'ptbo': 5441, 'suggestion': 6535, 'lands': 3980, 'helps': 3397, 'forgt': 2958, 'previous': 5363, 'favorite': 2800, 'oyster': 5001, 'sashimi': 5867, 'stomach': 6440, 'rumbling': 5811, '09058095201': 183, 'cheat': 1751, 'throw': 6824, 'matric': 4353, 'railway': 5508, 'sonathaya': 6265, 'soladha': 6240, 'accordin': 782, 'beerage': 1295, 'tacos': 6632, '08712400200': 103, 'worries': 7542, 'byatch': 1591, 'whassup': 7420, 'progress': 5403, 'continue': 1991, '0796xxxxxx': 44, 'prizeawaiting': 5384, 'contents': 1990, 'eight': 2552, 'panic': 5024, 'someday': 6248, 'gek1510': 3105, 'lasagna': 3992, 'vodka': 7263, 'lindsay': 4094, 'sighs': 6104, 'bars': 1235, 'heron': 3407, 'waliking': 7306, 'allowed': 916, 'thnx': 6807, 'nowadays': 4806, 'showrooms': 6087, 'shaping': 6019, 'cps': 2046, 'causing': 1689, 'outages': 4971, 'conserve': 1977, 'puppy': 5453, 'noise': 4762, 'yunny': 7676, 'citylink': 1821, 'realise': 5563, 'andrews': 959, 'ouch': 4966, 'computational': 1943, 'science': 5897, 'push': 5462, 'cooked': 2001, 'salmon': 5846, 'scraped': 5908, 'barrel': 1233, 'misfits': 4469, 'idc': 3575, 'weaseling': 7367, 'okors': 4883, 'cherish': 1771, 'mojibiola': 4524, '09061790126': 203, 'drivby': 2454, '0quit': 254, 'edrunk': 2532, 'iff': 3588, 'pthis': 5442, 'senrd': 5970, 'dnot': 2366, 'dancce': 2146, 'drum': 2466, 'basq': 1243, 'ihave': 3593, '2nhite': 400, 'ros': 5782, 'xxxxxxx': 7606, '09050000928': 164, 'shoul': 6073, 'dub': 2475, 'je': 3788, 'buff': 1548, 'rubber': 5802, 'bluray': 1412, 'ummma': 7073, 'mokka': 4525, 'jacket': 3759, 'multis': 4603, 'heater': 3375, 'degrees': 2220, 'grinder': 3245, 'forfeit': 2951, 'butt': 1576, 'hang': 3313, 'starving': 6404, 'discreet': 2344, 'vip': 7246, '83110': 657, 'absolutly': 764, 'operate': 4922, 'buyers': 1582, '2morro': 394, 'passion': 5063, '09099726481': 248, 'dena': 2239, 'rooms': 5781, 'befor': 1297, 'activities': 804, 'luvs': 4233, 'appointment': 1016, 'surrender': 6583, 'appy': 1026, 'fizz': 2889, 'contains': 1986, 'denying': 2247, 'planned': 5196, 'result': 5716, 'sentiment': 5977, 'rowdy': 5791, 'attitude': 1124, 'shy': 6096, 'attractive': 1125, 'irritating': 3723, 'swan': 6594, 'super': 6560, 'nalla': 4644, 'timing': 6856, 'gumby': 3276, 'costing': 2021, 'offering': 4859, 'panties': 5029, 'disagreeable': 2334, 'karnan': 3877, '6pm': 597, 'costume': 2023, 'changes': 1726, 'report': 5680, 'aint': 882, 'complaining': 1931, '30': 418, 'stretch': 6468, 'pussy': 5465, 'intend': 3688, 'iwas': 3751, 'marine': 4323, 'itried2tell': 3742, 'urmom': 7156, 'careabout': 1653, 'screamed': 5912, 'hallaq': 3300, 'owned': 4997, 'possessive': 5286, 'imp': 3612, 'flies': 2900, 'hittng': 3436, 'reflex': 5619, 'prevent': 5361, 'dehydration': 2222, 'fluids': 2915, 'donno': 2407, 'scorable': 5900, 'spiffing': 6334, 'workage': 7533, 'openings': 4921, 'upcharge': 7130, 'predicting': 5335, 'inch': 3627, 'accumulation': 787, 'maangalyam': 4256, 'alaipayuthe': 897, 'splashmobile': 6345, '1000s': 259, 'subscrition': 6514, '300p': 423, '087123002209am': 101, 'outstanding': 4981, 'invoices': 3708, 'headstart': 3366, '30ish': 426, 'rummer': 5812, 'grr': 3256, 'prescription': 5347, 'pharmacy': 5138, 'vewy': 7221, 'lubly': 4220, 'exp': 2718, '30apr': 425, '169': 318, '6031': 561, 'bud': 1544, 'piece': 5168, 'priscilla': 5379, 'bowl': 1452, 'watched': 7343, 'sux': 6588, 'raiden': 5507, 'portal': 5277, 'excuses': 2707, 'easily': 2512, 'forgets': 2953, 'santa': 5857, '09058094583': 179, 'testing': 6733, 'sayy': 5886, 'dearer': 2188, 'dem': 2236, '09111032124': 251, 'pobox12n146tf150p': 5234, 'sao': 5858, 'pandy': 5023, 'mental': 4411, 'enjoyin': 2603, 'yourjob': 7662, 'seemed': 5945, 'llspeak': 4130, '2u': 410, 'soonlots': 6274, 'loveme': 4198, 'practicing': 5320, 'babies': 1185, 'arm': 1049, 'shot': 6072, '07808726822': 39, '09': 158, '0871': 96, '872': 690, '9758': 729, 'box95qu': 1467, 'comedy': 1908, 'desparate': 2265, 'learned': 4029, 'fake': 2762, 'filling': 2847, 'holder': 3453, 'pc': 5090, 'dining': 2321, 'experiencehttp': 2724, 'vouch4me': 7272, 'etlp': 2655, 'asp': 1088, 'field': 2833, 'administrator': 821, '121': 281, '09094646899': 244, 'biggest': 1350, 'vu': 7279, 'bcm1896wc1n3xx': 1263, '7250i': 604, '86021': 678, 'w1jhl': 7286, 'massages': 4338, 'oil': 4874, 'fave': 2798, 'position': 5283, 'surfing': 6577, 'compass': 1926, 'map': 4314, 'loose': 4171, 'gnun': 3157, 'way2sms': 7357, '88039': 694, 'skilgme': 6154, 'tscs08714740323': 7013, '1winawk': 339, '50perweeksub': 536, 'needa': 4689, '09063458130': 206, 'polyph': 5262, 'amy': 952, 'surya': 6586, 'pokkiri': 5254, 'mary': 4335, 'flirting': 2906, 'paperwork': 5035, 'nervous': 4702, 'knowing': 3938, 'fired': 2872, '448712404000': 492, '08712404000': 110, 'created': 2065, 'asjesus': 1079, 'wrote': 7572, 'effects': 2543, 'brighten': 1506, 'monkey': 4535, 'asshole': 1092, 'heehee': 3380, 'gopalettan': 3195, 'participate': 5050, 'admin': 820, '61610': 566, '08712400602450p': 104, 'provided': 5429, 'tones2you': 6912, 'receipts': 5585, 'barring': 1234, 'sudden': 6523, 'influx': 3655, 'hustle': 3551, 'forth': 2965, 'harlem': 3338, 'doggy': 2389, 'cmon': 1866, 'fantasy': 2782, 'sticky': 6432, 'replies': 5676, 'sathya': 5871, 'considering': 1979, 'cutting': 2129, 'warning': 7333, 'samantha': 5850, 'guitar': 3275, 'impress': 3619, 'doug': 2425, 'realizes': 5568, 'casualty': 1681, 'stuff42moro': 6489, 'includes': 3632, 'sheets': 6028, 'shhhhh': 6035, '083': 62, '6089': 562, 'piss': 5179, 'backwards': 1193, 'hire': 3429, 'hitman': 3434, 'gran': 3221, 'onlyfound': 4907, 'afew': 841, 'cusoon': 2116, 'honi': 3470, 'sapna': 5859, 'aunty': 1137, 'manege': 4310, 'hogidhe': 3450, 'chinnu': 1798, 'swalpa': 6593, 'agidhane': 869, 'sec': 5927, 'epi': 2627, 'walked': 7309, 'secretly': 5932, 'fancies': 2777, '09065394973': 220, 'datebox1282essexcm61xn': 2167, '09058094599': 181, 'sweetheart': 6604, 'plum': 5219, 'loverboy': 4200, 'smacks': 6192, 'oi': 4872, 'printer': 5376, 'groovy': 3248, 'groovying': 3249, 'bless': 1387, 'bootydelious': 1435, '32': 434, 'banks': 1219, 'dhoni': 2287, 'hlday': 3439, 'horrible': 3490, 'camp': 1627, 'amrca': 948, 'serena': 5979, 'hmph': 3446, 'baller': 1209, 'sometme': 6258, 'converted': 1996, 'combine': 1906, 'parts': 5056, 'dvd': 2495, '4qf2': 519, 'lambu': 3973, 'ji': 3803, 'batchlor': 1246, 'spreadsheet': 6366, 'track': 6954, 'determine': 2275, 'entire': 2615, 'salam': 5841, 'wahleykkum': 7297, 'sharing': 6022, 'grace': 3216, 'visitor': 7255, 'nationwide': 4665, 'newport': 4720, 'lodging': 4145, 'mumhas': 4606, 'beendropping': 1293, 'theplace': 6779, 'adress': 828, 'prix': 5381, 'missions': 4477, 'arabian': 1034, 'steed': 6422, 'funeral': 3053, 'although': 927, 'baig': 1201, 'watches': 7344, 'touched': 6946, 'tlp': 6873, 'completing': 1937, 'stoners': 6443, 'disturb': 2353, '1000call': 258, '09071512432': 240, '300603t': 422, 'csbcm4235wc1n3xx': 2087, 'callcost150ppmmobilesvary': 1611, 'max': 4360, 'understanding': 7091, 'hcl': 3357, 'requires': 5688, 'freshers': 3004, 'process': 5394, 'needed': 4690, 'salary': 5842, 'suman': 6544, 'telephonic': 6703, 'joys': 3833, 'lifeis': 4073, 'daywith': 2176, 'thoughts': 6814, 'somewheresomeone': 6261, 'cares': 1660, 'tosend': 6938, 'greeting': 3242, 'earn': 2507, 'haul': 3346, 'billion': 1355, 'blank': 1381, 'custom': 2119, 'officer': 4862, 'asa': 1073, '0871277810710p': 114, 'farting': 2785, 'salt': 5848, 'rub': 5801, 'wounds': 7555, 'payed': 5083, 'suganya': 6531, 'compliments': 1940, 'proze': 5433, 'norcorp': 4780, 'forward': 2969, 'collected': 1892, 'dough': 2426, 'control': 1995, 'agree': 871, 'ipad': 3713, 'identification': 3579, 'prestige': 5356, '50s': 540, 'alot': 920, 'stability': 6380, 'tranquility': 6962, 'vibrant': 7223, 'colourful': 1899, 'tallent': 6656, 'wasting': 7340, 'vco': 7205, 'rays': 5541, 'cloud': 1854, 'sacrifice': 5830, 'audrie': 1131, 'autocorrect': 1142, 'multiply': 4602, 'independently': 3645, 'count': 2029, 'division': 2358, 'showed': 6081, 'released': 5638, 'cosign': 2018, 'juliana': 3844, 'stu': 6478, 'truble': 6998, 'evone': 2688, 'hates': 3345, 'av': 1143, 'bck': 1261, 'remain': 5644, 'unconvinced': 7086, 'elaborate': 2558, 'willpower': 7466, '07801543489': 36, 'latests': 4001, 'llc': 4129, 'usa': 7160, 'mt': 4586, 'msgrcvd18': 4582, 'takin': 6644, 'linear': 4096, 'algebra': 907, 'dying': 2498, 'vitamin': 7258, 'nasty': 4658, 'filthyguys': 2853, 'rude': 5803, 'slo': 6183, '4msgs': 517, 'wtc': 7575, 'weiyi': 7397, 'shanil': 6017, 'exchanged': 2702, 'uncut': 7087, 'diamond': 2291, 'dino': 2323, 'virgins': 7249, '4fil': 511, 'sexual': 5998, 'theirs': 6769, '69911': 587, 'puts': 5467, 'perspective': 5128, 'premium': 5342, 'pink': 5176, 'panther': 5028, 'sugababes': 6530, 'zebra': 7683, 'animation': 963, 'badass': 1195, 'hoody': 3474, 'maggi': 4275, 'mee': 4388, 'textin': 6743, '0871277810810': 115, 'housewives': 3507, '0871750': 131, '77': 615, 'landlines': 3979, 'pants': 5030, 'shelf': 6030, 'egg': 2547, 'slob': 6184, 'complexities': 1938, 'freely': 2995, 'taxes': 6672, 'outrageous': 4977, 'auntie': 1134, 'huai': 3524, 'juan': 3840, 'nigh': 4736, '69696': 583, '3lp': 458, 'hw': 3554, 'mising': 4470, 'survey': 6585, '80160': 638, 'txt43': 7043, 'scenario': 5891, '86888': 682, 'subscribe6gbp': 6507, 'mnth': 4500, '3hrs': 456, 'txtstop': 7050, 'studies': 6483, 'anyones': 990, 'qet': 5474, 'yupz': 7679, '2geva': 387, 'satanic': 5869, 'imposter': 3618, 'destiny': 2271, 'teresa': 6721, 'received': 5588, 'dec': 2191, 'ld': 4016, 'bam': 1211, 'aid': 877, 'usmle': 7172, 'sickness': 6101, 'calculation': 1602, 'units': 7107, 'accent': 771, '4years': 528, 'dental': 2243, 'nmde': 4754, 'woodland': 7526, 'avenue': 1153, 'parish': 5044, 'magazine': 4274, 'telephone': 6702, 'managed': 4302, 'oxygen': 5000, 'resort': 5700, 'roller': 5773, 'bhaji': 1342, 'cricketer': 2074, 'sachin': 5827, 'young': 7656, 'checkup': 1760, 'aka': 893, 'smear': 6199, 'whore': 7445, 'call09050000327': 1607, 'rstm': 5796, 'sw7': 6591, '3ss': 466, 'shant': 6018, 'jia': 3804, 'detroit': 2277, '2find': 385, 'ke': 3884, 'qi': 5475, 'suddenly': 6524, '08452810071': 68, 'webadres': 7371, 'geting': 3120, 'slip': 6180, '09061701851': 193, 'k61': 3859, '12hours': 288, '09066362231': 228, '07xxxxxxxxx': 46, 'explicit': 2730, 'secs': 5934, '02073162414': 11, 'barred': 1232, 'twat': 7032, 'dungerees': 2487, 'decking': 2202, 'punch': 5450, 'ran': 5523, 'the4th': 6764, 'october': 4848, 'lives': 4125, 'stubborn': 6479, 'sucker': 6520, 'suckers': 6521, 'salad': 5840, 'desert': 2261, 'beers': 1296, 'spoons': 6357, 'macha': 4260, 'mindset': 4450, 'shorts': 6071, '077xxx': 35, '09066362206': 226, 'complete': 1933, 'gist': 3142, 'bec': 1279, 'tomorro': 6906, '3mobile': 461, 'chatlines': 1746, 'inclu': 3630, 'servs': 5986, 'l8er': 3953, 'mega': 4394, 'bailiff': 1202, 'answerin': 978, 'sleepy': 6174, 'creepy': 2071, 'eta': 2652, 'okday': 4877, 'muhommad': 4600, 'penny': 5104, 'deserve': 2262, 'tight': 6844, 'lined': 4097, 'heat': 3374, 'applyed': 1015, 'eachother': 2502, 'tonght': 6914, '08719181503': 153, 'noncomittal': 4771, 'sts': 6477, 'timings': 6857, '8am': 711, 'hubby': 3525, '89938': 710, 'strings': 6470, '50ea': 533, 'otbox': 4958, '731': 606, 'la1': 3957, '7ws': 627, 'playin': 5205, 'opps': 4930, 'confused': 1965, 'tt': 7017, 'spook': 6355, 'halloween': 3301, 'logo': 4148, '08701417012150p': 77, 'lingo': 4101, 'dreading': 2443, 'thou': 6811, 'denis': 2241, 'mina': 4446, 'size': 6149, 'elephant': 2566, 'shove': 6078, 'um': 7070, 'orno': 4953, 'ended': 2588, 'sunny': 6555, 'bay': 1255, 'jeremiah': 3795, 'enuff': 2623, 'mb': 4367, 'pie': 5167, 'singing': 6128, '09066358361': 224, 'y87': 7610, 'virtual': 7250, 'returned': 5724, 'weightloss': 7392, 'ebay': 2521, 'webpage': 7373, 'fffff': 2827, 'sweetie': 6605, 'fixes': 2888, 'spelling': 6328, 'language': 3983, '087018728737': 80, 'toppoly': 6931, 'tune': 7025, 'pole': 5255, 'guild': 3273, 'thinked': 6794, 'menu': 4414, 'clover': 1855, 'ryan': 5823, 'student': 6481, 'books': 1431, 'impressively': 3620, 'sensible': 5972, 'slightly': 6179, 'disastrous': 2338, 'darlings': 2160, 'wld': 7507, 'spell': 6326, '2yrs': 417, 'messenger': 4424, 'slippers': 6181, 'free2day': 2990, 'george': 3115, '89080': 704, 'celeb': 1701, 'pocketbabe': 5245, '0870241182716': 81, 'gained': 3067, 'kg': 3902, 'tests': 6734, 'pressure': 5355, 'limits': 4092, 'arrange': 1058, '07732584351': 28, 'rodger': 5767, 'burns': 1566, 'evey': 2682, 'electricity': 2565, 'fml': 2922, 'lady': 3967, 'womdarfull': 7516, 'inconvenient': 3637, 'chances': 1723, 'csh11': 2089, '6days': 590, 'tsandcs': 7011, 'positions': 5284, 'kama': 3870, 'sutra': 6587, 'hme': 3442, 'northampton': 4786, 'afraid': 849, 'adewale': 818, 'egbon': 2546, 'explicitly': 2731, 'nora': 4779, 'goodmate': 3186, 'sary': 5866, 'asusual': 1105, 'cheered': 1763, 'franyxxxxx': 2984, 'b4u': 1177, '27': 374, 'marsms': 4332, 'b4utele': 1178, '08717168528': 130, 'plm': 5216, 'decision': 2199, 'simpler': 6121, '09050001808': 165, 'm95': 4253, 'valid12hrs': 7189, 'swatch': 6598, 'dare': 2155, 'approaching': 1021, 'sankranti': 5856, 'republic': 5683, 'shivratri': 6052, 'ugadi': 7060, 'fools': 2938, 'independence': 3644, 'teachers': 6686, 'childrens': 1788, 'festival': 2822, 'dasara': 2163, 'mornings': 4551, 'afternoons': 856, 'rememberi': 5649, 'raj': 5513, 'presents': 5350, 'nicky': 4733, 'intention': 3689, 'visitors': 7256, 'embarassed': 2576, 'waaaat': 7291, 'lololo': 4154, 'blind': 1392, 'rodds1': 5766, 'aberdeen': 753, 'united': 7106, 'kingdom': 3921, 'img': 3606, 'icmb3cktz8r7': 3572, 'breeze': 1499, 'fresh': 3003, 'flower': 2913, 'twittering': 7039, 'sha': 6004, 'drug': 2464, 'cedar': 1699, 'key': 3897, 'aeronautics': 839, 'professors': 5398, 'wer': 7407, 'calld': 1612, 'aeroplane': 840, 'plane': 5193, 'hurried': 3544, 'bawling': 1254, 'failure': 2759, 'failing': 2757, '80488': 641, 'status': 6411, 'frequently': 3002, 'guilty': 3274, 'baaaaabe': 1182, 'misss': 4478, 'youuuuu': 7665, 'nap': 4655, 'possibility': 5288, 'spun': 6369, 'wrld': 7568, 'gota': 3201, '0a': 253, 'allow': 915, 'companies': 1922, 'responsible': 5708, 'suppliers': 6565, 'reunion': 5727, 'bcum': 1267, '09050000332': 160, 'toshiba': 6939, 'portege': 5278, 'm100': 4244, '0789xxxxxxx': 42, 'pocay': 5243, 'wocay': 7513, '2morrowxxxx': 396, 'brison': 1513, 'names': 4650, 'name1': 4647, 'name2': 4648, 'mobno': 4511, 'adam': 809, '07123456789': 26, 'txtno': 7048, 'ads': 830, 'cherthala': 1772, 'cochin': 1876, 'bfore': 1341, 'tmorow': 6876, 'engaged': 2595, 'teju': 6699, 'recycling': 5608, 'earning': 2508, 'freezing': 2998, 'hero': 3405, 'apt': 1029, 'sang': 5854, 'uptown': 7145, '80': 629, 'indicate': 3650, 'compensation': 1927, 'ideas': 3578, 'fish': 2878, 'memory': 4408, 'spirit': 6339, 'praveesh': 5328, 'delicious': 2229, 'chechi': 1753, 'meive': 4397, 'hardly': 3335, 'gotany': 3202, 'stayin': 6414, 'rugby': 5805, 'alive': 910, 'sleeps': 6172, 'blu': 1406, 'concert': 1953, 'november': 4804, '09061104276': 187, 'smsco': 6213, '75max': 611, 'gloucesterroad': 3152, 'uup': 7179, '330': 439, '1120': 269, '1205': 279, '44': 486, '7732584351': 616, 'deliveredtomorrow': 2232, 'thin': 6790, 'arguments': 1045, 'fed': 2808, 'himso': 3425, 'boltblue': 1422, 'poly3': 5260, 'cha': 1714, 'slide': 6177, 'jamz': 3769, 'toxic': 6952, 'ideal': 3577, 'path': 5071, 'appear': 1011, 'front': 3029, 'paths': 5073, 'borderline': 1436, '74355': 607, 'lucyxx': 4225, 'tp': 6953, 'correctly': 2014, 'affidavit': 846, 'twiggs': 7036, 'courtroom': 2039, 'lovers': 4201, 'becz': 1286, 'undrstndng': 7094, 'avoids': 1157, 'suffer': 6526, 'erutupalam': 2640, 'thandiyachu': 6751, 'newest': 4719, 'harry': 3340, 'potter': 5300, 'phoenix': 5144, 'among': 943, 'readers': 5557, 'dorothy': 2417, 'kiefer': 3913, 'mth': 4588, 'goin2bed': 3170, 'only1more': 4906, 'maaaan': 4255, 'resizing': 5696, 'complacent': 1929, 'greatness': 3239, 'oranges': 4939, 'upd8': 7131, 'freefone': 2993, '2stoptx': 408, 'setting': 5988, 'ding': 2320, 'fassyole': 2786, 'blacko': 1377, 'londn': 4155, 'poyyarikatur': 5310, 'kolathupalayam': 3943, 'unjalur': 7110, 'erode': 2634, 'theoretically': 6777, 'ripped': 5755, 'clubmoby': 1859, '08717509990': 133, 'female': 2820, 'throwing': 6826, 'africa': 850, 'avin': 1154, 'infact': 3653, 'mouse': 4564, 'desk': 2264, 'aptitude': 1030, 'videos': 7231, 'shsex': 6092, 'netun': 4708, 'fgkslpopw': 2831, 'fgkslpo': 2830, '09090204448': 243, 'minded': 4449, 'minapn': 4447, 'ls278bb': 4214, 'ignoring': 3592, 'friendships': 3015, 'grow': 3252, 'prepare': 5344, 'pleasured': 5214, 'calm': 1622, 'downon': 2431, 'theacusations': 6765, 'itxt': 3746, 'iwana': 3750, 'wotu': 7550, 'thew': 6785, 'haventcn': 3353, 'up4': 7129, 'nething': 4707, 'recharged': 5595, 'w8in': 7289, '4utxt': 525, '82242': 651, 'hlp': 3440, '08712317606': 102, 'msg150p': 4580, '2rcv': 406, '2price': 405, '100txt': 261, 'd3wv': 2134, 'greetings': 3243, 'classes': 1830, 'fatty': 2795, 'toa': 6884, 'payoh': 5088, 'appeal': 1010, 'thriller': 6821, 'director': 2329, 'mac': 4258, 'mouth': 4565, 'african': 851, 'soil': 6237, 'donate': 2405, 'unicef': 7102, 'asian': 1078, 'tsunami': 7015, 'disaster': 2337, 'fund': 3051, '864233': 680, 'weigh': 7389, 'breathe': 1495, 'wewa': 7419, '130': 292, 'iriver': 3719, '255': 369, '128': 287, 'parties': 5053, 'dislikes': 2347, 'ho': 3448, 'contribute': 1994, 'greatly': 3238, 'appreciated': 1019, '4882': 504, '09064019014': 214, 'importantly': 3615, 'neft': 4696, 'credited': 2068, 'beneficiary': 1321, 'diesel': 2304, 'conveying': 1998, 'wavering': 7354, 'decisions': 2200, 'individual': 3651, 'heal': 3367, 'flying': 2919, 'incomm': 3635, 'error': 2637, 'haunt': 3347, 'sorted': 6282, 'promoting': 5413, 'younger': 7657, 'mahal': 4279, 'stopped': 6450, 'court': 2038, 'forwarding': 2971, 'tms': 6880, 'widelive': 7454, 'index': 3646, 'wml': 7508, '820554ad0a1705572711': 650, 'lolnice': 4153, 'opposite': 4929, 'repairs': 5669, 'ovulation': 4992, 'followin': 2929, '850': 672, '650': 574, 'aunt': 1133, 'nike': 4741, 'coimbatore': 1882, 'olave': 4886, 'mandara': 4307, 'trishul': 6992, 'attending': 1122, 'financial': 2858, 't91': 6626, 'gbp': 3096, '09057039994': 173, 'realize': 5566, '09061702893': 195, 'stuffed': 6490, 'bleh': 1386, 'writhing': 7563, '2mro': 397, 'cld': 1834, 'nosh': 4789, 'stuck': 6480, 'audrey': 1130, 'capital': 1642, 'lie': 4069, 'responce': 5703, 'faggot': 2753, 'antelope': 982, 'toplay': 6929, 'fieldof': 2834, 'selfindependence': 5955, 'contention': 1989, 'total': 6942, 'disappointment': 2336, 'craziest': 2060, 'tee': 6696, 'cheery': 1765, 'handsome': 3311, 'finding': 2860, 'queen': 5481, '15': 302, '26': 371, '54': 545, 'resubmit': 5715, 'expiry': 2728, 'x2': 7587, 'bridgwater': 1503, 'banter': 1221, 'nannys': 4654, 'stereo': 6425, 'mi': 4430, 'visa': 7251, 'gucci': 3263, 'shite': 6048, 'kip': 3923, 'doubt': 2424, 'sleepwell': 6173, 'treatin': 6983, 'treacle': 6978, '2006': 348, 'fifa': 2835, 'annoncement': 967, '07046744435': 22, 'becomes': 1284, 'follow': 2927, 'limited': 4090, 'sez': 6001, 'arab': 1033, 'evry1': 2692, 'eshxxxxxxxxxxx': 2645, 'misbehaved': 4467, 'werethe': 7410, 'monkeespeople': 4534, 'monkeyaround': 4536, 'howdy': 3511, 'tim': 6851, 'bollox': 1421, 'tol': 6898, 'ummifying': 7072, '85222': 675, 'winnersclub': 7476, '84': 666, 'gbp1': 3097, 'fink': 2869, '09099726553': 249, 'promised': 5410, 'carlie': 1662, 'minmobsmore': 4454, 'lkpobox177hp51fl': 4127, 'repent': 5671, 'beads': 1272, 'basket': 1241, 'alto18': 928, 'wave': 7353, '44345': 489, 'jos': 3829, 'poop': 5268, 'gpu': 3211, 'weirdy': 7396, 'brownies': 1528, 'cookies': 2002, 'youphone': 7658, 'athome': 1109, 'youwanna': 7666, 'southern': 6297, 'didntgive': 2301, 'bellearlier': 1312, 'sporadically': 6358, 'bc': 1260, 'garments': 3084, 'searching': 5924, 'potential': 5299, 'talent': 6646, 'horse': 3491, 'chicken': 1780, 'breather': 1497, 'granted': 3227, 'fulfil': 3044, 'blessing': 1389, 'exhausted': 2713, 'timi': 6854, 'sender': 5966, 'pee': 5098, 'dats': 2170, 'dogg': 2386, 'nimbomsons': 4743, 'plural': 5222, 'noun': 4802, 'research': 5689, 'sweater': 6601, 'mango': 4311, 'smoked': 6207, 'shell': 6031, 'unconsciously': 7085, 'avoiding': 1156, 'unhappy': 7100, 'lingerie': 4100, 'bridal': 1502, 'petticoatdreams': 5135, 'superb': 6561, 'weddingfriend': 7378, 'acknowledgement': 792, 'astoundingly': 1101, 'tactless': 6634, 'faggy': 2754, 'oath': 4836, 'fo': 2924, 'watchin': 7345, 'kaila': 3863, 'romcapspam': 5775, 'presence': 5348, 'outgoing': 4975, 'breath': 1494, 'hypertension': 3557, 'expressoffer': 2737, 'lo': 4133, 'urination': 7154, 'memorable': 4406, 'slaaaaave': 6164, 'summon': 6548, 'nver': 4824, 'somtimes': 6264, 'occupy': 4843, 'hearts': 3373, 'ela': 2557, 'swimsuit': 6609, 'newspapers': 4725, 'smashed': 6198, 'dent': 2242, 'goal': 3161, 'henry': 3401, 'liverpool': 4124, 'scores': 5902, 'yards': 7619, 'bergkamp': 1324, 'margin': 4322, '78': 617, 'prof': 5397, 'passed': 5061, 'papers': 5034, 'sem': 5960, 'enna': 2606, 'kalaachutaarama': 3865, 'evry': 2691, 'emotion': 2583, 'dsn': 2472, 'prayrs': 5331, 'othrwise': 4963, 'deduct': 2207, 'prometazine': 5407, 'syrup': 6622, '5mls': 553, 'feed': 2810, 'rocks': 5765, 'beyond': 1338, 'mushy': 4617, 'embarrassed': 2578, 'fireplace': 2874, 'icon': 3573, 'sry': 6378, 'jst': 3837, 'nosy': 4790, 'reacting': 5554, 'freaked': 2987, '08718738002': 150, '48922': 505, 'snickering': 6224, 'chords': 1805, 'mention': 4412, 'served': 5983, '4the': 522, '4mths': 518, 'mobilesdirect': 4508, '08000938767': 52, 'or2stoptxt': 4937, 'reality': 5565, 'geeeee': 3103, 'wee': 7381, 'cultures': 2108, 'module': 4520, 'paris': 5043, '69101': 580, 'rtf': 5797, 'sphosting': 6332, 'asthma': 1099, 'attack': 1117, 'korean': 3945, '08006344447': 57, '1b6a5ecef91ff9': 326, '37819': 447, 'true18': 7001, '0430': 16, 'jul': 3843, '05': 17, '89545': 707, '087187262701': 142, '50gbp': 534, 'mtmsg18': 4591, 'everyso': 2677, 'panicks': 5025, 'indians': 3649, 'kane': 3872, 'shud': 6093, 'spacebucks': 6302, 'honestly': 3465, 'promptly': 5415, 'burnt': 1567, 'meat': 4381, 'supreme': 6571, 'sparkling': 6310, 'breaks': 1493, '45': 494, '0121': 5, '2025050': 351, 'shortbreaks': 6067, 'org': 4948, '09058099801': 186, 'b4190604': 1175, '7876150ppm': 619, 'pride': 5368, 'kid': 3909, 'grownup': 3255, 'messy': 4425, 'mandan': 4306, 'hmv': 3447, 'genuine': 3114, '100percent': 260, 'bruv': 1534, 'ignorant': 3590, 'difference': 2308, 'versus': 7218, 'soiree': 6238, 'unconscious': 7084, 'adults': 832, 'abnormally': 759, '09066364349': 230, 'box434sk38wp150ppm18': 1466, 'attracts': 1126, 'shanghai': 6016, 'cya': 2132, 'dogbreath': 2385, 'sounding': 6290, 'reception': 5592, 'hockey': 3449, 'elections': 2564, 'ubi': 7059, '67441233': 578, 'irene': 3718, 'ere': 2630, 'bus8': 1569, '65': 573, '61': 564, '66': 575, '382': 449, 'cres': 2072, 'tech': 6694, '6ph': 596, '5wkg': 559, 'billy': 1357, 'jogging': 3812, 'gokila': 3172, '08717895698': 135, 'mobstorequiz10ppm': 4514, 'emigrated': 2581, 'hopeful': 3481, 'def': 2212, 'gifts': 3132, 'cliff': 1844, 'morphine': 4552, 'tip': 6858, 'unnecessarily': 7116, 'hostile': 3497, 'unintentionally': 7104, 'bhaskar': 1343, 'entirely': 2616, '087104711148': 97, 'possession': 5285, 'lastest': 3994, 'stereophonics': 6426, 'marley': 4327, 'dizzee': 2362, 'racal': 5499, 'libertines': 4064, 'strokes': 6472, 'nookii': 4773, 'bookmark': 1430, '82468': 653, 'packing': 5007, 'offline': 4865, 'anjola': 964, 'unclaimed': 7079, '09066368327': 232, 'closingdate04': 1852, 'claimcode': 1824, 'm39m51': 4249, '50pmmorefrommobile2bremoved': 538, 'mobypobox734ls27yf': 4516, 'ahold': 876, 'crying': 2085, 'imprtant': 3623, 'tomorw': 6908, '08712402902': 108, 'gibbs': 3129, 'mike': 4439, 'hussey': 3550, 'atten': 1119, 'inperialmusic': 3672, 'listening2the': 4117, 'leafcutter': 4025, 'insects': 3674, 'molested': 4526, 'plumbing': 5221, 'remixed': 5657, 'evil': 2684, 'acid': 791, 'goggles': 3167, 'mc': 4368, 'cud': 2102, '30pm': 427, 'contacts': 1985, 'purple': 5459, 'lyk': 4241, 'yelow': 7631, 'brown': 1527, 'subscribers': 6510, 'algarve': 906, 'ansr': 975, 'tyrone': 7057, 'length': 4047, 'distract': 2352, 'deleted': 2227, 'resend': 5690, 'nearer': 4679, 'srsly': 6376, 'yi': 7643, 'yetty': 7640, 'noisy': 4763, 'keeps': 3888, 'petey': 5133, 'noi': 4760, 'avent': 1152, 'nit': 4747, 'js': 3835, 'stitch': 6435, 'trouser': 6997, 'fires': 2875, 'virgin': 7248, 'sumfing': 6545, 'accidant': 775, 'tookplace': 6922, 'ghodbandar': 3127, 'rd': 5547, 'moves': 4568, 'slovely': 6186, 'necessary': 4683, 'wasted': 7339, 'applebees': 1013, 'thinkthis': 6798, 'dangerous': 2153, 'nooooooo': 4775, 'death': 2190, 'cable': 1595, 'outage': 4970, 'honeymoon': 3469, 'outfit': 4974, 'mountain': 4562, 'deer': 2210, 'flatter': 2896, 'pints': 5177, 'carlin': 1663, 'dismissial': 2349, 'perf': 5109, 'wrongly': 7571, 'beverage': 1335, 'pist': 5181, 'gang': 3076, 'jap': 3776, 'lancaster': 3975, 'neway': 4718, 'scratching': 5910, 'dumb': 2485, 'mystery': 4633, 'solved': 6244, 'opened': 4917, 'apologize': 1006, 'admit': 824, 'nutter': 4823, 'cutter': 2128, 'ctter': 2098, 'cttergg': 2099, 'cttargg': 2097, 'ctargg': 2093, 'ctagg': 2092, 'ie': 3586, 'burden': 1561, 'lara': 3988, 'chachi': 1715, 'pl': 5186, 'tiz': 6869, 'kanagu': 3871, 'famamus': 2771, 'textbuddy': 6740, 'gaytextbuddy': 3094, '89693': 709, '08715500022': 128, 'rpl': 5793, 'cnl': 1868, 'olympics': 4890, 'crashed': 2057, 'cuddled': 2104, 'ba': 1179, 'dao': 2154, 'accomodations': 781, 'cave': 1690, 'offered': 4858, 'embarassing': 2577, 'vomitin': 7268, 'middle': 4434, 'aust': 1138, 'bk': 1374, 'taj': 6639, 'lesser': 4053, 'known': 3939, 'facts': 2751, 'mumtaz': 4609, 'shahjahan': 6008, 'wifes': 7457, 'killed': 3914, 'arises': 1047, 'hari': 3336, 'yoyyooo': 7668, 'permissions': 5118, 'sh': 6003, 'cried': 2075, 'uhhhhrmm': 7063, 'smokin': 6209, 'chic': 1779, 'common': 1918, 'declare': 2203, 'knocking': 3936, 'chad': 1716, 'gymnastics': 3283, 'christians': 1810, 'staff': 6383, 'staying': 6415, 'glo': 3149, 'above': 762, 'hitter': 3435, '08718730555': 148, 'commercial': 1917, 'boost': 1433, 'borrow': 1441, 'beside': 1325, 'dear1': 2187, 'best1': 1327, 'clos1': 1846, 'lvblefrnd': 4237, 'jstfrnd': 3838, 'cutefrnd': 2125, 'lifpartnr': 4075, 'swtheart': 6616, 'bstfrnd': 1538, 'enemy': 2592, 'spouse': 6364, 'pmt': 5227, 'sumthin': 6549, '4give': 513, 'shldxxxx': 6054, '09064017295': 211, 'prolly': 5406, 'burger': 1562, 'footy': 2943, 'stadium': 6382, 'large': 3990, 'coca': 1874, 'cola': 1886, 'adi': 819, 'entey': 2614, 'nattil': 4666, 'kittum': 3927, 'lanre': 3985, 'fakeye': 2763, 'eckankar': 2524, 'giggle': 3133, 'possibly': 5290, 'person2die': 5123, 'nvq': 4826, 'flip': 2904, 'breaking': 1492, 'cstore': 2091, 'garden': 3081, 'bulbs': 1555, 'seeds': 5941, '33': 438, 'scotsman': 5906, 'go2': 3159, 'notxt': 4801, 'refilled': 5617, 'successfully': 6518, 'inr': 3673, 'keralacircle': 3895, 'prepaid': 5343, 'kr': 3949, 'matthew': 4357, '09063440451': 204, 'lux': 4234, 'ppm150': 5314, 'box334': 1459, 'gotto': 3207, '220cm2': 359, 'dudette': 2481, 'nottingham': 4800, '63miles': 572, '40mph': 478, 'drastic': 2440, 'zoom': 7689, '87131': 688, '2814032': 376, '3x': 469, '150pw': 311, 'hep': 3402, 'immunisation': 3611, 'rhode': 5737, 'bong': 1424, 'upstairs': 7143, 'hectic': 3378, 'swoop': 6614, 'aldrine': 901, 'rtm': 5798, 'err': 2636, 'panren': 5026, 'paru': 5058, 'abj': 757, 'prediction': 5336, '6hrs': 592, 'surgical': 6578, 'emergency': 2580, 'unfolds': 7096, 'mix': 4488, 'html': 3522, 'gbp4': 3098, 'mfl': 4428, 'ew': 2694, 'abbey': 750, 'bitching': 1369, 'acted': 797, 'stalking': 6386, 'enjoying': 2604, 'nokia6650': 4767, 'ctxt': 2100, 'mtmsg': 4590, 'aslamalaikkum': 1086, 'tohar': 6894, 'beeen': 1290, 'muht': 4601, 'albi': 898, 'mufti': 4599, 'mahfuuz': 4281, '09061749602': 201, '528': 543, 'hp20': 3516, '1yf': 341, 'killing': 3915, 'spotty': 6363, 'province': 5432, 'sterling': 6427, 'cts': 2096, 'employee': 2584, 'sentence': 5975, 'concentrate': 1949, 'educational': 2535, 'remembrs': 5651, 'everytime': 2680, 'tattoos': 6668, 'icic': 3569, 'robs': 5763, 'avenge': 1151, '1stchoice': 334, '08707808226': 91, 'resubbing': 5714, 'approve': 1022, 'panalam': 5021, 'posts': 5297, 'postponed': 5296, 'stocked': 6437, 'mila': 4440, 'age23': 864, 'blonde': 1400, 'mtalk': 4587, '69866': 584, '30pp': 428, '5free': 549, 'increments': 3641, 'help08718728876': 3393, 'recorder': 5602, 'canname': 1638, 'australia': 1139, 'mquiz': 4574, 'increase': 3639, 'desparately': 2266, 'teaching': 6687, 'tellmiss': 6707, 'chastity': 1743, 'device': 2281, 'beatings': 1275, 'watts': 7352, 'stressed': 6466, 'depressed': 2254, 'sozi': 6299, 'culdnt': 2107, 'talkbut': 6649, 'wannatell': 7323, 'wenwecan': 7406, 'properly': 5420, 'marvel': 4334, 'ultimate': 7068, 'spider': 6333, '83338': 660, '8ball': 712, 'dai': 2142, 'naal': 4637, 'eruku': 2639, 'maintain': 4288, 'cr': 2047, 'protect': 5427, 'sib': 6099, 'sensitive': 5973, 'passwords': 5067, 'gosh': 3197, 'spose': 6362, 'eviction': 2683, 'spiral': 6338, 'michael': 4432, 'riddance': 5741, 'mcfly': 4370, 'ab': 749, 'sara': 5861, 'jorge': 3828, 'shock': 6055, 'smith': 6205, 'ploughing': 5217, 'pile': 5173, 'ironing': 3720, 'chinky': 1797, 'desires': 2263, 'liver': 4123, 'pierre': 5170, 'cardin': 1650, 'tscs087147403231winawk': 7014, '50perwksub': 537, '08715203656': 124, '42049': 480, 'handed': 3306, 'teams': 6689, 'jokin': 3820, 'notixiquating': 4799, 'laxinorficated': 4011, 'bambling': 1212, 'entropication': 2619, 'oblisingately': 4838, 'opted': 4932, 'masteriastering': 4340, 'amplikater': 947, 'fidalfication': 2832, 'champlaxigating': 1720, 'atrocious': 1114, 'wotz': 7551, 'junna': 3850, 'tirupur': 6863, 'sorta': 6281, 'blown': 1405, 'smsservices': 6216, 'yourinclusive': 7661, 'bangbabes': 1217, 'bangb': 1216, 'monthly': 4541, 'finishing': 2868, 'topic': 6928, 'shattered': 6023, 'loyal': 4210, 'customers': 2121, '09066380611': 235, 'rct': 5544, 'thnq': 6806, 'adrian': 829, 'vatian': 7203, 'ijust': 3594, 'talked': 6650, 'stuffs': 6492, 'headset': 3365, 'adp': 827, 'thinl': 6799, 'seeking': 5943, 'uses': 7168, 'sptv': 6368, 'jersey': 3797, 'devils': 2282, 'wings': 7473, 'incorrect': 3638, 'coco': 1879, 'browsin': 1531, 'compulsory': 1942, 'hunt': 3542, 'minor': 4458, 'shindig': 6039, 'unsubscribed': 7124, 'hunks': 3540, 'gotbabes': 3203, 'subscriptions': 6512, 'prince': 5371, 'charming': 1739, '07808247860': 38, '08719899229': 157, '40411': 475, '08712402972': 109, 'wondar': 7519, 'flim': 2903, 'shb': 6025, 'sd': 5919, 'sore': 6277, 'caroline': 1666, 'legs': 4042, 'torch': 6934, 'occasion': 4841, 'celebrated': 1703, 'reflection': 5618, 'values': 7193, 'affections': 845, 'traditions': 6956, 'resent': 5691, 'queries': 5482, 'customersqueries': 2122, 'netvision': 4709, 'incredible': 3640, 'blow': 1404, 'o2fwd': 4835, '18p': 322, 'quiteamuzing': 5491, 'scool': 5899, 'dull': 2484, 'childporn': 1786, 'owl': 4995, 'licks': 4067, 'loooooool': 4169, 'couch': 2024, 'celebration': 1704, 'andre': 958, 'virgil': 7247, 'telediscount': 6701, 'attended': 1121, '1mega': 329, 'pixels': 5184, '3optical': 462, '5digital': 548, 'dooms': 2412, 'perpetual': 5119, 'dd': 2179, 't4get2text': 6625, 'semi': 5962, 'yetunde': 7641, 'foley': 2925, 'exciting': 2704, 'prizes': 5385, 'eye': 2741, '82050': 649, 'yeesh': 7627, 'involve': 3709, 'imposed': 3616, 'laughs': 4006, 'dehydrated': 2221, 'feelin': 2812, 'lnly': 4132, 'owe': 4993, 'gsex': 3258, '2667': 372, 'wc1n': 7359, '3xx': 470, '49': 506, 'bundle': 1558, 'deals': 2185, 'avble': 1149, 'mf': 4427, 'pubs': 5445, 'frankie': 2982, 'bennys': 1323, 'warner': 7332, 'loxahatchee': 4209, 'tree': 6985, 'burning': 1565, 'sorts': 6284, 'outbid': 4972, 'simonwatson5120': 6119, 'shinco': 6038, 'plyr': 5224, 'smsrewards': 6215, 'notifications': 4797, 'jas': 3778, 'follows': 2931, 'subsequent': 6515, 'painting': 5017, '08707500020': 89, 'prominent': 5408, 'cheek': 1761, 'weighed': 7390, 'woohoo': 7527, 'ft': 3034, 'combination': 1905, 'raglan': 5505, 'edward': 2537, 'cricket': 2073, 'closeby': 1848, 'arent': 1040, 'cakes': 1599, 'upon': 7139, 'mailed': 4285, 'varma': 7198, 'cleaning': 1836, 'tortilla': 6936, 'yummmm': 7673, 'nearly': 4680, 'jez': 3802, 'todo': 6891, 'workand': 7534, 'whilltake': 7438, 'ay': 1171, 'cheyyamo': 1776, 'ibm': 3564, 'hp': 3515, 'avalarr': 1147, 'hollalater': 3458, 'tension': 6720, 'machi': 4262, 'unni': 7117, 'bx526': 1589, 'lobby': 4138, 'thout': 6816, 'eastenders': 2514, 'dot': 2419, 'compare': 1925, 'herself': 3408, 'violet': 7245, 'tulip': 7024, 'lily': 4088, 'wkent': 7501, '150p16': 306, 'every1': 2671, 'ava': 1144, 'goodtime': 3193, 'oli': 4888, 'melnite': 4400, 'ifink': 3589, 'everythin': 2678, 'l8rs': 3955, 'steam': 6421, 'stripes': 6471, 'skirt': 6160, 'ooh': 4911, '4got': 514, 'moseley': 4554, 'weds': 7380, 'dentist': 2244, 'skye': 6162, 'peoples': 5106, 'trips': 6991, 'darker': 2157, 'styling': 6496, 'innocent': 3670, 'terror': 6727, 'cruel': 2081, 'decent': 2194, 'joker': 3818, 'rounder': 5787, 'required': 5686, 'goods': 3192, 'revealing': 5730, 'tiwary': 6868, 'rcb': 5542, 'battle': 1253, 'bang': 1215, 'kochi': 3942, 'pounded': 5303, 'route': 5789, 'dippeditinadew': 2326, 'lovingly': 4205, 'itwhichturnedinto': 3745, 'gifted': 3131, 'tomeandsaid': 6904, 'promotion': 5414, '8714714': 689, 'buzzzz': 1586, 'chest': 1774, 'vibrator': 7225, 'shake': 6010, 'practising': 5321, 'curtsey': 2115, 'crossing': 2079, 'batt': 1251, 'scrounge': 5916, 'hasbro': 3342, 'august': 1132, 'jump': 3847, 'hoops': 3477, 'breadstick': 1487, '08714712379': 119, 'mobsi': 4513, '391784': 450, 'rushing': 5819, 'rush': 5818, 'pack': 5005, 'cereals': 1711, 'gari': 3083, '9ja': 736, 'crammed': 2053, '3750': 446, '7250': 603, 'skint': 6158, 'fancied': 2776, 'bevies': 1336, 'waz': 7358, 'gona': 3178, 'othrs': 4962, 'spoon': 6356, 'watchng': 7347, 'planet': 5194, 'comfey': 1910, 'prasanth': 5327, 'ettans': 2656, 'kfc': 3901, 'meals': 4373, 'gravy': 3234, '7634': 613, '7684': 614, 'jelly': 3792, 'arr': 1057, 'oscar': 4956, 'trauma': 6972, 'swear': 6600, 'spelled': 6327, 'caps': 1644, 'mess': 4419, 'bullshit': 1556, 'wuld': 7582, 'everyboy': 2673, 'xxxxxxxx': 7607, 'goodo': 3191, 'ratio': 5535, 'florida': 2911, 'bike': 1351, 'chgs': 1778, 'dual': 2474, 'flirtparty': 2907, 'replys150': 5679, 'flow': 2912, 'developed': 2280, 'ovarian': 4983, 'cysts': 2133, 'shrink': 6090, 'shining': 6040, 'signing': 6111, 'neighbors': 4698, 'neshanth': 4703, 'smartcall': 6195, '68866': 579, 'subscriptn3gbp': 6513, '08448714184': 65, 'landlineonly': 3978, 'sane': 5853, 'helping': 3395, 'pobox202': 5235, 'nr31': 4808, '7zs': 628, '450pw': 497, 'girlie': 3140, 'uploaded': 7138, 'delhi': 2228, 'profile': 5399, 'bpo': 1475, 'dileep': 2316, 'muchand': 4597, 'venugopal': 7213, 'mentioned': 4413, 'buzy': 1584, 'nose': 4788, 'essay': 2649, 'honesty': 3466, 'silently': 6115, 'drms': 2459, 'stage': 6384, 'dedicated': 2206, 'dedicate': 2205, 'wildlife': 7463, 'want2come': 7325, 'that2worzels': 6761, 'wizzle': 7498, 'nic': 4728, 'checkin': 1757, '09066660100': 239, '2309': 360, 'firmware': 2876, 'destination': 2270, 'normally': 4785, 'maths': 4351, 'chapter': 1731, 'photoshop': 5153, 'broken': 1520, 'jade': 3764, 'paul': 5077, 'barmed': 1230, 'musthu': 4623, 'wright': 7561, 'fly': 2918, 'ceiling': 1700, 'dawns': 2172, 'refreshed': 5621, '09058097189': 184, 'ls15hb': 4213, 'rejected': 5632, 'meatballs': 4382, 'chit': 1799, 'logon': 4150, '8883': 700, '4217': 481, 'w1a': 7283, '6zf': 601, '118p': 275, 'mallika': 4298, 'sherawat': 6033, 'fridge': 3009, 'instantly': 3682, '69969': 588, 'bcmsfwc1n3xx': 1265, 'lib': 4063, 'wamma': 7318, 'doggin': 2387, 'dogs': 2390, 'wall': 7313, 'dust': 2494, 'infra': 3660, 'returning': 5725, 'doke': 2396, 'laying': 4012, 'cashto': 1677, '08000407165': 48, 'getstop': 3122, '88222': 697, 'php': 5154, 'sun0819': 6551, 'general': 3107, 'defer': 2214, 'admission': 823, '09061743811': 199, '326': 437, 'mys': 4631, 'mapquest': 4315, 'dogwood': 2391, '85069': 674, 'usher': 7170, 'britney': 1516, 'brolly': 1521, 'franxx': 2983, '79': 620, '08704439680ts': 86, 'build': 1552, 'angels': 961, 'snowball': 6228, 'fights': 2839, 'literally': 4119, 'recorded': 5601, 'jerry': 3796, 'irritates': 3722, 'fails': 2758, 'express': 2735, 'brah': 1476, 'jobs': 3810, 'timin': 6855, 'wtlp': 7579, 'sip': 6132, 'films': 2850, 'vijaykanth': 7236, 'lovly': 4206, 'success': 6516, 'pansy': 5027, 'jungle': 3849, 'blackberry': 1376, 'buyer': 1581, 'yeovil': 7633, 'motor': 4560, 'occupied': 4842, 'brisk': 1512, 'walks': 7312, 'lasting': 3995, 'sections': 5936, 'clearer': 1839, 'breathing': 1498, 'neck': 4685, 'bothering': 1447, 'printed': 5375, 'sculpture': 5918, '09061743810': 198, 'hunting': 3543, 'ditto': 2356, '09066368470': 233, '449071512431': 493, '1250': 285, '09071512433': 241, '050703': 18, 'callcost': 1610, 'mobilesvary': 4509, 'msn': 4585, 'hook': 3475, 'predicte': 5334, 'natalie': 4661, '165': 317, 'natalie2k9': 4662, 'yalru': 7614, 'lyfu': 4239, 'astne': 1100, 'innu': 3671, 'mundhe': 4610, 'lyf': 4238, 'ali': 909, 'halla': 3299, 'bilo': 1358, 'edhae': 2529, 'ovr': 4990, 'vargu': 7196, 'meow': 4415, 'easter': 2515, 'achan': 788, 'amma': 940, 'documents': 2377, 'submitted': 6501, 'stapati': 6393, 'maturity': 4359, '09066649731from': 238, 'scenery': 5892, 'whereare': 7432, 'friendsare': 3013, 'thekingshead': 6770, 'canlove': 1636, '08002986030': 55, 'hack': 3286, 'backdoor': 1192, 'fraction': 2979, 'neo69': 4701, '09050280520': 170, 'subscribe': 6506, 'dps': 2434, 'bcm': 1262, '8027': 640, 'necessarily': 4682, 'hhahhaahahah': 3413, 'nig': 4734, 'leonardo': 4050, 'cozy': 2045, 'blogging': 1396, 'magicalsongs': 4277, 'blogspot': 1397, 'wenever': 7404, 'notified': 4798, 'marketing': 4325, '84122': 668, '08450542832': 67, 'smsing': 6214, 'lakhs': 3971, 'selflessness': 5956, '08708800282': 93, 'arrived': 1063, 'okmail': 4882, 'printing': 5377, 'handing': 3307, 'approx': 1023, '07090298926': 24, '9307622': 724, '125': 284, 'freeentry': 2992, 'xt': 7597, 'placement': 5189, 'amrita': 949, 'grave': 3231, '730': 605, 'lag': 3968, 'dentists': 2245, '08718726970': 143, 'siva': 6147, 'tats': 6667, 'dang': 2151, 'score': 5901, 'motivating': 4558, 'andros': 960, 'steal': 6420, 'sliding': 6178, 'thus': 6836, 'pimples': 5174, 'outsider': 4980, 'dorm': 2415, 'humans': 3534, 'windows': 7470, 'logoff': 4149, 'squishy': 6375, 'mwahs': 4627, 'coveragd': 2042, 'vasai': 7201, 'swollen': 6613, 'glands': 3148, 'ammo': 942, 'ak': 892, 'reache': 5551, 'wi': 7450, 'nz': 4833, 'tai': 6637, 'feng': 2821, 'reservations': 5692, 'nordstrom': 4781, 'figuring': 2842, 'conference': 1958, 'everyones': 2676, 'babysitting': 1189, 'steak': 6419, 'ben': 1318, 'senor': 5969, 'cutie': 2127, 'hills': 3422, 'balloon': 1210, 'tops': 6932, 'passport': 5065, 'sth': 6430, 'specs': 6320, 'px3748': 5471, 'bids': 1347, 'shipping': 6044, 'invest': 3701, 'reliant': 5639, 'performance': 5112, 'calculated': 1601, 'secured': 5938, 'unsecured': 7120, '195': 324, '6669': 576, 'cme': 1865, 'hos': 3492, '89105': 705, '08700621170150p': 74, 'humanities': 3533, '2getha': 386, 'kalainar': 3866, 'thenampet': 6776, 'cthen': 2094, 'conclusion': 1954, 'references': 5615, 'mostly': 4556, 'sports': 6360, 'footbl': 2941, 'crckt': 2063, 'constant': 1981, 'jide': 3806, 'visiting': 7254, 'okies': 4881, 'skip': 6159, 'blah': 1378, 'lovin': 4203, 'bits': 1372, 'pieces': 5169, 'seing': 5950, 'funky': 3055, 'asssssholeeee': 1095, 'openin': 4919, 'formal': 2960, '80086': 635, 'txttowin': 7051, 'collecting': 1893, 'configure': 1960, 'dodgey': 2379, 'expecting': 2720, 'recovery': 5605, 'mathews': 4350, 'tait': 6638, 'edwards': 2538, 'anderson': 957, 'arnt': 1055, 'xxxxxxxxxxxxxx': 7608, 'prices': 5367, 'inner': 3668, 'tigress': 6846, 'chik': 1782, 'filthy': 2852, 'filth': 2851, '69669': 582, 'saristar': 5864, 'e14': 2500, '9yt': 740, '08701752560': 79, '450p': 496, 'stop2': 6447, 'grateful': 3230, 'happier': 3327, 'daaaaa': 2136, 'miiiiiiissssssssss': 4438, 'wnevr': 7510, 'fal': 2764, 'vth': 7278, 'fals': 2770, 'yen': 7632, 'madodu': 4269, 'nav': 4672, 'pretsorginta': 5358, 'nammanna': 4651, 'pretsovru': 5359, 'alwa': 929, 'eveb': 2663, 'cudnt': 2106, 'ctla': 2095, 'ente': 2609, 'ishtamayoo': 3729, 'bakrid': 1206, 'mobs': 4512, 'breathe1': 1496, 'crazyin': 2062, 'sleepingwith': 6171, 'finest': 2862, 'ymca': 7647, 'pobox365o4w45wq': 5238, 'docs': 2374, 'appointments': 1017, 'shoving': 6079, 'necesity': 4681, 'witout': 7496, 'colleg': 1895, 'wth': 7577, 'functions': 3050, 'events': 2668, 'espe': 2646, 'cared': 1654, 'irritated': 3721, '4wrd': 527, 'wthout': 7578, 'takecare': 6641, 'gender': 3106, 'wither': 7491, '23f': 361, '23g': 362, 'youdoing': 7654, 'shiny': 6041, 'warming': 7331, 'btwn': 1541, 'gaps': 3078, 'sppok': 6365, 'lamp': 3974, 'propsd': 5424, 'gv': 3280, 'lv': 4236, 'lttrs': 4219, 'threw': 6820, 'thm': 6804, 'aproach': 1028, 'dt': 2473, 'truck': 6999, 'speeding': 6324, 'wn': 7509, 'saved': 5879, 'shouted': 6076, 'thy': 6838, 'lived': 4122, 'happily': 3328, '2gthr': 389, 'evrydy': 2693, 'brainless': 1479, 'doll': 2398, 'vehicle': 7210, 'sariyag': 5865, 'madoke': 4270, 'barolla': 1231, 'tick': 6839, 'fundamentals': 3052, 'tex': 6735, 'mecause': 4383, 'werebored': 7409, 'okden': 4878, 'uin': 7064, 'likeyour': 4085, 'gr8fun': 3213, 'updat': 7132, 'countinlots': 2030, 'xxxxx': 7604, '08718738034': 151, 'dose': 2418, 'tablet': 6629, 'quarter': 5479, 'noooooooo': 4776, 'bao': 1222, 'sugardad': 6533, 'fan': 2775, 'ambitious': 934, '0871277810910p': 116, 'formatting': 2963, 'cashbin': 1675, 'alaikkum': 896, 'respectful': 5702, 'ujhhhhhhh': 7065, 'sandiago': 5852, 'parantella': 5040, 'lane': 3981, 'simpsons': 6123, '2007': 349, 'band': 1213, 'relaxing': 5637, '7am': 621, '5ish': 550, 'castor': 1680, 'dip': 2325, 'str8': 6459, 'classic': 1831, '200p': 350, 'excused': 2706, '62220cncl': 567, 'stopcs': 6449, '08717890890': 134, 'classmates': 1832, 'hont': 3471, 'urfeeling': 7149, 'bettersn': 1332, 'probthat': 5393, 'overdose': 4987, 'lovejen': 4196, 'amk': 938, 'sexychat': 6000, 'chatting': 1748, 'signal': 6107, 'unusual': 7127, 'grandma': 3224, 'parade': 5038, 'miwa': 4487, 'allday': 913, '9755': 728, 'abeg': 751, 'sponsors': 6353, 'buttons': 1579, 'judgemental': 3841, 'fridays': 3008, 'randomlly': 5525, 'opening': 4920, 'esaplanade': 2641, 'everywhere': 2681, 'dirt': 2331, 'floor': 2909, 'chores': 1806, 'exist': 2714, 'hail': 3292, 'mist': 4480, 'goodnoon': 3190, '0089': 4, 'digits': 2314, '09063442151': 205, 'pure': 5457, 'hearted': 3372, 'enemies': 2591, 'smiley': 6203, 'uh': 7062, 'missy': 4479, 'ccna': 1695, 'arranging': 1059, 'lightly': 4079, 'checkboxes': 1755, 'pocy': 5247, 'nothin': 4794, 'hanger': 3314, '30th': 429, 'areyouunique': 1041, 'heaven': 3376, 'xclusive': 7593, 'clubsaisai': 1860, 'speciale': 6314, 'zouk': 7690, 'roses': 5784, '07946746291': 43, '07880867867': 41, 'scary': 5890, 'crash': 2056, '24m': 365, 'suppose': 6569, 'salesman': 5845, 'amigos': 937, 'burn': 1564, 'punj': 5452, 'lock': 4143, 'keypad': 3898, 'canteen': 1641, 'pisces': 5178, 'aquarius': 1031, '3miles': 459, 'stories': 6455, 'spiritual': 6340, 'gamb': 3071, 'offense': 4856, 'coincidence': 1884, 'shouting': 6077, 'nachos': 4638, 'cocksuckers': 1878, 'ipads': 3714, 'worthless': 7548, 'garbage': 3080, 'novelty': 4803, 'toilet': 6895, 'stolen': 6439, 'cops': 2007, 'envy': 2626, 'tbs': 6679, 'persolvo': 5121, '38': 448, 'kath': 3880, 'manchester': 4304, 'flood': 2908, 'toledo': 6900, 'fishrman': 2880, 'dark': 2156, 'sack': 5828, 'stones': 6444, 'strtd': 6475, 'throwin': 6825, '1stone': 335, 'nowhere': 4807, 'ikno': 3596, 'doesdiscount': 2381, 'shitinnit': 6050, 'cousin': 2040, 'hairdressers': 3295, 'beforehand': 1299, 'gmw': 3154, 'connected': 1971, 'pookie': 5266, 'ups': 7141, '3days': 453, 'usps': 7173, 'bribe': 1501, 'nipost': 4746, 'function': 3049, 'spontaneously': 6354, 'goodevening': 3183, 'rayman': 5540, 'golf': 3177, 'activ8': 801, 'termsapply': 6724, 'dizzamn': 2361, 'suitemates': 6539, 'stash': 6406, 'sitter': 6143, 'kaitlyn': 3864, 'fiting': 2882, 'load': 4134, 'mj': 4489, 'cashed': 1676, 'announced': 968, 'blog': 1395, '2nights': 401, 'uve': 7180, 'wildest': 7462, 'bold2': 1420, 'luton': 4230, '0125698789': 7, 'tiime': 6848, 'tears': 6691, 'low': 4207, 'bbd': 1257, 'dvg': 2496, 'vinobanagar': 7242, 'becausethey': 1282, '09058098002': 185, 'pobox1': 5231, 'w14rg': 7282, 'faded': 2752, 'glory': 3151, 'ralphs': 5521, 'replacement': 5673, 'murali': 4612, 'finn': 2870, 'dusk': 2493, 'puzzles': 5470, 'antha': 983, 'corrct': 2012, 'dane': 2150, '88800': 699, '89034': 703, '08718711108': 137, 'props': 5423, 'arithmetic': 1048, 'percentages': 5108, 'sunlight': 6554, 'plate': 5199, 'leftovers': 4038, 'hamster': 3304, '1pm': 331, 'xam': 7590, '1thing': 336, 'answr': 981, '09066368753': 234, '97n7qp': 730, 'fills': 2848, 'curious': 2112, 'mandy': 4308, 'sullivan': 6541, 'hotmix': 3501, 'fm': 2921, '09041940223': 159, 'transferred': 6967, 'replacing': 5674, 'exact': 2696, 'ovulate': 4991, '3wks': 468, 'fret': 3005, '_thanks': 742, 'specialisation': 6315, 'labor': 3961, 'shakara': 6009, 'beggar': 1301, 'reassuring': 5577, 'onluy': 4904, 'matters': 4356, 'offcampus': 4855, '087147123779am': 118, 'french': 3000, 'fooled': 2937, 'twins': 7038, 'disappeared': 2335, 'infront': 3661, 'payments': 5087, 'fedex': 2809, 'ee': 2539, 'poortiyagi': 5270, 'odalebeku': 4849, 'hanumanji': 3320, 'hanuman': 3319, 'bajarangabali': 1203, 'maruti': 4333, 'pavanaputra': 5079, 'sankatmochan': 5855, 'ramaduth': 5522, 'mahaveer': 4280, 'janarige': 3771, 'ivatte': 3748, 'kalisidare': 3867, 'olage': 4885, 'ondu': 4898, 'keluviri': 3890, 'maretare': 4320, 'inde': 3642, 'dodda': 2378, 'problum': 5391, 'nalli': 4645, 'siguviri': 6112, 'idu': 3585, 'matra': 4352, 'neglet': 4697, 'western': 7414, 'finance': 2857, 'guai': 3261, 'passes': 5062, '08704439680': 85, 'immed': 3609, 'rajitha': 5516, 'ranju': 5530, 'needy': 4694, 'pouts': 5307, 'stomps': 6441, 'feet': 2816, 'videosound': 7232, 'gold': 3173, 'videosounds': 7233, 'musicnews': 4620, '09701213186': 252, 'unmits': 7115, 'gut': 3277, 'wrenching': 7560, 'shirts': 6046, 'nudist': 4814, 'themed': 6772, 'eh74rr': 2551, '0870737910216yrs': 88, '07781482378': 33, 'praps': 5325, 'helloooo': 3389, 'welcomes': 7399, 'begging': 1302, 'jetton': 3801, 'reassurance': 5576, 'instant': 3681, '08715203028': 121, '9th': 739, 'sday': 5920, 'deus': 2278, 'officially': 4864, 'philosophical': 5141, 'hole': 3455, 'nuerologist': 4815, 'ystrday': 7671, 'fans': 2779, '0870141701216': 78, 'norm': 4782, '120p': 280, 'rumour': 5813, 'teenager': 6697, 'dessert': 2269, 'suntec': 6558, 'airtel': 886, 'lyricalladie': 4242, '910': 720, 'hmmross': 3445, 'hype': 3556, 'plaza': 5208, 'studio': 6484, 'roomate': 5778, 'graduated': 3217, 'kickboxing': 3906, 'satsgettin': 5874, '47per': 502, 'finishd': 2865, 'sized': 6150, 'taught': 6670, 'becaus': 1280, 'verifying': 7216, 'prabu': 5317, 'powerful': 5309, 'weapon': 7364, 'exposed': 2733, 'copies': 2005, 'weirdo': 7395, 'symptoms': 6620, 'beloved': 1317, 'escalator': 2642, 'related': 5633, 'arul': 1070, 'host': 3495, 'based': 1237, 'idps': 3584, 'linux': 4103, 'systems': 6624, 'bloomberg': 1403, '447797706009': 490, 'careers': 1656, '09065394514': 219, '545': 547, '2years': 415, 'strain': 6461, 'dime': 2317, 'grab': 3215, 'tagged': 6635, 'triple': 6990, 'echo': 2523, 'trash': 6971, 'maps': 4316, 'ofcourse': 4852, 'forgive': 2954, '08712103738': 99, 'affair': 842, 'pleassssssseeeeee': 5212, 'sportsx': 6361, 'saeed': 5833, 'sky': 6161, 'gamestar': 3074, 'active': 803, '250k': 368, 'scoring': 5903, 'register': 5627, '88088': 696, 'blastin': 1385, 'tsunamis': 7016, 'occur': 4844, 'rajnikant': 5517, 'ocean': 4846, 'asda': 1075, 'counts': 2032, 'uncomfortable': 7082, 'sabarish': 5826, 'wesley': 7411, 'mag': 4272, 'avo': 1155, '1225': 282, '50award': 532, 'boggy': 1418, 'biatch': 1345, 'someplace': 6251, 'pears': 5097, '09061743386': 196, '116': 273, 'somerset': 6252, 'rdy': 5548, 'loneliness': 4157, 'swiss': 6611, 'directors': 2330, 'lac': 3962, 'crore': 2077, 'deposited': 2253, 'taxless': 6674, 'suply': 6564, 'projects': 5405, 'imf': 3605, 'blocked': 1394, 'politicians': 5257, 'corrupt': 2015, 'itna': 3741, 'karo': 3878, 'ki': 3904, 'pura': 5454, 'padhe': 5009, 'dramatic': 2439, 'schools': 5896, 'mint': 4460, 'plumbers': 5220, 'wrench': 7559, 'wiskey': 7488, 'brandy': 1482, 'rum': 5810, 'gin': 3137, 'scotch': 5904, 'shampain': 6014, 'kudi': 3950, 'yarasu': 7618, 'dhina': 2286, 'vaazhthukkal': 7183, 'jam': 3766, 'hannaford': 3318, 'wheat': 7425, 'chex': 1775, 'slippery': 6182, 'edu': 2533, 'sg': 6002, 'phyhcmk': 5156, 'pc1323': 5091}\n"
     ]
    }
   ],
   "source": [
    "# Initialize CountVectorizer\n",
    "vectorizer = CountVectorizer()\n",
    "\n",
    "# Fit to vector\n",
    "vectorizer.fit(x_train)\n",
    "\n",
    "# See word vector\n",
    "print(vectorizer.vocabulary_)"
   ],
   "metadata": {
    "collapsed": false,
    "pycharm": {
     "name": "#%%\n"
    }
   }
  },
  {
   "cell_type": "code",
   "execution_count": 46,
   "outputs": [
    {
     "name": "stdout",
     "output_type": "stream",
     "text": [
      "['apartment', 'aphex', 'apnt', 'apo', 'apologetic']\n"
     ]
    }
   ],
   "source": [
    "# Get feture names rows: 1000-1005\n",
    "print(vectorizer.get_feature_names()[1000:1005])"
   ],
   "metadata": {
    "collapsed": false,
    "pycharm": {
     "name": "#%%\n"
    }
   }
  },
  {
   "cell_type": "markdown",
   "source": [
    "Create Vector out of training data\n",
    "\n",
    "Here, we have already used all the messages (of train set) to see what words are in the dataset and transform them into a vector. Then we see how many times these words occur in each sms (test set)."
   ],
   "metadata": {
    "collapsed": false,
    "pycharm": {
     "name": "#%% md\n"
    }
   }
  },
  {
   "cell_type": "code",
   "execution_count": 47,
   "outputs": [
    {
     "name": "stdout",
     "output_type": "stream",
     "text": [
      "[[0 0 0 ... 0 0 0]\n",
      " [1 0 0 ... 0 0 0]\n",
      " [0 0 0 ... 0 0 0]\n",
      " ...\n",
      " [0 0 0 ... 0 0 0]\n",
      " [0 0 0 ... 0 0 0]\n",
      " [0 0 0 ... 0 0 0]]\n"
     ]
    }
   ],
   "source": [
    "vectorized_train =vectorizer.transform(x_train)\n",
    "\n",
    "print(vectorized_train.toarray())"
   ],
   "metadata": {
    "collapsed": false,
    "pycharm": {
     "name": "#%%\n"
    }
   }
  },
  {
   "cell_type": "markdown",
   "source": [
    "Create Classifiers with M_NB"
   ],
   "metadata": {
    "collapsed": false,
    "pycharm": {
     "name": "#%% md\n"
    }
   }
  },
  {
   "cell_type": "code",
   "execution_count": 48,
   "outputs": [],
   "source": [
    "from sklearn.naive_bayes import MultinomialNB"
   ],
   "metadata": {
    "collapsed": false,
    "pycharm": {
     "name": "#%%\n"
    }
   }
  },
  {
   "cell_type": "code",
   "execution_count": 49,
   "outputs": [],
   "source": [
    "nb = MultinomialNB()"
   ],
   "metadata": {
    "collapsed": false,
    "pycharm": {
     "name": "#%%\n"
    }
   }
  },
  {
   "cell_type": "code",
   "execution_count": 50,
   "outputs": [
    {
     "data": {
      "text/plain": "MultinomialNB()"
     },
     "execution_count": 50,
     "metadata": {},
     "output_type": "execute_result"
    }
   ],
   "source": [
    "nb.fit(vectorized_train, y_train)"
   ],
   "metadata": {
    "collapsed": false,
    "pycharm": {
     "name": "#%%\n"
    }
   }
  },
  {
   "cell_type": "code",
   "execution_count": 51,
   "outputs": [],
   "source": [
    "vectorized_test = vectorizer.transform(x_test)"
   ],
   "metadata": {
    "collapsed": false,
    "pycharm": {
     "name": "#%%\n"
    }
   }
  },
  {
   "cell_type": "code",
   "execution_count": 52,
   "outputs": [],
   "source": [
    "y_pred = nb.predict(vectorized_test)"
   ],
   "metadata": {
    "collapsed": false,
    "pycharm": {
     "name": "#%%\n"
    }
   }
  },
  {
   "cell_type": "code",
   "execution_count": 53,
   "outputs": [],
   "source": [
    "outcome = pd.DataFrame(y_pred)"
   ],
   "metadata": {
    "collapsed": false,
    "pycharm": {
     "name": "#%%\n"
    }
   }
  },
  {
   "cell_type": "code",
   "execution_count": 54,
   "outputs": [],
   "source": [
    "outcome.rename(columns= {0:'y_pred'}, inplace = True)"
   ],
   "metadata": {
    "collapsed": false,
    "pycharm": {
     "name": "#%%\n"
    }
   }
  },
  {
   "cell_type": "code",
   "execution_count": 55,
   "outputs": [
    {
     "data": {
      "text/plain": "0    979\n1    136\nName: y_pred, dtype: int64"
     },
     "execution_count": 55,
     "metadata": {},
     "output_type": "execute_result"
    }
   ],
   "source": [
    "outcome['y_pred'].value_counts()"
   ],
   "metadata": {
    "collapsed": false,
    "pycharm": {
     "name": "#%%\n"
    }
   }
  },
  {
   "cell_type": "markdown",
   "source": [
    "Socring M_NB Classifier"
   ],
   "metadata": {
    "collapsed": false,
    "pycharm": {
     "name": "#%% md\n"
    }
   }
  },
  {
   "cell_type": "code",
   "execution_count": 56,
   "outputs": [],
   "source": [
    "from sklearn.metrics import accuracy_score, confusion_matrix, classification_report\n",
    "import numpy as np"
   ],
   "metadata": {
    "collapsed": false,
    "pycharm": {
     "name": "#%%\n"
    }
   }
  },
  {
   "cell_type": "code",
   "execution_count": 57,
   "outputs": [
    {
     "name": "stdout",
     "output_type": "stream",
     "text": [
      "Accuracy of the model is 0.984 \n",
      "\n",
      "The classification report : \n",
      "               precision    recall  f1-score   support\n",
      "\n",
      "           0       0.98      1.00      0.99       965\n",
      "           1       0.99      0.89      0.94       150\n",
      "\n",
      "    accuracy                           0.98      1115\n",
      "   macro avg       0.98      0.95      0.96      1115\n",
      "weighted avg       0.98      0.98      0.98      1115\n",
      "\n"
     ]
    }
   ],
   "source": [
    "#Accuracy\n",
    "print('Accuracy of the model is {}'.format(round(accuracy_score(y_test,outcome['y_pred']),3)),'\\n')\n",
    "\n",
    "print('The classification report :','\\n',classification_report(y_test,outcome['y_pred']))"
   ],
   "metadata": {
    "collapsed": false,
    "pycharm": {
     "name": "#%%\n"
    }
   }
  },
  {
   "cell_type": "markdown",
   "source": [
    "LogReg Classifier"
   ],
   "metadata": {
    "collapsed": false,
    "pycharm": {
     "name": "#%% md\n"
    }
   }
  },
  {
   "cell_type": "code",
   "execution_count": 58,
   "outputs": [],
   "source": [
    "from sklearn.linear_model import LogisticRegression"
   ],
   "metadata": {
    "collapsed": false,
    "pycharm": {
     "name": "#%%\n"
    }
   }
  },
  {
   "cell_type": "code",
   "execution_count": 59,
   "outputs": [
    {
     "name": "stdout",
     "output_type": "stream",
     "text": [
      "Accuracy of the model logreg with CountVectorizer is 0.978 \n",
      "\n",
      "              precision    recall  f1-score   support\n",
      "\n",
      "           0       0.98      1.00      0.99       965\n",
      "           1       1.00      0.84      0.91       150\n",
      "\n",
      "    accuracy                           0.98      1115\n",
      "   macro avg       0.99      0.92      0.95      1115\n",
      "weighted avg       0.98      0.98      0.98      1115\n",
      "\n"
     ]
    }
   ],
   "source": [
    "lg = LogisticRegression()\n",
    "\n",
    "#train model\n",
    "lg.fit(vectorized_train, y_train)\n",
    "\n",
    "#predict\n",
    "lg_pred = dict()\n",
    "lg_pred['y_pred'] = lg.predict(vectorized_test)\n",
    "\n",
    "#outcome\n",
    "print('Accuracy of the model logreg with CountVectorizer is {}'.format(round(accuracy_score(y_test,lg_pred['y_pred']),3)),'\\n')\n",
    "print(classification_report(y_test,lg_pred['y_pred']))"
   ],
   "metadata": {
    "collapsed": false,
    "pycharm": {
     "name": "#%%\n"
    }
   }
  },
  {
   "cell_type": "markdown",
   "source": [
    "RandomForestClassifier"
   ],
   "metadata": {
    "collapsed": false,
    "pycharm": {
     "name": "#%% md\n"
    }
   }
  },
  {
   "cell_type": "code",
   "execution_count": 60,
   "outputs": [],
   "source": [
    "from sklearn.ensemble import RandomForestClassifier\n",
    "from sklearn.model_selection import GridSearchCV"
   ],
   "metadata": {
    "collapsed": false,
    "pycharm": {
     "name": "#%%\n"
    }
   }
  },
  {
   "cell_type": "code",
   "execution_count": 61,
   "outputs": [
    {
     "name": "stdout",
     "output_type": "stream",
     "text": [
      "{'max_depth': 6, 'n_estimators': 5}\n"
     ]
    }
   ],
   "source": [
    "rf = RandomForestClassifier(random_state=42)\n",
    "\n",
    "#Define Params\n",
    "parameters = {\n",
    "    'n_estimators': [5, 100],\n",
    "    'max_depth' : [3,4,5,6],\n",
    "}\n",
    "\n",
    "#GridsearchCV\n",
    "gcv = GridSearchCV(estimator=rf,param_grid=parameters)\n",
    "gcv.fit(vectorized_train,y_train)\n",
    "\n",
    "#Return the best parameters\n",
    "print(gcv.best_params_)"
   ],
   "metadata": {
    "collapsed": false,
    "pycharm": {
     "name": "#%%\n"
    }
   }
  },
  {
   "cell_type": "code",
   "execution_count": 62,
   "outputs": [
    {
     "name": "stdout",
     "output_type": "stream",
     "text": [
      "Accuracy of the model is 0.9 \n",
      "\n",
      "              precision    recall  f1-score   support\n",
      "\n",
      "           0       0.90      1.00      0.95       965\n",
      "           1       1.00      0.25      0.40       150\n",
      "\n",
      "    accuracy                           0.90      1115\n",
      "   macro avg       0.95      0.63      0.67      1115\n",
      "weighted avg       0.91      0.90      0.87      1115\n",
      "\n"
     ]
    }
   ],
   "source": [
    "#Create the model with the right parameters\n",
    "rf_ = RandomForestClassifier(n_estimators=5,max_depth=6)\n",
    "\n",
    "#Fit the new model\n",
    "rf_.fit(vectorized_train, y_train)\n",
    "\n",
    "#Predict the target variable\n",
    "pred_rf = dict()\n",
    "pred_rf['y_pred'] = rf_.predict(vectorized_test)\n",
    "\n",
    "#Outcome\n",
    "print('Accuracy of the model is {}'.format(round(accuracy_score(y_test,pred_rf['y_pred']),3)),'\\n')\n",
    "print(classification_report(y_test,pred_rf['y_pred']))\n"
   ],
   "metadata": {
    "collapsed": false,
    "pycharm": {
     "name": "#%%\n"
    }
   }
  },
  {
   "cell_type": "markdown",
   "source": [
    "# Tf-Idf\n",
    "Highlight words that are frequent in one document ut not over all documents\n",
    "- In comparison to countvectorizer this results in normalized outputs:\n",
    "    - https://datascience.stackexchange.com/questions/25581/what-is-the-difference-between-countvectorizer-token-counts-and-tfidftransformer\n",
    "- TF = Turn Frequency: Count frequency of words in each document\n",
    "- IDF = Supress the effect of words that are in all documents -> based on that you can not see different partterns of doucments"
   ],
   "metadata": {
    "collapsed": false,
    "pycharm": {
     "name": "#%% md\n"
    }
   }
  },
  {
   "cell_type": "code",
   "execution_count": 63,
   "outputs": [],
   "source": [
    "from sklearn.feature_extraction.text import TfidfVectorizer\n",
    "from nltk.corpus import stopwords"
   ],
   "metadata": {
    "collapsed": false,
    "pycharm": {
     "name": "#%%\n"
    }
   }
  },
  {
   "cell_type": "code",
   "execution_count": 64,
   "outputs": [
    {
     "name": "stderr",
     "output_type": "stream",
     "text": [
      "[nltk_data] Downloading package stopwords to\n",
      "[nltk_data]     C:\\Users\\Marc\\AppData\\Roaming\\nltk_data...\n",
      "[nltk_data]   Package stopwords is already up-to-date!\n"
     ]
    },
    {
     "data": {
      "text/plain": "True"
     },
     "execution_count": 64,
     "metadata": {},
     "output_type": "execute_result"
    }
   ],
   "source": [
    "import nltk\n",
    "nltk.download('stopwords')"
   ],
   "metadata": {
    "collapsed": false,
    "pycharm": {
     "name": "#%%\n"
    }
   }
  },
  {
   "cell_type": "code",
   "execution_count": 65,
   "outputs": [
    {
     "name": "stdout",
     "output_type": "stream",
     "text": [
      "['appear', 'applausestore', 'applebees', 'apply', 'applyed']\n",
      "[8.70930833 8.70930833 8.70930833 6.10661865 8.70930833]\n"
     ]
    }
   ],
   "source": [
    "tf = TfidfVectorizer(stop_words=stopwords.words('english'))\n",
    "\n",
    "# Train model\n",
    "tf.fit(x_train)\n",
    "\n",
    "# Vectorize data with trained model\n",
    "tf_vector_train = tf.transform(x_train)\n",
    "tf_vector_test = tf.transform(x_test)\n",
    "\n",
    "# Print feature names and idf values\n",
    "print(tf.get_feature_names()[1000:1005])\n",
    "print(tf.idf_[1000:1005])"
   ],
   "metadata": {
    "collapsed": false,
    "pycharm": {
     "name": "#%%\n"
    }
   }
  },
  {
   "cell_type": "code",
   "execution_count": 66,
   "outputs": [
    {
     "data": {
      "text/plain": "TfidfVectorizer(stop_words=['i', 'me', 'my', 'myself', 'we', 'our', 'ours',\n                            'ourselves', 'you', \"you're\", \"you've\", \"you'll\",\n                            \"you'd\", 'your', 'yours', 'yourself', 'yourselves',\n                            'he', 'him', 'his', 'himself', 'she', \"she's\",\n                            'her', 'hers', 'herself', 'it', \"it's\", 'its',\n                            'itself', ...])"
     },
     "execution_count": 66,
     "metadata": {},
     "output_type": "execute_result"
    }
   ],
   "source": [
    "#tokenize and build vocab\n",
    "tf.fit(df['sms'])"
   ],
   "metadata": {
    "collapsed": false,
    "pycharm": {
     "name": "#%%\n"
    }
   }
  },
  {
   "cell_type": "code",
   "execution_count": 67,
   "outputs": [
    {
     "name": "stdout",
     "output_type": "stream",
     "text": [
      "[7.22779351 6.29348428 8.93254161 ... 8.93254161 8.93254161 8.93254161]\n"
     ]
    }
   ],
   "source": [
    "# Values that would = 1, would appear in basically every sms\n",
    "print(tf.idf_)"
   ],
   "metadata": {
    "collapsed": false,
    "pycharm": {
     "name": "#%%\n"
    }
   }
  },
  {
   "cell_type": "markdown",
   "source": [
    "With tf-idf with M-nb"
   ],
   "metadata": {
    "collapsed": false,
    "pycharm": {
     "name": "#%% md\n"
    }
   }
  },
  {
   "cell_type": "code",
   "execution_count": 68,
   "outputs": [
    {
     "name": "stdout",
     "output_type": "stream",
     "text": [
      "Accuracy of the model td-idf with MNB is 0.9 \n",
      "\n",
      "              precision    recall  f1-score   support\n",
      "\n",
      "           0       0.97      1.00      0.98       965\n",
      "           1       1.00      0.78      0.88       150\n",
      "\n",
      "    accuracy                           0.97      1115\n",
      "   macro avg       0.98      0.89      0.93      1115\n",
      "weighted avg       0.97      0.97      0.97      1115\n",
      "\n"
     ]
    }
   ],
   "source": [
    "nb_tf = MultinomialNB()\n",
    "\n",
    "nb_tf.fit(tf_vector_train, y_train)\n",
    "\n",
    "#predict\n",
    "pred_tf = dict()\n",
    "pred_tf['y_pred'] = nb_tf.predict(tf_vector_test)\n",
    "\n",
    "# Outcome\n",
    "print('Accuracy of the model td-idf with MNB is {}'.format(round(accuracy_score(y_test,pred_rf['y_pred']),3)),'\\n')\n",
    "print(classification_report(y_test,pred_tf['y_pred']))"
   ],
   "metadata": {
    "collapsed": false,
    "pycharm": {
     "name": "#%%\n"
    }
   }
  },
  {
   "cell_type": "code",
   "execution_count": 69,
   "outputs": [
    {
     "name": "stdout",
     "output_type": "stream",
     "text": [
      "Accuracy of the model is 0.954 \n",
      "\n",
      "              precision    recall  f1-score   support\n",
      "\n",
      "           0       0.95      0.99      0.97       965\n",
      "           1       0.95      0.69      0.80       150\n",
      "\n",
      "    accuracy                           0.95      1115\n",
      "   macro avg       0.95      0.84      0.89      1115\n",
      "weighted avg       0.95      0.95      0.95      1115\n",
      "\n"
     ]
    }
   ],
   "source": [
    "lg_tf = LogisticRegression()\n",
    "\n",
    "#train model\n",
    "lg.fit(tf_vector_train, y_train)\n",
    "\n",
    "#predict\n",
    "lg_pred_tf = dict()\n",
    "lg_pred_tf['y_pred'] = lg.predict(tf_vector_test)\n",
    "\n",
    "#outcome\n",
    "print('Accuracy of the model is {}'.format(round(accuracy_score(y_test,lg_pred_tf['y_pred']),3)),'\\n')\n",
    "print(classification_report(y_test,lg_pred_tf['y_pred']))"
   ],
   "metadata": {
    "collapsed": false,
    "pycharm": {
     "name": "#%%\n"
    }
   }
  },
  {
   "cell_type": "markdown",
   "source": [
    "RandomForestClassifier"
   ],
   "metadata": {
    "collapsed": false
   }
  },
  {
   "cell_type": "code",
   "execution_count": 70,
   "outputs": [
    {
     "name": "stdout",
     "output_type": "stream",
     "text": [
      "{'max_depth': 6, 'n_estimators': 5}\n"
     ]
    }
   ],
   "source": [
    "rf_tf = RandomForestClassifier(random_state=42)\n",
    "\n",
    "#Define Params\n",
    "parameters = {\n",
    "    'n_estimators': [5, 100],\n",
    "    'max_depth' : [3,4,5,6],\n",
    "}\n",
    "\n",
    "#GridsearchCV\n",
    "gcv = GridSearchCV(estimator=rf_tf,param_grid=parameters)\n",
    "gcv.fit(tf_vector_train,y_train)\n",
    "\n",
    "#Return the best parameters\n",
    "print(gcv.best_params_)"
   ],
   "metadata": {
    "collapsed": false,
    "pycharm": {
     "name": "#%%\n"
    }
   }
  },
  {
   "cell_type": "code",
   "execution_count": 71,
   "outputs": [
    {
     "name": "stdout",
     "output_type": "stream",
     "text": [
      "Accuracy of the model is 0.888 \n",
      "\n",
      "              precision    recall  f1-score   support\n",
      "\n",
      "           0       0.89      1.00      0.94       965\n",
      "           1       1.00      0.17      0.29       150\n",
      "\n",
      "    accuracy                           0.89      1115\n",
      "   macro avg       0.94      0.58      0.61      1115\n",
      "weighted avg       0.90      0.89      0.85      1115\n",
      "\n"
     ]
    }
   ],
   "source": [
    "#Create the model with the right parameters\n",
    "rf_tf_ = RandomForestClassifier(n_estimators=5,max_depth=6)\n",
    "\n",
    "#Fit the new model\n",
    "rf_tf_.fit(tf_vector_train, y_train)\n",
    "\n",
    "#Predict the target variable\n",
    "pred_rf_tf = dict()\n",
    "pred_rf_tf['y_pred'] = rf_tf_.predict(tf_vector_test)\n",
    "\n",
    "#Outcome\n",
    "print('Accuracy of the model is {}'.format(round(accuracy_score(y_test,pred_rf_tf['y_pred']),3)),'\\n')\n",
    "print(classification_report(y_test,pred_rf_tf['y_pred']))\n"
   ],
   "metadata": {
    "collapsed": false,
    "pycharm": {
     "name": "#%%\n"
    }
   }
  },
  {
   "cell_type": "markdown",
   "source": [
    "# Conclusion\n",
    "If we look at the mailing problem, one wants to optimize for the precision. This is due to the fact that if a mail is falsly classified as spam, one would highly likely onversee it. If that happens to be a very important mail, the cost of it would be immense. On the other hand, if one would be falsly classified as not spam, the operator of the mailbox can just delete / move it to spam.\n",
    "Hence when 1 = spam:\n",
    "- CountVectorizer + logreg: precision  1 respectively 0.98\n",
    "- td-idf + MultinomialNB:   precision  1 respectively 0.97\n",
    "\n",
    "--> Use CountVectorizer in combination with a logreg (when compared feature td-idf and ML Algorithms RF and MultinomialNB)"
   ],
   "metadata": {
    "collapsed": false,
    "pycharm": {
     "name": "#%% md\n"
    }
   }
  }
 ],
 "metadata": {
  "kernelspec": {
   "display_name": "Python 3",
   "language": "python",
   "name": "python3"
  },
  "language_info": {
   "codemirror_mode": {
    "name": "ipython",
    "version": 2
   },
   "file_extension": ".py",
   "mimetype": "text/x-python",
   "name": "python",
   "nbconvert_exporter": "python",
   "pygments_lexer": "ipython2",
   "version": "2.7.6"
  }
 },
 "nbformat": 4,
 "nbformat_minor": 0
}