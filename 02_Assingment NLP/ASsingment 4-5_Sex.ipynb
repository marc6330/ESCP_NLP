{
 "cells": [
  {
   "cell_type": "markdown",
   "metadata": {
    "collapsed": true,
    "pycharm": {
     "name": "#%% md\n"
    }
   },
   "source": [
    "Import necessary modules"
   ]
  },
  {
   "cell_type": "code",
   "execution_count": 1,
   "outputs": [],
   "source": [
    "# somehow in this file trees dont work\n",
    "\n",
    "## for data\n",
    "import pandas as pd\n",
    "import random\n",
    "import numpy as np\n",
    "\n",
    "## for plotting\n",
    "import matplotlib.pyplot as plt\n",
    "import seaborn as sns\n",
    "\n",
    "# for ML prep amd ML\n",
    "from sklearn.feature_extraction.text import CountVectorizer\n",
    "from sklearn.model_selection import train_test_split\n",
    "from sklearn.naive_bayes import GaussianNB\n",
    "from sklearn.linear_model import LogisticRegression\n",
    "from sklearn.metrics import accuracy_score\n",
    "from sklearn.metrics import plot_confusion_matrix\n",
    "from sklearn.metrics import classification_report\n",
    "from sklearn import linear_model"
   ],
   "metadata": {
    "collapsed": false,
    "pycharm": {
     "name": "#%%\n"
    }
   }
  },
  {
   "cell_type": "markdown",
   "source": [
    "Reading Data and sampling it to digestible format"
   ],
   "metadata": {
    "collapsed": false,
    "pycharm": {
     "name": "#%% md\n"
    }
   }
  },
  {
   "cell_type": "code",
   "execution_count": 2,
   "outputs": [],
   "source": [
    "df_train = pd.read_csv('C:/Users/Marc/Dropbox/06_ESCP/01_Uni/04_Term 2/10_NLP with Python/02_Assingment 4&5/train_a4_5.csv')"
   ],
   "metadata": {
    "collapsed": false,
    "pycharm": {
     "name": "#%%\n"
    }
   }
  },
  {
   "cell_type": "code",
   "execution_count": 3,
   "outputs": [],
   "source": [
    "df_test= pd.read_csv('C:/Users/Marc/Dropbox/06_ESCP/01_Uni/04_Term 2/10_NLP with Python/02_Assingment 4&5/test_a4_5.csv')"
   ],
   "metadata": {
    "collapsed": false,
    "pycharm": {
     "name": "#%%\n"
    }
   }
  },
  {
   "cell_type": "code",
   "execution_count": 4,
   "outputs": [],
   "source": [
    "# take the sample random rather then just the top 10000\n",
    "df_train_r = df_train.sample(n=10000, random_state=1)\n",
    "\n"
   ],
   "metadata": {
    "collapsed": false,
    "pycharm": {
     "name": "#%%\n"
    }
   }
  },
  {
   "cell_type": "markdown",
   "source": [
    "Checking for and removing NaN in keywords"
   ],
   "metadata": {
    "collapsed": false,
    "pycharm": {
     "name": "#%% md\n"
    }
   }
  },
  {
   "cell_type": "code",
   "execution_count": 5,
   "outputs": [
    {
     "name": "stdout",
     "output_type": "stream",
     "text": [
      "<class 'pandas.core.frame.DataFrame'>\n",
      "Int64Index: 10000 entries, 3644682 to 2384596\n",
      "Data columns (total 4 columns):\n",
      " #   Column    Non-Null Count  Dtype \n",
      "---  ------    --------------  ----- \n",
      " 0   ID        10000 non-null  int64 \n",
      " 1   keywords  8828 non-null   object\n",
      " 2   age       10000 non-null  int64 \n",
      " 3   sex       10000 non-null  object\n",
      "dtypes: int64(2), object(2)\n",
      "memory usage: 390.6+ KB\n"
     ]
    }
   ],
   "source": [
    "# Checking how many NaN there are, then dropping\n",
    "df_train_r.info()\n",
    "df_train_r = df_train_r.dropna(subset=['keywords'])"
   ],
   "metadata": {
    "collapsed": false,
    "pycharm": {
     "name": "#%%\n"
    }
   }
  },
  {
   "cell_type": "code",
   "execution_count": 6,
   "outputs": [
    {
     "name": "stdout",
     "output_type": "stream",
     "text": [
      "<class 'pandas.core.frame.DataFrame'>\n",
      "Int64Index: 8828 entries, 3644682 to 2384596\n",
      "Data columns (total 4 columns):\n",
      " #   Column    Non-Null Count  Dtype \n",
      "---  ------    --------------  ----- \n",
      " 0   ID        8828 non-null   int64 \n",
      " 1   keywords  8828 non-null   object\n",
      " 2   age       8828 non-null   int64 \n",
      " 3   sex       8828 non-null   object\n",
      "dtypes: int64(2), object(2)\n",
      "memory usage: 344.8+ KB\n"
     ]
    }
   ],
   "source": [
    "#Verifying if NaN are reduced\n",
    "df_train_r.info()\n",
    "# Sex and age given, question what to do with the ngrams\n",
    "# -> tokenization has already happened, lemmatization could still be done, stopwords?"
   ],
   "metadata": {
    "collapsed": false,
    "pycharm": {
     "name": "#%%\n"
    }
   }
  },
  {
   "cell_type": "markdown",
   "source": [
    "Rename DF and features for comprehensiveness"
   ],
   "metadata": {
    "collapsed": false,
    "pycharm": {
     "name": "#%% md\n"
    }
   }
  },
  {
   "cell_type": "code",
   "execution_count": 7,
   "outputs": [],
   "source": [
    "df_train_r['sex'].replace('M', 1, inplace = True)\n",
    "df_train_r['sex'].replace('F', 0, inplace = True)"
   ],
   "metadata": {
    "collapsed": false,
    "pycharm": {
     "name": "#%%\n"
    }
   }
  },
  {
   "cell_type": "code",
   "execution_count": 8,
   "outputs": [],
   "source": [
    "dtf = df_train_r.rename(columns = {'keywords': 'text', 'sex': 'y'})"
   ],
   "metadata": {
    "collapsed": false,
    "pycharm": {
     "name": "#%%\n"
    }
   }
  },
  {
   "cell_type": "code",
   "execution_count": 9,
   "outputs": [
    {
     "name": "stdout",
     "output_type": "stream",
     "text": [
      "<class 'pandas.core.frame.DataFrame'>\n",
      "Int64Index: 8828 entries, 3644682 to 2384596\n",
      "Data columns (total 4 columns):\n",
      " #   Column  Non-Null Count  Dtype \n",
      "---  ------  --------------  ----- \n",
      " 0   ID      8828 non-null   int64 \n",
      " 1   text    8828 non-null   object\n",
      " 2   age     8828 non-null   int64 \n",
      " 3   y       8828 non-null   int64 \n",
      "dtypes: int64(3), object(1)\n",
      "memory usage: 344.8+ KB\n"
     ]
    }
   ],
   "source": [
    "dtf.info()"
   ],
   "metadata": {
    "collapsed": false,
    "pycharm": {
     "name": "#%%\n"
    }
   }
  },
  {
   "cell_type": "markdown",
   "source": [
    "See distribution for features: 'Sex'"
   ],
   "metadata": {
    "collapsed": false,
    "pycharm": {
     "name": "#%% md\n"
    }
   }
  },
  {
   "cell_type": "code",
   "execution_count": 10,
   "outputs": [
    {
     "data": {
      "text/plain": "<Figure size 432x288 with 1 Axes>",
      "image/png": "[encoded data removed]"
     },
     "metadata": {
      "needs_background": "light"
     },
     "output_type": "display_data"
    }
   ],
   "source": [
    "fig, ax = plt.subplots()\n",
    "fig.suptitle(\"Number F / M\", fontsize=12)\n",
    "dtf[\"y\"].reset_index().groupby(\"y\").count().sort_values(by=\n",
    "       \"index\").plot(kind=\"barh\", legend=False,\n",
    "        ax=ax).grid(axis='x')\n",
    "plt.show()\n",
    "\n",
    "# Difference between occurance seems fair"
   ],
   "metadata": {
    "collapsed": false,
    "pycharm": {
     "name": "#%%\n"
    }
   }
  },
  {
   "cell_type": "markdown",
   "source": [
    "Bag of Words appraoch:\n",
    "- reasonable as already word frequency shown in dataset"
   ],
   "metadata": {
    "collapsed": false,
    "pycharm": {
     "name": "#%% md\n"
    }
   }
  },
  {
   "cell_type": "markdown",
   "source": [
    "NLP - create feature matrix"
   ],
   "metadata": {
    "collapsed": false,
    "pycharm": {
     "name": "#%% md\n"
    }
   }
  },
  {
   "cell_type": "code",
   "execution_count": 11,
   "outputs": [],
   "source": [
    "# creating the feature matrix\n",
    "matrix = CountVectorizer(max_features=2000)\n",
    "X = matrix.fit_transform(dtf.text).toarray()"
   ],
   "metadata": {
    "collapsed": false,
    "pycharm": {
     "name": "#%%\n"
    }
   }
  },
  {
   "cell_type": "code",
   "execution_count": 12,
   "outputs": [],
   "source": [
    "y = dtf.y"
   ],
   "metadata": {
    "collapsed": false,
    "pycharm": {
     "name": "#%%\n"
    }
   }
  },
  {
   "cell_type": "code",
   "execution_count": 13,
   "outputs": [],
   "source": [
    "X_train, X_test, y_train, y_test = train_test_split(X, y)"
   ],
   "metadata": {
    "collapsed": false,
    "pycharm": {
     "name": "#%%\n"
    }
   }
  },
  {
   "cell_type": "markdown",
   "source": [
    "# Sex Predicition (1 =  M, 0 = F)\n",
    "\n",
    "Naive Bayes"
   ],
   "metadata": {
    "collapsed": false,
    "pycharm": {
     "name": "#%% md\n"
    }
   }
  },
  {
   "cell_type": "code",
   "execution_count": 14,
   "outputs": [
    {
     "data": {
      "text/plain": "<Figure size 432x288 with 2 Axes>",
      "image/png": "[encoded data removed]"
     },
     "metadata": {
      "needs_background": "light"
     },
     "output_type": "display_data"
    },
    {
     "name": "stdout",
     "output_type": "stream",
     "text": [
      "              precision    recall  f1-score   support\n",
      "\n",
      "           0       0.65      0.17      0.27      1023\n",
      "           1       0.56      0.92      0.70      1184\n",
      "\n",
      "    accuracy                           0.57      2207\n",
      "   macro avg       0.60      0.54      0.48      2207\n",
      "weighted avg       0.60      0.57      0.50      2207\n",
      "\n"
     ]
    }
   ],
   "source": [
    "# Naive Bayes\n",
    "gnb = GaussianNB()\n",
    "gnb.fit(X_train, y_train)\n",
    "\n",
    "# Predict Class\n",
    "y_pred_gnb = gnb.predict(X_test)\n",
    "\n",
    "# Accuracy\n",
    "accuracy = accuracy_score(y_test, y_pred_gnb)\n",
    "\n",
    "# Confusion Matrix\n",
    "plot_confusion_matrix(gnb, X_test, y_test)\n",
    "plt.show()\n",
    "\n",
    "# Classification report\n",
    "print(classification_report(y_test, y_pred_gnb))\n"
   ],
   "metadata": {
    "collapsed": false,
    "pycharm": {
     "name": "#%%\n"
    }
   }
  },
  {
   "cell_type": "code",
   "execution_count": 15,
   "outputs": [
    {
     "data": {
      "text/plain": "<Figure size 432x288 with 2 Axes>",
      "image/png": "[encoded data removed]"
     },
     "metadata": {
      "needs_background": "light"
     },
     "output_type": "display_data"
    },
    {
     "name": "stdout",
     "output_type": "stream",
     "text": [
      "              precision    recall  f1-score   support\n",
      "\n",
      "           0       0.54      0.47      0.50      1023\n",
      "           1       0.59      0.66      0.62      1184\n",
      "\n",
      "    accuracy                           0.57      2207\n",
      "   macro avg       0.57      0.56      0.56      2207\n",
      "weighted avg       0.57      0.57      0.57      2207\n",
      "\n"
     ]
    }
   ],
   "source": [
    "#Logistic Regression\n",
    "lr = LogisticRegression(random_state = 42, solver='liblinear')\n",
    "\n",
    "lr.fit(X_train, y_train)\n",
    "\n",
    "# Predict Class\n",
    "y_pred_lr = lr.predict(X_test)\n",
    "\n",
    "# Accuracy\n",
    "accuracy = accuracy_score(y_test, y_pred_lr)\n",
    "\n",
    "# Confusion Matrix\n",
    "plot_confusion_matrix(lr, X_test, y_test)\n",
    "plt.show()\n",
    "\n",
    "# Classification report\n",
    "print(classification_report(y_test, y_pred_lr))"
   ],
   "metadata": {
    "collapsed": false,
    "pycharm": {
     "name": "#%%\n"
    }
   }
  },
  {
   "cell_type": "markdown",
   "source": [
    "# Prediction for hand in\n"
   ],
   "metadata": {
    "collapsed": false,
    "pycharm": {
     "name": "#%% md\n"
    }
   }
  },
  {
   "cell_type": "markdown",
   "source": [
    "Rename DF and features for comprehensiveness"
   ],
   "metadata": {
    "collapsed": false
   }
  },
  {
   "cell_type": "code",
   "execution_count": 16,
   "outputs": [],
   "source": [
    "df_test['sex'].replace('M', 1, inplace = True)\n",
    "df_test['sex'].replace('F', 0, inplace = True)"
   ],
   "metadata": {
    "collapsed": false,
    "pycharm": {
     "name": "#%%\n"
    }
   }
  },
  {
   "cell_type": "code",
   "execution_count": 17,
   "outputs": [],
   "source": [
    "dtf = df_test.rename(columns = {'keywords': 'text', 'sex': 'y'})"
   ],
   "metadata": {
    "collapsed": false,
    "pycharm": {
     "name": "#%%\n"
    }
   }
  },
  {
   "cell_type": "code",
   "execution_count": 18,
   "outputs": [],
   "source": [
    "dtf = dtf.drop(columns = ['age', 'y'])\n"
   ],
   "metadata": {
    "collapsed": false,
    "pycharm": {
     "name": "#%%\n"
    }
   }
  },
  {
   "cell_type": "code",
   "execution_count": 19,
   "outputs": [
    {
     "name": "stdout",
     "output_type": "stream",
     "text": [
      "<class 'pandas.core.frame.DataFrame'>\n",
      "RangeIndex: 3111785 entries, 0 to 3111784\n",
      "Data columns (total 2 columns):\n",
      " #   Column  Dtype \n",
      "---  ------  ----- \n",
      " 0   ID      int64 \n",
      " 1   text    object\n",
      "dtypes: int64(1), object(1)\n",
      "memory usage: 47.5+ MB\n"
     ]
    }
   ],
   "source": [
    "dtf = dtf.replace(np.nan, '', regex=True)\n",
    "dtf.info()"
   ],
   "metadata": {
    "collapsed": false,
    "pycharm": {
     "name": "#%%\n"
    }
   }
  },
  {
   "cell_type": "code",
   "execution_count": 20,
   "outputs": [],
   "source": [
    "dtf_top_10000 = dtf.head(10000)"
   ],
   "metadata": {
    "collapsed": false,
    "pycharm": {
     "name": "#%%\n"
    }
   }
  },
  {
   "cell_type": "markdown",
   "source": [
    "Bag of Words appraoch:\n",
    "- reasonable as already word frequency shown in dataset"
   ],
   "metadata": {
    "collapsed": false
   }
  },
  {
   "cell_type": "markdown",
   "source": [
    "NLP - create feature matrix"
   ],
   "metadata": {
    "collapsed": false
   }
  },
  {
   "cell_type": "code",
   "execution_count": 21,
   "outputs": [],
   "source": [
    "# creating the feature matrix\n",
    "matrix = CountVectorizer(max_features=2000)\n",
    "X = matrix.fit_transform(dtf_top_10000.text).toarray()\n",
    "\n",
    "# Predict Class\n",
    "Sex_pred_lr = lr.predict(X)"
   ],
   "metadata": {
    "collapsed": false,
    "pycharm": {
     "name": "#%%\n"
    }
   }
  },
  {
   "cell_type": "code",
   "execution_count": 22,
   "outputs": [
    {
     "data": {
      "text/plain": "           ID  sex_pred\n0     1136369         1\n1     2684755         1\n2      130714         1\n3      338096         0\n4     2417963         0\n...       ...       ...\n9995   569801         1\n9996  1239078         0\n9997  2347525         1\n9998   326672         0\n9999   993813         1\n\n[10000 rows x 2 columns]",
      "text/html": "<div>\n<style scoped>\n    .dataframe tbody tr th:only-of-type {\n        vertical-align: middle;\n    }\n\n    .dataframe tbody tr th {\n        vertical-align: top;\n    }\n\n    .dataframe thead th {\n        text-align: right;\n    }\n</style>\n<table border=\"1\" class=\"dataframe\">\n  <thead>\n    <tr style=\"text-align: right;\">\n      <th></th>\n      <th>ID</th>\n      <th>sex_pred</th>\n    </tr>\n  </thead>\n  <tbody>\n    <tr>\n      <th>0</th>\n      <td>1136369</td>\n      <td>1</td>\n    </tr>\n    <tr>\n      <th>1</th>\n      <td>2684755</td>\n      <td>1</td>\n    </tr>\n    <tr>\n      <th>2</th>\n      <td>130714</td>\n      <td>1</td>\n    </tr>\n    <tr>\n      <th>3</th>\n      <td>338096</td>\n      <td>0</td>\n    </tr>\n    <tr>\n      <th>4</th>\n      <td>2417963</td>\n      <td>0</td>\n    </tr>\n    <tr>\n      <th>...</th>\n      <td>...</td>\n      <td>...</td>\n    </tr>\n    <tr>\n      <th>9995</th>\n      <td>569801</td>\n      <td>1</td>\n    </tr>\n    <tr>\n      <th>9996</th>\n      <td>1239078</td>\n      <td>0</td>\n    </tr>\n    <tr>\n      <th>9997</th>\n      <td>2347525</td>\n      <td>1</td>\n    </tr>\n    <tr>\n      <th>9998</th>\n      <td>326672</td>\n      <td>0</td>\n    </tr>\n    <tr>\n      <th>9999</th>\n      <td>993813</td>\n      <td>1</td>\n    </tr>\n  </tbody>\n</table>\n<p>10000 rows × 2 columns</p>\n</div>"
     },
     "execution_count": 22,
     "metadata": {},
     "output_type": "execute_result"
    }
   ],
   "source": [
    "handin = dtf_top_10000[['ID']]\n",
    "handin['sex_pred'] = Sex_pred_lr\n",
    "handin"
   ],
   "metadata": {
    "collapsed": false,
    "pycharm": {
     "name": "#%%\n"
    }
   }
  },
  {
   "cell_type": "code",
   "execution_count": 23,
   "outputs": [],
   "source": [
    "age = pd.read_csv('C:/Users/Marc/Dropbox/06_ESCP/01_Uni/04_Term 2/10_NLP with Python/02_Assingment 4&5/age.csv', index_col = False)\n",
    "age = age.drop(columns = ['Unnamed: 0'])"
   ],
   "metadata": {
    "collapsed": false,
    "pycharm": {
     "name": "#%%\n"
    }
   }
  },
  {
   "cell_type": "code",
   "execution_count": 24,
   "outputs": [
    {
     "data": {
      "text/plain": "           ID  age_pred  sex_pred\n0     1136369      46.0         1\n1     2684755      49.0         1\n2      130714      44.0         1\n3      338096      46.0         0\n4     2417963      46.0         0\n...       ...       ...       ...\n8869   569801      48.0         1\n8870  1239078      47.0         0\n8871  2347525      47.0         1\n8872   326672      47.0         0\n8873   993813      46.0         1\n\n[8874 rows x 3 columns]",
      "text/html": "<div>\n<style scoped>\n    .dataframe tbody tr th:only-of-type {\n        vertical-align: middle;\n    }\n\n    .dataframe tbody tr th {\n        vertical-align: top;\n    }\n\n    .dataframe thead th {\n        text-align: right;\n    }\n</style>\n<table border=\"1\" class=\"dataframe\">\n  <thead>\n    <tr style=\"text-align: right;\">\n      <th></th>\n      <th>ID</th>\n      <th>age_pred</th>\n      <th>sex_pred</th>\n    </tr>\n  </thead>\n  <tbody>\n    <tr>\n      <th>0</th>\n      <td>1136369</td>\n      <td>46.0</td>\n      <td>1</td>\n    </tr>\n    <tr>\n      <th>1</th>\n      <td>2684755</td>\n      <td>49.0</td>\n      <td>1</td>\n    </tr>\n    <tr>\n      <th>2</th>\n      <td>130714</td>\n      <td>44.0</td>\n      <td>1</td>\n    </tr>\n    <tr>\n      <th>3</th>\n      <td>338096</td>\n      <td>46.0</td>\n      <td>0</td>\n    </tr>\n    <tr>\n      <th>4</th>\n      <td>2417963</td>\n      <td>46.0</td>\n      <td>0</td>\n    </tr>\n    <tr>\n      <th>...</th>\n      <td>...</td>\n      <td>...</td>\n      <td>...</td>\n    </tr>\n    <tr>\n      <th>8869</th>\n      <td>569801</td>\n      <td>48.0</td>\n      <td>1</td>\n    </tr>\n    <tr>\n      <th>8870</th>\n      <td>1239078</td>\n      <td>47.0</td>\n      <td>0</td>\n    </tr>\n    <tr>\n      <th>8871</th>\n      <td>2347525</td>\n      <td>47.0</td>\n      <td>1</td>\n    </tr>\n    <tr>\n      <th>8872</th>\n      <td>326672</td>\n      <td>47.0</td>\n      <td>0</td>\n    </tr>\n    <tr>\n      <th>8873</th>\n      <td>993813</td>\n      <td>46.0</td>\n      <td>1</td>\n    </tr>\n  </tbody>\n</table>\n<p>8874 rows × 3 columns</p>\n</div>"
     },
     "execution_count": 24,
     "metadata": {},
     "output_type": "execute_result"
    }
   ],
   "source": [
    "final_handin = pd.merge(age, handin, how = 'left', on = ['ID'])\n",
    "final_handin"
   ],
   "metadata": {
    "collapsed": false,
    "pycharm": {
     "name": "#%%\n"
    }
   }
  },
  {
   "cell_type": "code",
   "execution_count": 26,
   "outputs": [
    {
     "data": {
      "text/plain": "        ID  age_pred  sex_pred\n0  1136369      46.0         1\n1  2684755      49.0         1\n2   130714      44.0         1\n3   338096      46.0         0\n4  2417963      46.0         0",
      "text/html": "<div>\n<style scoped>\n    .dataframe tbody tr th:only-of-type {\n        vertical-align: middle;\n    }\n\n    .dataframe tbody tr th {\n        vertical-align: top;\n    }\n\n    .dataframe thead th {\n        text-align: right;\n    }\n</style>\n<table border=\"1\" class=\"dataframe\">\n  <thead>\n    <tr style=\"text-align: right;\">\n      <th></th>\n      <th>ID</th>\n      <th>age_pred</th>\n      <th>sex_pred</th>\n    </tr>\n  </thead>\n  <tbody>\n    <tr>\n      <th>0</th>\n      <td>1136369</td>\n      <td>46.0</td>\n      <td>1</td>\n    </tr>\n    <tr>\n      <th>1</th>\n      <td>2684755</td>\n      <td>49.0</td>\n      <td>1</td>\n    </tr>\n    <tr>\n      <th>2</th>\n      <td>130714</td>\n      <td>44.0</td>\n      <td>1</td>\n    </tr>\n    <tr>\n      <th>3</th>\n      <td>338096</td>\n      <td>46.0</td>\n      <td>0</td>\n    </tr>\n    <tr>\n      <th>4</th>\n      <td>2417963</td>\n      <td>46.0</td>\n      <td>0</td>\n    </tr>\n  </tbody>\n</table>\n</div>"
     },
     "execution_count": 26,
     "metadata": {},
     "output_type": "execute_result"
    }
   ],
   "source": [
    "final_handin.head()"
   ],
   "metadata": {
    "collapsed": false,
    "pycharm": {
     "name": "#%%\n"
    }
   }
  },
  {
   "cell_type": "code",
   "execution_count": 25,
   "outputs": [],
   "source": [
    "final_handin.to_csv('C:/Users/Marc/Dropbox/06_ESCP/01_Uni/04_Term 2/10_NLP with Python/02_Assingment 4&5/final_handin.csv')\n"
   ],
   "metadata": {
    "collapsed": false,
    "pycharm": {
     "name": "#%%\n"
    }
   }
  }
 ],
 "metadata": {
  "kernelspec": {
   "display_name": "Python 3",
   "language": "python",
   "name": "python3"
  },
  "language_info": {
   "codemirror_mode": {
    "name": "ipython",
    "version": 2
   },
   "file_extension": ".py",
   "mimetype": "text/x-python",
   "name": "python",
   "nbconvert_exporter": "python",
   "pygments_lexer": "ipython2",
   "version": "2.7.6"
  }
 },
 "nbformat": 4,
 "nbformat_minor": 0
}