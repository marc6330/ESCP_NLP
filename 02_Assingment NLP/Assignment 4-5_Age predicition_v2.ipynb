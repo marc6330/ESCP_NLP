{
 "cells": [
  {
   "cell_type": "code",
   "execution_count": 486,
   "outputs": [],
   "source": [],
   "metadata": {
    "collapsed": false,
    "pycharm": {
     "name": "#%%\n"
    }
   }
  },
  {
   "cell_type": "markdown",
   "source": [
    "Import necessary modules"
   ],
   "metadata": {
    "collapsed": false
   }
  },
  {
   "cell_type": "code",
   "execution_count": 486,
   "outputs": [],
   "source": [],
   "metadata": {
    "collapsed": false,
    "pycharm": {
     "name": "#%%\n"
    }
   }
  },
  {
   "cell_type": "code",
   "execution_count": 487,
   "outputs": [],
   "source": [
    "## for data\n",
    "import pandas as pd\n",
    "import numpy as np\n",
    "from ast import literal_eval\n",
    "import re\n",
    "\n",
    "## for plotting\n",
    "import matplotlib.pyplot as plt\n",
    "\n",
    "\n",
    "# for ML prep amd ML\n",
    "from sklearn.feature_extraction.text import CountVectorizer\n",
    "from sklearn.model_selection import train_test_split\n",
    "from sklearn.metrics import accuracy_score\n",
    "from sklearn.metrics import plot_confusion_matrix\n",
    "from sklearn.metrics import classification_report\n",
    "from sklearn.linear_model import LinearRegression\n",
    "from sklearn.ensemble import RandomForestRegressor\n",
    "from sklearn import ensemble\n",
    "import sklearn.metrics as sm\n",
    "from spacy.lang.fr.stop_words import STOP_WORDS as fr_stop"
   ],
   "metadata": {
    "collapsed": false,
    "pycharm": {
     "name": "#%%\n"
    }
   }
  },
  {
   "cell_type": "markdown",
   "source": [
    "Reading Data and sampling it to digestible format"
   ],
   "metadata": {
    "collapsed": false
   }
  },
  {
   "cell_type": "code",
   "execution_count": 488,
   "outputs": [],
   "source": [
    "df_train = pd.read_csv('C:/Users/Marc/Dropbox/06_ESCP/01_Uni/04_Term 2/10_NLP with Python/02_Assingment 4&5/train_a4_5.csv')"
   ],
   "metadata": {
    "collapsed": false,
    "pycharm": {
     "name": "#%%\n"
    }
   }
  },
  {
   "cell_type": "code",
   "execution_count": 489,
   "outputs": [],
   "source": [
    "df_test= pd.read_csv('C:/Users/Marc/Dropbox/06_ESCP/01_Uni/04_Term 2/10_NLP with Python/02_Assingment 4&5/test_a4_5.csv')"
   ],
   "metadata": {
    "collapsed": false,
    "pycharm": {
     "name": "#%%\n"
    }
   }
  },
  {
   "cell_type": "code",
   "execution_count": 490,
   "outputs": [],
   "source": [
    "# take the sample random rather then just the top 10000\n",
    "df_train_r = df_train.sample(n=1000, random_state=1)"
   ],
   "metadata": {
    "collapsed": false,
    "pycharm": {
     "name": "#%%\n"
    }
   }
  },
  {
   "cell_type": "markdown",
   "source": [
    "Checking for and removing NaN in keywords"
   ],
   "metadata": {
    "collapsed": false
   }
  },
  {
   "cell_type": "code",
   "execution_count": 491,
   "outputs": [
    {
     "name": "stdout",
     "output_type": "stream",
     "text": [
      "<class 'pandas.core.frame.DataFrame'>\n",
      "Int64Index: 1000 entries, 3644682 to 5315900\n",
      "Data columns (total 4 columns):\n",
      " #   Column    Non-Null Count  Dtype \n",
      "---  ------    --------------  ----- \n",
      " 0   ID        1000 non-null   int64 \n",
      " 1   keywords  884 non-null    object\n",
      " 2   age       1000 non-null   int64 \n",
      " 3   sex       1000 non-null   object\n",
      "dtypes: int64(2), object(2)\n",
      "memory usage: 39.1+ KB\n"
     ]
    }
   ],
   "source": [
    "# Checking how many NaN there are, then dropping\n",
    "df_train_r.info()\n",
    "df_train_r = df_train_r.dropna(subset=['keywords'])"
   ],
   "metadata": {
    "collapsed": false,
    "pycharm": {
     "name": "#%%\n"
    }
   }
  },
  {
   "cell_type": "code",
   "execution_count": 492,
   "outputs": [
    {
     "name": "stdout",
     "output_type": "stream",
     "text": [
      "<class 'pandas.core.frame.DataFrame'>\n",
      "Int64Index: 884 entries, 3644682 to 5315900\n",
      "Data columns (total 4 columns):\n",
      " #   Column    Non-Null Count  Dtype \n",
      "---  ------    --------------  ----- \n",
      " 0   ID        884 non-null    int64 \n",
      " 1   keywords  884 non-null    object\n",
      " 2   age       884 non-null    int64 \n",
      " 3   sex       884 non-null    object\n",
      "dtypes: int64(2), object(2)\n",
      "memory usage: 34.5+ KB\n"
     ]
    }
   ],
   "source": [
    "#Verifying if NaN are reduced\n",
    "df_train_r.info()\n",
    "# Sex and age given, question what to do with the ngrams\n",
    "# -> tokenization has already happened, lemmatization could still be done, stopwords?"
   ],
   "metadata": {
    "collapsed": false,
    "pycharm": {
     "name": "#%%\n"
    }
   }
  },
  {
   "cell_type": "markdown",
   "source": [
    "Rename DF and features for comprehensiveness\n"
   ],
   "metadata": {
    "collapsed": false
   }
  },
  {
   "cell_type": "code",
   "execution_count": 493,
   "outputs": [],
   "source": [
    "dtf = df_train_r.rename(columns = {'keywords': 'text', 'sex': 'y'})"
   ],
   "metadata": {
    "collapsed": false,
    "pycharm": {
     "name": "#%%\n"
    }
   }
  },
  {
   "cell_type": "code",
   "execution_count": 494,
   "outputs": [
    {
     "name": "stdout",
     "output_type": "stream",
     "text": [
      "<class 'pandas.core.frame.DataFrame'>\n",
      "Int64Index: 884 entries, 3644682 to 5315900\n",
      "Data columns (total 4 columns):\n",
      " #   Column  Non-Null Count  Dtype \n",
      "---  ------  --------------  ----- \n",
      " 0   ID      884 non-null    int64 \n",
      " 1   text    884 non-null    object\n",
      " 2   age     884 non-null    int64 \n",
      " 3   y       884 non-null    object\n",
      "dtypes: int64(2), object(2)\n",
      "memory usage: 34.5+ KB\n"
     ]
    }
   ],
   "source": [
    "dtf.info()"
   ],
   "metadata": {
    "collapsed": false,
    "pycharm": {
     "name": "#%%\n"
    }
   }
  },
  {
   "cell_type": "markdown",
   "source": [
    "See distribution for features: 'Age'"
   ],
   "metadata": {
    "collapsed": false
   }
  },
  {
   "cell_type": "code",
   "execution_count": 495,
   "outputs": [
    {
     "data": {
      "text/plain": "<Figure size 432x288 with 1 Axes>",
      "image/png": "[encoded data removed]"
     },
     "metadata": {
      "needs_background": "light"
     },
     "output_type": "display_data"
    }
   ],
   "source": [
    "plt.hist(dtf.age, bins = 20)\n",
    "plt.show()"
   ],
   "metadata": {
    "collapsed": false,
    "pycharm": {
     "name": "#%%\n"
    }
   }
  },
  {
   "cell_type": "code",
   "execution_count": 496,
   "outputs": [],
   "source": [
    "#clean stopwords out of list\n",
    "final_stopwords_list = list(fr_stop)\n",
    "\n",
    "dtf['text'] = [i.replace(\":\", \"':\") for i in dtf.text]\n",
    "dtf['text'] = [i.replace(\";\", \",'\") for i in dtf.text]\n",
    "dtf['text'] = [\"{'\" + i + \"}\" for i in dtf.text]\n",
    "dtf['text'] = [literal_eval(i) for i in dtf.text]\n"
   ],
   "metadata": {
    "collapsed": false,
    "pycharm": {
     "name": "#%%\n"
    }
   }
  },
  {
   "cell_type": "code",
   "execution_count": 497,
   "outputs": [],
   "source": [
    "text_cleaned = []\n",
    "\n",
    "for dict in dtf.text:\n",
    "    for word in final_stopwords_list:\n",
    "        if word in dict:\n",
    "            del dict[word]\n",
    "    text_cleaned.append(dict)\n",
    "\n",
    "dtf['text_cleaned'] = text_cleaned\n"
   ],
   "metadata": {
    "collapsed": false,
    "pycharm": {
     "name": "#%%\n"
    }
   }
  },
  {
   "cell_type": "code",
   "execution_count": 498,
   "outputs": [],
   "source": [
    "dtf['text_cleaned'] = [str(i).replace(\"':\", \":\") for i in dtf.text_cleaned]\n",
    "dtf['text_cleaned'] = [str(i).replace(\",'\", \";\") for i in dtf.text_cleaned]\n",
    "dtf['text_cleaned'] = [str(i).replace(\"{\", \"\") for i in dtf.text_cleaned]\n",
    "dtf['text_cleaned'] = [str(i).replace(\"}\", \"\") for i in dtf.text_cleaned]"
   ],
   "metadata": {
    "collapsed": false,
    "pycharm": {
     "name": "#%%\n"
    }
   }
  },
  {
   "cell_type": "code",
   "execution_count": 499,
   "outputs": [
    {
     "data": {
      "text/plain": "3644682    'pratique: 4, 'management: 4, 'bail: 4, 'comme...\n6293550    'guadeloupe: 1, 'societe: 1, 'images: 1, 'dire...\n6935876    'blanc: 1, 'margarine: 1, 'confiture: 1, 'yaou...\n323866     'compte: 1, 'scpi: 1, 'vie: 1, 'rapporte: 1, '...\n6538194                  '002vssmdob2j6yw: 1, 'visibility: 1\n                                 ...                        \n4635733    'calculer: 2, 'peine: 1, 'double: 1, 'moto: 1,...\n5076660    'stars: 26, 'tara: 1, 'melenchon: 1, 'sexuelle...\n6786348                                  'actu: 1, 'flash: 1\n4105869    'reconnaissance+de+dettes+entre+particuliers: ...\n5315900    'symptomes: 1, 'causes: 1, 'traitement: 1, 'ac...\nName: text_cleaned, Length: 884, dtype: object"
     },
     "execution_count": 499,
     "metadata": {},
     "output_type": "execute_result"
    }
   ],
   "source": [
    "dtf.text_cleaned\n"
   ],
   "metadata": {
    "collapsed": false,
    "pycharm": {
     "name": "#%%\n"
    }
   }
  },
  {
   "cell_type": "markdown",
   "source": [
    "NLP - create feature matrix"
   ],
   "metadata": {
    "collapsed": false,
    "pycharm": {
     "name": "#%% md\n"
    }
   }
  },
  {
   "cell_type": "code",
   "execution_count": 500,
   "outputs": [],
   "source": [
    "# creating the feature matrix\n",
    "matrix = CountVectorizer(max_features=2000)\n",
    "X = matrix.fit_transform(dtf.text_cleaned).toarray()"
   ],
   "metadata": {
    "collapsed": false,
    "pycharm": {
     "name": "#%%\n"
    }
   }
  },
  {
   "cell_type": "markdown",
   "source": [
    "# Age Predicition\n",
    "\n",
    "Linear Model (Lasso)"
   ],
   "metadata": {
    "collapsed": false,
    "pycharm": {
     "name": "#%% md\n"
    }
   }
  },
  {
   "cell_type": "code",
   "execution_count": 501,
   "outputs": [],
   "source": [
    "y_reg = df_train_r.age"
   ],
   "metadata": {
    "collapsed": false,
    "pycharm": {
     "name": "#%%\n"
    }
   }
  },
  {
   "cell_type": "code",
   "execution_count": 502,
   "outputs": [],
   "source": [
    "X_train, X_test, y_train_r, y_test_r = train_test_split(X, y_reg)\n"
   ],
   "metadata": {
    "collapsed": false,
    "pycharm": {
     "name": "#%%\n"
    }
   }
  },
  {
   "cell_type": "code",
   "source": [
    "# Linear Regression\n",
    "linreg = LinearRegression()\n",
    "\n",
    "linreg.fit(X_train, y_train_r)\n",
    "\n",
    "# Predict Class\n",
    "y_pred_linreg = np.round(linreg.predict(X_test))\n",
    "\n",
    "# Metrics\n",
    "print(\"Mean absolute error =\", round(sm.mean_absolute_error(y_test_r, y_pred_linreg), 2))\n",
    "print(\"Mean squared error =\", round(sm.mean_squared_error(y_test_r, y_pred_linreg), 2))\n",
    "print(\"Median absolute error =\", round(sm.median_absolute_error(y_test_r, y_pred_linreg), 2))\n",
    "print(\"Explain variance score =\", round(sm.explained_variance_score(y_test_r, y_pred_linreg), 2))\n",
    "print(\"R2 score =\", round(sm.r2_score(y_test_r, y_pred_linreg), 2))\n",
    "\n",
    "\n",
    "#check output\n",
    "plt.hist(y_pred_linreg, bins = 20)\n",
    "plt.show()\n",
    "\n",
    "# Problem that linear_model predicts 46 for everyone"
   ],
   "metadata": {
    "collapsed": false,
    "pycharm": {
     "name": "#%%\n"
    }
   },
   "execution_count": 503,
   "outputs": [
    {
     "name": "stdout",
     "output_type": "stream",
     "text": [
      "Mean absolute error = 5895395783881.1\n",
      "Mean squared error = 2.393187814799153e+26\n",
      "Median absolute error = 1723693679995.0\n",
      "Explain variance score = -1.5078952180150077e+24\n",
      "R2 score = -1.5079622942954042e+24\n"
     ]
    },
    {
     "data": {
      "text/plain": "<Figure size 432x288 with 1 Axes>",
      "image/png": "[encoded data removed]"
     },
     "metadata": {
      "needs_background": "light"
     },
     "output_type": "display_data"
    }
   ]
  },
  {
   "cell_type": "code",
   "execution_count": 504,
   "outputs": [],
   "source": [
    "ert = pd.DataFrame(X_train)"
   ],
   "metadata": {
    "collapsed": false,
    "pycharm": {
     "name": "#%%\n"
    }
   }
  },
  {
   "cell_type": "code",
   "source": [
    "# RF Regression\n",
    "rfreg = RandomForestRegressor(max_depth=2, random_state=0)\n",
    "\n",
    "rfreg.fit(X_train, y_train_r)\n",
    "\n",
    "# Predict Class\n",
    "y_pred_rfreg = np.round(rfreg.predict(X_test))\n",
    "\n",
    "# Metrics\n",
    "print(\"Mean absolute error =\", round(sm.mean_absolute_error(y_test_r, y_pred_rfreg), 2))\n",
    "print(\"Mean squared error =\", round(sm.mean_squared_error(y_test_r, y_pred_rfreg), 2))\n",
    "print(\"Median absolute error =\", round(sm.median_absolute_error(y_test_r, y_pred_rfreg), 2))\n",
    "print(\"Explain variance score =\", round(sm.explained_variance_score(y_test_r, y_pred_rfreg), 2))\n",
    "print(\"R2 score =\", round(sm.r2_score(y_test_r, y_pred_rfreg), 2))\n",
    "\n",
    "\n",
    "#check output\n",
    "plt.hist(y_pred_rfreg, bins = 20)\n",
    "plt.show()"
   ],
   "metadata": {
    "collapsed": false,
    "pycharm": {
     "name": "#%%\n"
    }
   },
   "execution_count": 505,
   "outputs": [
    {
     "name": "stdout",
     "output_type": "stream",
     "text": [
      "Mean absolute error = 10.42\n",
      "Mean squared error = 159.48\n",
      "Median absolute error = 10.0\n",
      "Explain variance score = 0.01\n",
      "R2 score = -0.0\n"
     ]
    },
    {
     "data": {
      "text/plain": "<Figure size 432x288 with 1 Axes>",
      "image/png": "[encoded data removed]"
     },
     "metadata": {
      "needs_background": "light"
     },
     "output_type": "display_data"
    }
   ]
  },
  {
   "cell_type": "code",
   "source": [
    "# XGBoost Regression\n",
    "params = {'n_estimators': 500,\n",
    "          'max_depth': 4,\n",
    "          'min_samples_split': 5,\n",
    "          'learning_rate': 0.01,\n",
    "          'loss': 'ls'}\n",
    "xgreg = ensemble.GradientBoostingRegressor(**params)\n",
    "\n",
    "xgreg.fit(X_train, y_train_r)\n",
    "\n",
    "# Predict Class\n",
    "y_pred_xgreg = np.round(xgreg.predict(X_test))\n",
    "\n",
    "# Metrics\n",
    "print(\"Mean absolute error =\", round(sm.mean_absolute_error(y_test_r, y_pred_xgreg), 2))\n",
    "print(\"Mean squared error =\", round(sm.mean_squared_error(y_test_r, y_pred_xgreg), 2))\n",
    "print(\"Median absolute error =\", round(sm.median_absolute_error(y_test_r, y_pred_xgreg), 2))\n",
    "print(\"Explain variance score =\", round(sm.explained_variance_score(y_test_r, y_pred_xgreg), 2))\n",
    "print(\"R2 score =\", round(sm.r2_score(y_test_r, y_pred_xgreg), 2))\n",
    "\n",
    "\n",
    "#check output\n",
    "plt.hist(y_pred_xgreg, bins = 20)\n",
    "plt.show()"
   ],
   "metadata": {
    "collapsed": false,
    "pycharm": {
     "name": "#%%\n"
    }
   },
   "execution_count": 506,
   "outputs": [
    {
     "name": "stdout",
     "output_type": "stream",
     "text": [
      "Mean absolute error = 10.49\n",
      "Mean squared error = 166.15\n",
      "Median absolute error = 9.0\n",
      "Explain variance score = -0.03\n",
      "R2 score = -0.05\n"
     ]
    },
    {
     "data": {
      "text/plain": "<Figure size 432x288 with 1 Axes>",
      "image/png": "[encoded data removed]"
     },
     "metadata": {
      "needs_background": "light"
     },
     "output_type": "display_data"
    }
   ]
  },
  {
   "cell_type": "code",
   "source": [
    "# check solution\n",
    "plt.hist(y_test_r, bins = 20)\n",
    "plt.show()\n"
   ],
   "metadata": {
    "collapsed": false,
    "pycharm": {
     "name": "#%%\n"
    }
   },
   "execution_count": 507,
   "outputs": [
    {
     "data": {
      "text/plain": "<Figure size 432x288 with 1 Axes>",
      "image/png": "[encoded data removed]"
     },
     "metadata": {
      "needs_background": "light"
     },
     "output_type": "display_data"
    }
   ]
  },
  {
   "cell_type": "markdown",
   "source": [
    "by cleaning the dataset we might achieve mbetter results, however as we are not using acutual sentiment anaylsis, but only bog owords, even weird words could lead to the right age - sex.\n",
    " - Cleaning?\n",
    "    -  if yes how?"
   ],
   "metadata": {
    "collapsed": false,
    "pycharm": {
     "name": "#%% md\n"
    }
   }
  },
  {
   "cell_type": "markdown",
   "source": [
    "HAnd in prediction"
   ],
   "metadata": {
    "collapsed": false,
    "pycharm": {
     "name": "#%% md\n"
    }
   }
  },
  {
   "cell_type": "code",
   "execution_count": 508,
   "outputs": [],
   "source": [
    "df_test_r = df_test.head(10000)"
   ],
   "metadata": {
    "collapsed": false,
    "pycharm": {
     "name": "#%%\n"
    }
   }
  },
  {
   "cell_type": "code",
   "execution_count": 509,
   "outputs": [],
   "source": [
    "dtf_t = df_test_r.rename(columns = {'keywords': 'text', 'sex': 'y'})\n",
    "\n",
    "dtf_t = dtf_t.dropna(subset = ['text'])\n",
    "\n",
    "#clean stopwords out of list\n",
    "dtf_t['text'] = [i.replace(\":\", \"':\") for i in dtf_t.text]\n",
    "dtf_t['text'] = [i.replace(\";\", \",'\") for i in dtf_t.text]\n",
    "dtf_t['text'] = [i.replace(\",'0000a23a97c8da2d8d88d8eb5302daa\", \"\") for i in dtf_t.text]\n",
    "dtf_t['text'] = [i.replace(\"'kw=tant%20qu'il%20y%20aura%20de%20l\", \"\") for i in dtf_t.text]\n",
    "dtf_t['text'] = [i.replace(\"'developpeurd\", \"\") for i in dtf_t.text]\n",
    "dtf_t['text'] = [i.replace(\",'comment20remettre20l'c3a9cran20droit':1\", \"\") for i in dtf_t.text]\n",
    "\n",
    "dtf_t['text'] = [str(i).replace(\"+\", \"\") for i in dtf_t.text]\n",
    "dtf_t['text'] = [str(i).replace(\"%\", \"\") for i in dtf_t.text]\n",
    "dtf_t['text'] = [\"{'\" + i + \"}\" for i in dtf_t.text]\n",
    "\n",
    "dtf_t = dtf_t.drop(dtf_t[dtf_t['text'].str.match(\"{'police':2,'tailledepolicec3a0l27impressiontroppetite':2,'taille':2,'impression':2,'taille20de20police20trop20petite20c3a020l'impression':1,'trop':2,'petite':2,'forum':2,'affich':2}\")].index)\n",
    "dtf_t = dtf_t.drop(dtf_t[dtf_t['text'].str.match(\"{'pr�avis d'un mois cong� bail si perte d'emploi':1,'reduit':1,'recent':1,'location':1,'emploi':2,'suite':1,'perte':2,'forum':2,'affich':2,'mois':1,'preavis':2,'une':1}\")].index)\n",
    "dtf_t = dtf_t.drop(dtf_t[dtf_t['text'].str.match(\"{'kw=depardieu':1,'re=paris_kw=cirque20d'hiver':1,'recherche':3,'theatre':1,'personnalisee':3,'paris':1,'kw=bouglione':1}\")].index)\n",
    "dtf_t = dtf_t.drop(dtf_t[dtf_t['text'].str.match(\"{'remettre':1,'ecran':1,'droit':1,'comment20remettre20l'c3a9cran20droit':1,'comment':1,'forum':1,'commentremettrel27c3a9crandroit':2,'affich':1}\")].index)\n",
    "dtf_t = dtf_t.drop(dtf_t[dtf_t['text'].str.match(\"{'search':1,'rpl':1,'developpeurd'application':1\")].index)\n",
    "\n",
    "dtf_t['text'] = [literal_eval(i) for i in dtf_t.text]"
   ],
   "metadata": {
    "collapsed": false,
    "pycharm": {
     "name": "#%%\n"
    }
   }
  },
  {
   "cell_type": "code",
   "execution_count": 510,
   "outputs": [],
   "source": [
    "text_cleaned_test = []\n",
    "\n",
    "for dict in dtf_t.text:\n",
    "    for word in final_stopwords_list:\n",
    "        if word in dict:\n",
    "            del dict[word]\n",
    "    text_cleaned_test.append(dict)\n",
    "\n",
    "dtf_t['text_cleaned'] = text_cleaned_test\n",
    "\n",
    "dtf_t['text_cleaned'] = [str(i).replace(\"':\", \":\") for i in dtf_t.text_cleaned]\n",
    "dtf_t['text_cleaned'] = [str(i).replace(\",'\", \";\") for i in dtf_t.text_cleaned]\n",
    "dtf_t['text_cleaned'] = [str(i).replace(\"{\", \"\") for i in dtf_t.text_cleaned]\n",
    "dtf_t['text_cleaned'] = [str(i).replace(\"}\", \"\") for i in dtf_t.text_cleaned]\n",
    "\n",
    "\n",
    "# creating the feature matrix\n",
    "matrix = CountVectorizer(max_features=2000)\n",
    "X = matrix.fit_transform(dtf_t.text_cleaned).toarray()"
   ],
   "metadata": {
    "collapsed": false,
    "pycharm": {
     "name": "#%%\n"
    }
   }
  },
  {
   "cell_type": "code",
   "execution_count": 511,
   "outputs": [
    {
     "data": {
      "text/plain": "8874"
     },
     "execution_count": 511,
     "metadata": {},
     "output_type": "execute_result"
    }
   ],
   "source": [
    "len(dtf_t.text_cleaned)"
   ],
   "metadata": {
    "collapsed": false,
    "pycharm": {
     "name": "#%%\n"
    }
   }
  },
  {
   "cell_type": "code",
   "execution_count": 512,
   "outputs": [
    {
     "data": {
      "text/plain": "8874"
     },
     "execution_count": 512,
     "metadata": {},
     "output_type": "execute_result"
    }
   ],
   "source": [
    "# Predict Class\n",
    "Age_pred_rf = np.round(xgreg.predict(X))\n",
    "len(Age_pred_rf)"
   ],
   "metadata": {
    "collapsed": false,
    "pycharm": {
     "name": "#%%\n"
    }
   }
  },
  {
   "cell_type": "code",
   "execution_count": 513,
   "outputs": [],
   "source": [
    "handin = dtf_t[['ID']]"
   ],
   "metadata": {
    "collapsed": false,
    "pycharm": {
     "name": "#%%\n"
    }
   }
  },
  {
   "cell_type": "code",
   "execution_count": 514,
   "outputs": [
    {
     "name": "stderr",
     "output_type": "stream",
     "text": [
      "<ipython-input-514-ae5c7cd46c85>:1: SettingWithCopyWarning: \n",
      "A value is trying to be set on a copy of a slice from a DataFrame.\n",
      "Try using .loc[row_indexer,col_indexer] = value instead\n",
      "\n",
      "See the caveats in the documentation: https://pandas.pydata.org/pandas-docs/stable/user_guide/indexing.html#returning-a-view-versus-a-copy\n",
      "  handin['age_pred'] = Age_pred_rf\n"
     ]
    }
   ],
   "source": [
    "handin['age_pred'] = Age_pred_rf"
   ],
   "metadata": {
    "collapsed": false,
    "pycharm": {
     "name": "#%%\n"
    }
   }
  },
  {
   "cell_type": "code",
   "execution_count": 515,
   "outputs": [
    {
     "data": {
      "text/plain": "        ID  age_pred\n0  1136369      46.0\n1  2684755      49.0\n2   130714      44.0\n3   338096      46.0\n4  2417963      46.0",
      "text/html": "<div>\n<style scoped>\n    .dataframe tbody tr th:only-of-type {\n        vertical-align: middle;\n    }\n\n    .dataframe tbody tr th {\n        vertical-align: top;\n    }\n\n    .dataframe thead th {\n        text-align: right;\n    }\n</style>\n<table border=\"1\" class=\"dataframe\">\n  <thead>\n    <tr style=\"text-align: right;\">\n      <th></th>\n      <th>ID</th>\n      <th>age_pred</th>\n    </tr>\n  </thead>\n  <tbody>\n    <tr>\n      <th>0</th>\n      <td>1136369</td>\n      <td>46.0</td>\n    </tr>\n    <tr>\n      <th>1</th>\n      <td>2684755</td>\n      <td>49.0</td>\n    </tr>\n    <tr>\n      <th>2</th>\n      <td>130714</td>\n      <td>44.0</td>\n    </tr>\n    <tr>\n      <th>3</th>\n      <td>338096</td>\n      <td>46.0</td>\n    </tr>\n    <tr>\n      <th>4</th>\n      <td>2417963</td>\n      <td>46.0</td>\n    </tr>\n  </tbody>\n</table>\n</div>"
     },
     "execution_count": 515,
     "metadata": {},
     "output_type": "execute_result"
    }
   ],
   "source": [
    "handin.head(5)"
   ],
   "metadata": {
    "collapsed": false,
    "pycharm": {
     "name": "#%%\n"
    }
   }
  },
  {
   "cell_type": "code",
   "execution_count": 516,
   "outputs": [],
   "source": [
    "handin.to_csv('C:/Users/Marc/Dropbox/06_ESCP/01_Uni/04_Term 2/10_NLP with Python/02_Assingment 4&5/age.csv')"
   ],
   "metadata": {
    "collapsed": false,
    "pycharm": {
     "name": "#%%\n"
    }
   }
  }
 ],
 "metadata": {
  "kernelspec": {
   "display_name": "Python 3",
   "language": "python",
   "name": "python3"
  },
  "language_info": {
   "codemirror_mode": {
    "name": "ipython",
    "version": 2
   },
   "file_extension": ".py",
   "mimetype": "text/x-python",
   "name": "python",
   "nbconvert_exporter": "python",
   "pygments_lexer": "ipython2",
   "version": "2.7.6"
  }
 },
 "nbformat": 4,
 "nbformat_minor": 0
}